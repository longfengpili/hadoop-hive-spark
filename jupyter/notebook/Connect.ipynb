{
 "cells": [
  {
   "cell_type": "markdown",
   "id": "1b488108-804c-4615-95f8-ddc3c0964306",
   "metadata": {},
   "source": [
    "# connect"
   ]
  },
  {
   "cell_type": "code",
   "execution_count": 2,
   "id": "a329a62d-1850-4c8c-9957-ff43e00874ba",
   "metadata": {
    "execution": {
     "iopub.execute_input": "2023-11-27T05:47:38.173296Z",
     "iopub.status.busy": "2023-11-27T05:47:38.173037Z",
     "iopub.status.idle": "2023-11-27T05:47:38.215673Z",
     "shell.execute_reply": "2023-11-27T05:47:38.214813Z",
     "shell.execute_reply.started": "2023-11-27T05:47:38.173275Z"
    }
   },
   "outputs": [],
   "source": [
    "from pyspark.sql import SparkSession"
   ]
  },
  {
   "cell_type": "code",
   "execution_count": 2,
   "id": "64a9c865-d728-4cc5-9d9e-b9bc1244a80b",
   "metadata": {
    "execution": {
     "iopub.execute_input": "2023-11-27T03:21:13.486120Z",
     "iopub.status.busy": "2023-11-27T03:21:13.485926Z",
     "iopub.status.idle": "2023-11-27T03:21:17.563726Z",
     "shell.execute_reply": "2023-11-27T03:21:17.562938Z",
     "shell.execute_reply.started": "2023-11-27T03:21:13.486102Z"
    }
   },
   "outputs": [
    {
     "name": "stderr",
     "output_type": "stream",
     "text": [
      "Setting default log level to \"WARN\".\n",
      "To adjust logging level use sc.setLogLevel(newLevel). For SparkR, use setLogLevel(newLevel).\n"
     ]
    }
   ],
   "source": [
    "spark1 = SparkSession.builder.master(\"local[*]\").appName('test_spark1').enableHiveSupport().getOrCreate()\n",
    "spark1.stop()"
   ]
  },
  {
   "cell_type": "code",
   "execution_count": 3,
   "id": "a91246e2-65ac-436c-afd4-981a7f9840bc",
   "metadata": {
    "execution": {
     "iopub.execute_input": "2023-11-27T03:21:17.564962Z",
     "iopub.status.busy": "2023-11-27T03:21:17.564753Z",
     "iopub.status.idle": "2023-11-27T03:21:18.291200Z",
     "shell.execute_reply": "2023-11-27T03:21:18.290381Z",
     "shell.execute_reply.started": "2023-11-27T03:21:17.564942Z"
    }
   },
   "outputs": [],
   "source": [
    "spark2 = SparkSession.builder.appName('test_spark2').enableHiveSupport().getOrCreate()\n",
    "spark2.stop()"
   ]
  },
  {
   "cell_type": "code",
   "execution_count": null,
   "id": "00fd5045-39e5-49aa-9357-21fe23b0294b",
   "metadata": {},
   "outputs": [],
   "source": []
  }
 ],
 "metadata": {
  "kernelspec": {
   "display_name": "Python 3 (ipykernel)",
   "language": "python",
   "name": "python3"
  },
  "language_info": {
   "codemirror_mode": {
    "name": "ipython",
    "version": 3
   },
   "file_extension": ".py",
   "mimetype": "text/x-python",
   "name": "python",
   "nbconvert_exporter": "python",
   "pygments_lexer": "ipython3",
   "version": "3.10.12"
  },
  "widgets": {
   "application/vnd.jupyter.widget-state+json": {
    "state": {},
    "version_major": 2,
    "version_minor": 0
   }
  }
 },
 "nbformat": 4,
 "nbformat_minor": 5
}
