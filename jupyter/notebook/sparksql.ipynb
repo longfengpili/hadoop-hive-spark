{
 "cells": [
  {
   "cell_type": "code",
   "execution_count": 1,
   "id": "adfcdf0b-44cf-4af2-8e4a-afdba37e08c7",
   "metadata": {
    "execution": {
     "iopub.execute_input": "2023-11-27T08:25:01.607911Z",
     "iopub.status.busy": "2023-11-27T08:25:01.607692Z",
     "iopub.status.idle": "2023-11-27T08:25:17.945062Z",
     "shell.execute_reply": "2023-11-27T08:25:17.944119Z",
     "shell.execute_reply.started": "2023-11-27T08:25:01.607891Z"
    }
   },
   "outputs": [
    {
     "name": "stderr",
     "output_type": "stream",
     "text": [
      "Setting default log level to \"WARN\".\n",
      "To adjust logging level use sc.setLogLevel(newLevel). For SparkR, use setLogLevel(newLevel).\n"
     ]
    }
   ],
   "source": [
    "from pyspark.sql import SparkSession\n",
    "\n",
    "spark = SparkSession \\\n",
    "    .builder \\\n",
    "    .appName(\"Python Spark SQL basic example\") \\\n",
    "    .config(\"spark.some.config.option\", \"some-value\") \\\n",
    "    .getOrCreate()"
   ]
  },
  {
   "cell_type": "markdown",
   "id": "2afc6769-0ca7-4e20-8ba1-1815178752c4",
   "metadata": {},
   "source": [
    "# load json "
   ]
  },
  {
   "cell_type": "code",
   "execution_count": 2,
   "id": "e5d5c804-3e8a-4c51-8a03-aafddba2d0fb",
   "metadata": {
    "execution": {
     "iopub.execute_input": "2023-11-27T08:25:17.948182Z",
     "iopub.status.busy": "2023-11-27T08:25:17.947537Z",
     "iopub.status.idle": "2023-11-27T08:25:22.576060Z",
     "shell.execute_reply": "2023-11-27T08:25:22.574798Z",
     "shell.execute_reply.started": "2023-11-27T08:25:17.948157Z"
    }
   },
   "outputs": [
    {
     "name": "stderr",
     "output_type": "stream",
     "text": [
      "                                                                                \r"
     ]
    },
    {
     "name": "stdout",
     "output_type": "stream",
     "text": [
      "+----+-------+\n",
      "| age|   name|\n",
      "+----+-------+\n",
      "|NULL|Michael|\n",
      "|  30|   Andy|\n",
      "|  19| Justin|\n",
      "+----+-------+\n",
      "\n"
     ]
    }
   ],
   "source": [
    "df = spark.read.json(\"file:///opt/spark/examples/src/main/resources/people.json\")\n",
    "df.show()"
   ]
  },
  {
   "cell_type": "code",
   "execution_count": 3,
   "id": "4d45ae96-7c56-48f7-9438-593ea501e4e2",
   "metadata": {
    "execution": {
     "iopub.execute_input": "2023-11-27T08:25:22.578257Z",
     "iopub.status.busy": "2023-11-27T08:25:22.577289Z",
     "iopub.status.idle": "2023-11-27T08:25:24.995297Z",
     "shell.execute_reply": "2023-11-27T08:25:24.994222Z",
     "shell.execute_reply.started": "2023-11-27T08:25:22.578208Z"
    }
   },
   "outputs": [
    {
     "name": "stdout",
     "output_type": "stream",
     "text": [
      "root\n",
      " |-- age: long (nullable = true)\n",
      " |-- name: string (nullable = true)\n",
      "\n"
     ]
    },
    {
     "name": "stderr",
     "output_type": "stream",
     "text": [
      "                                                                                \r"
     ]
    },
    {
     "name": "stdout",
     "output_type": "stream",
     "text": [
      "+-------+\n",
      "|   name|\n",
      "+-------+\n",
      "|Michael|\n",
      "|   Andy|\n",
      "| Justin|\n",
      "+-------+\n",
      "\n",
      "+-------+---------+\n",
      "|   name|(age + 1)|\n",
      "+-------+---------+\n",
      "|Michael|     NULL|\n",
      "|   Andy|       31|\n",
      "| Justin|       20|\n",
      "+-------+---------+\n",
      "\n",
      "+---+----+\n",
      "|age|name|\n",
      "+---+----+\n",
      "| 30|Andy|\n",
      "+---+----+\n",
      "\n",
      "+----+-----+\n",
      "| age|count|\n",
      "+----+-----+\n",
      "|  19|    1|\n",
      "|NULL|    1|\n",
      "|  30|    1|\n",
      "+----+-----+\n",
      "\n"
     ]
    }
   ],
   "source": [
    "df.printSchema()\n",
    "df.select(\"name\").show()\n",
    "df.select(df['name'], df['age'] + 1).show()\n",
    "df.filter(df['age'] > 21).show()\n",
    "df.groupBy(\"age\").count().show()"
   ]
  },
  {
   "cell_type": "code",
   "execution_count": 4,
   "id": "be2e939d-f142-45bd-ba7d-a3c37424714c",
   "metadata": {
    "execution": {
     "iopub.execute_input": "2023-11-27T08:25:24.996859Z",
     "iopub.status.busy": "2023-11-27T08:25:24.996290Z",
     "iopub.status.idle": "2023-11-27T08:25:25.164773Z",
     "shell.execute_reply": "2023-11-27T08:25:25.163902Z",
     "shell.execute_reply.started": "2023-11-27T08:25:24.996835Z"
    }
   },
   "outputs": [
    {
     "name": "stdout",
     "output_type": "stream",
     "text": [
      "+----+-------+\n",
      "| age|   name|\n",
      "+----+-------+\n",
      "|NULL|Michael|\n",
      "|  30|   Andy|\n",
      "|  19| Justin|\n",
      "+----+-------+\n",
      "\n"
     ]
    }
   ],
   "source": [
    "df.createOrReplaceTempView(\"people\")\n",
    "\n",
    "sqlDF = spark.sql(\"SELECT * FROM people\")\n",
    "sqlDF.show()\n",
    "\n",
    "# spark.newSession().sql(\"SELECT * FROM global_temp.people\").show()  # 会报错"
   ]
  },
  {
   "cell_type": "code",
   "execution_count": 5,
   "id": "ee9ec3c8-e5cf-43a4-908f-cd367e3c401f",
   "metadata": {
    "execution": {
     "iopub.execute_input": "2023-11-27T08:25:25.166482Z",
     "iopub.status.busy": "2023-11-27T08:25:25.165761Z",
     "iopub.status.idle": "2023-11-27T08:25:25.388192Z",
     "shell.execute_reply": "2023-11-27T08:25:25.387308Z",
     "shell.execute_reply.started": "2023-11-27T08:25:25.166449Z"
    }
   },
   "outputs": [
    {
     "name": "stdout",
     "output_type": "stream",
     "text": [
      "+----+-------+\n",
      "| age|   name|\n",
      "+----+-------+\n",
      "|NULL|Michael|\n",
      "|  30|   Andy|\n",
      "|  19| Justin|\n",
      "+----+-------+\n",
      "\n",
      "+----+-------+\n",
      "| age|   name|\n",
      "+----+-------+\n",
      "|NULL|Michael|\n",
      "|  30|   Andy|\n",
      "|  19| Justin|\n",
      "+----+-------+\n",
      "\n"
     ]
    }
   ],
   "source": [
    "df.createOrReplaceGlobalTempView(\"people\")\n",
    "\n",
    "sqlDF = spark.sql(\"SELECT * FROM people\").show()\n",
    "\n",
    "spark.newSession().sql(\"SELECT * FROM global_temp.people\").show()  # 会报错"
   ]
  },
  {
   "cell_type": "markdown",
   "id": "d1be3d41-4f5a-45c4-9bec-da8a334ad083",
   "metadata": {},
   "source": [
    "# load text"
   ]
  },
  {
   "cell_type": "code",
   "execution_count": 6,
   "id": "ebbcc215-0e29-47b1-8a66-a46244dca546",
   "metadata": {
    "execution": {
     "iopub.execute_input": "2023-11-27T08:25:25.389753Z",
     "iopub.status.busy": "2023-11-27T08:25:25.389240Z",
     "iopub.status.idle": "2023-11-27T08:25:25.420991Z",
     "shell.execute_reply": "2023-11-27T08:25:25.420203Z",
     "shell.execute_reply.started": "2023-11-27T08:25:25.389733Z"
    }
   },
   "outputs": [],
   "source": [
    "adj = spark.read.text('file:///home/jupyter/data/adj_rs1.txt')"
   ]
  },
  {
   "cell_type": "code",
   "execution_count": 7,
   "id": "3a7afba2-aa96-45bf-858c-757dc172429f",
   "metadata": {
    "execution": {
     "iopub.execute_input": "2023-11-27T08:25:25.423573Z",
     "iopub.status.busy": "2023-11-27T08:25:25.422947Z",
     "iopub.status.idle": "2023-11-27T08:25:25.525109Z",
     "shell.execute_reply": "2023-11-27T08:25:25.524229Z",
     "shell.execute_reply.started": "2023-11-27T08:25:25.423551Z"
    }
   },
   "outputs": [
    {
     "name": "stdout",
     "output_type": "stream",
     "text": [
      "+--------------------+\n",
      "|               value|\n",
      "+--------------------+\n",
      "|2023-10-01 00:00:...|\n",
      "|2023-10-01 00:00:...|\n",
      "|2023-10-01 00:00:...|\n",
      "|2023-10-01 00:00:...|\n",
      "|2023-10-01 00:00:...|\n",
      "|2023-10-01 00:00:...|\n",
      "|2023-10-01 00:00:...|\n",
      "|2023-10-01 00:00:...|\n",
      "|2023-10-01 00:00:...|\n",
      "|2023-10-01 00:00:...|\n",
      "|2023-10-01 00:00:...|\n",
      "|2023-10-01 00:00:...|\n",
      "|2023-10-01 00:00:...|\n",
      "|2023-10-01 00:00:...|\n",
      "|2023-10-01 00:00:...|\n",
      "|2023-10-01 00:00:...|\n",
      "|2023-10-01 00:00:...|\n",
      "|2023-10-01 00:01:...|\n",
      "|2023-10-01 00:01:...|\n",
      "|2023-10-01 00:01:...|\n",
      "+--------------------+\n",
      "only showing top 20 rows\n",
      "\n"
     ]
    }
   ],
   "source": [
    "adj.show()"
   ]
  },
  {
   "cell_type": "code",
   "execution_count": null,
   "id": "06774c5b-2746-499b-bd32-c6b173103e48",
   "metadata": {},
   "outputs": [],
   "source": []
  }
 ],
 "metadata": {
  "kernelspec": {
   "display_name": "Python 3 (ipykernel)",
   "language": "python",
   "name": "python3"
  },
  "language_info": {
   "codemirror_mode": {
    "name": "ipython",
    "version": 3
   },
   "file_extension": ".py",
   "mimetype": "text/x-python",
   "name": "python",
   "nbconvert_exporter": "python",
   "pygments_lexer": "ipython3",
   "version": "3.10.12"
  },
  "widgets": {
   "application/vnd.jupyter.widget-state+json": {
    "state": {},
    "version_major": 2,
    "version_minor": 0
   }
  }
 },
 "nbformat": 4,
 "nbformat_minor": 5
}
