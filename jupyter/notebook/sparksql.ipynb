{
 "cells": [
  {
   "cell_type": "code",
   "execution_count": 5,
   "id": "fc56aec4-d5ae-43bc-9928-4c24bf355f99",
   "metadata": {
    "execution": {
     "iopub.execute_input": "2023-11-27T06:03:19.438663Z",
     "iopub.status.busy": "2023-11-27T06:03:19.438426Z",
     "iopub.status.idle": "2023-11-27T06:03:19.446043Z",
     "shell.execute_reply": "2023-11-27T06:03:19.445182Z",
     "shell.execute_reply.started": "2023-11-27T06:03:19.438644Z"
    }
   },
   "outputs": [],
   "source": [
    "import findspark\n",
    "findspark.init('/opt/spark')"
   ]
  },
  {
   "cell_type": "code",
   "execution_count": 6,
   "id": "adfcdf0b-44cf-4af2-8e4a-afdba37e08c7",
   "metadata": {
    "execution": {
     "iopub.execute_input": "2023-11-27T06:03:20.722511Z",
     "iopub.status.busy": "2023-11-27T06:03:20.722256Z",
     "iopub.status.idle": "2023-11-27T06:03:20.730660Z",
     "shell.execute_reply": "2023-11-27T06:03:20.729729Z",
     "shell.execute_reply.started": "2023-11-27T06:03:20.722490Z"
    }
   },
   "outputs": [],
   "source": [
    "from pyspark.sql import SparkSession\n",
    "\n",
    "spark = SparkSession \\\n",
    "    .builder \\\n",
    "    .appName(\"Python Spark SQL basic example\") \\\n",
    "    .config(\"spark.some.config.option\", \"some-value\") \\\n",
    "    .getOrCreate()"
   ]
  },
  {
   "cell_type": "code",
   "execution_count": 9,
   "id": "e5d5c804-3e8a-4c51-8a03-aafddba2d0fb",
   "metadata": {
    "execution": {
     "iopub.execute_input": "2023-11-27T06:09:02.466088Z",
     "iopub.status.busy": "2023-11-27T06:09:02.465466Z",
     "iopub.status.idle": "2023-11-27T06:09:07.234630Z",
     "shell.execute_reply": "2023-11-27T06:09:07.233313Z",
     "shell.execute_reply.started": "2023-11-27T06:09:02.466065Z"
    }
   },
   "outputs": [
    {
     "name": "stderr",
     "output_type": "stream",
     "text": [
      "[Stage 1:>                                                          (0 + 1) / 1]\r"
     ]
    },
    {
     "name": "stdout",
     "output_type": "stream",
     "text": [
      "+----+-------+\n",
      "| age|   name|\n",
      "+----+-------+\n",
      "|NULL|Michael|\n",
      "|  30|   Andy|\n",
      "|  19| Justin|\n",
      "+----+-------+\n",
      "\n"
     ]
    },
    {
     "name": "stderr",
     "output_type": "stream",
     "text": [
      "                                                                                \r"
     ]
    }
   ],
   "source": [
    "df = spark.read.json(\"file:///opt/spark/examples/src/main/resources/people.json\")\n",
    "df.show()"
   ]
  },
  {
   "cell_type": "code",
   "execution_count": 10,
   "id": "4d45ae96-7c56-48f7-9438-593ea501e4e2",
   "metadata": {
    "execution": {
     "iopub.execute_input": "2023-11-27T06:10:32.356393Z",
     "iopub.status.busy": "2023-11-27T06:10:32.356124Z",
     "iopub.status.idle": "2023-11-27T06:10:33.747329Z",
     "shell.execute_reply": "2023-11-27T06:10:33.746437Z",
     "shell.execute_reply.started": "2023-11-27T06:10:32.356372Z"
    }
   },
   "outputs": [
    {
     "name": "stdout",
     "output_type": "stream",
     "text": [
      "root\n",
      " |-- age: long (nullable = true)\n",
      " |-- name: string (nullable = true)\n",
      "\n",
      "+-------+\n",
      "|   name|\n",
      "+-------+\n",
      "|Michael|\n",
      "|   Andy|\n",
      "| Justin|\n",
      "+-------+\n",
      "\n",
      "+-------+---------+\n",
      "|   name|(age + 1)|\n",
      "+-------+---------+\n",
      "|Michael|     NULL|\n",
      "|   Andy|       31|\n",
      "| Justin|       20|\n",
      "+-------+---------+\n",
      "\n",
      "+---+----+\n",
      "|age|name|\n",
      "+---+----+\n",
      "| 30|Andy|\n",
      "+---+----+\n",
      "\n",
      "+----+-----+\n",
      "| age|count|\n",
      "+----+-----+\n",
      "|  19|    1|\n",
      "|NULL|    1|\n",
      "|  30|    1|\n",
      "+----+-----+\n",
      "\n"
     ]
    }
   ],
   "source": [
    "df.printSchema()\n",
    "df.select(\"name\").show()\n",
    "df.select(df['name'], df['age'] + 1).show()\n",
    "df.filter(df['age'] > 21).show()\n",
    "df.groupBy(\"age\").count().show()"
   ]
  },
  {
   "cell_type": "code",
   "execution_count": 13,
   "id": "be2e939d-f142-45bd-ba7d-a3c37424714c",
   "metadata": {
    "execution": {
     "iopub.execute_input": "2023-11-27T06:12:15.274449Z",
     "iopub.status.busy": "2023-11-27T06:12:15.274209Z",
     "iopub.status.idle": "2023-11-27T06:12:15.375832Z",
     "shell.execute_reply": "2023-11-27T06:12:15.375024Z",
     "shell.execute_reply.started": "2023-11-27T06:12:15.274429Z"
    }
   },
   "outputs": [
    {
     "name": "stdout",
     "output_type": "stream",
     "text": [
      "+----+-------+\n",
      "| age|   name|\n",
      "+----+-------+\n",
      "|NULL|Michael|\n",
      "|  30|   Andy|\n",
      "|  19| Justin|\n",
      "+----+-------+\n",
      "\n"
     ]
    }
   ],
   "source": [
    "df.createOrReplaceTempView(\"people\")\n",
    "\n",
    "sqlDF = spark.sql(\"SELECT * FROM people\")\n",
    "sqlDF.show()\n",
    "\n",
    "# spark.newSession().sql(\"SELECT * FROM global_temp.people\").show()  # 会报错"
   ]
  },
  {
   "cell_type": "code",
   "execution_count": 16,
   "id": "ee9ec3c8-e5cf-43a4-908f-cd367e3c401f",
   "metadata": {
    "execution": {
     "iopub.execute_input": "2023-11-27T06:13:34.772387Z",
     "iopub.status.busy": "2023-11-27T06:13:34.772121Z",
     "iopub.status.idle": "2023-11-27T06:13:34.940406Z",
     "shell.execute_reply": "2023-11-27T06:13:34.939409Z",
     "shell.execute_reply.started": "2023-11-27T06:13:34.772366Z"
    }
   },
   "outputs": [
    {
     "name": "stdout",
     "output_type": "stream",
     "text": [
      "+----+-------+\n",
      "| age|   name|\n",
      "+----+-------+\n",
      "|NULL|Michael|\n",
      "|  30|   Andy|\n",
      "|  19| Justin|\n",
      "+----+-------+\n",
      "\n",
      "+----+-------+\n",
      "| age|   name|\n",
      "+----+-------+\n",
      "|NULL|Michael|\n",
      "|  30|   Andy|\n",
      "|  19| Justin|\n",
      "+----+-------+\n",
      "\n"
     ]
    }
   ],
   "source": [
    "df.createOrReplaceGlobalTempView(\"people\")\n",
    "\n",
    "sqlDF = spark.sql(\"SELECT * FROM people\").show()\n",
    "\n",
    "spark.newSession().sql(\"SELECT * FROM global_temp.people\").show()  # 会报错"
   ]
  },
  {
   "cell_type": "code",
   "execution_count": null,
   "id": "a1e4d98c-9ac7-4a2c-871d-427d579ac4cd",
   "metadata": {},
   "outputs": [],
   "source": []
  }
 ],
 "metadata": {
  "kernelspec": {
   "display_name": "Python 3 (ipykernel)",
   "language": "python",
   "name": "python3"
  },
  "language_info": {
   "codemirror_mode": {
    "name": "ipython",
    "version": 3
   },
   "file_extension": ".py",
   "mimetype": "text/x-python",
   "name": "python",
   "nbconvert_exporter": "python",
   "pygments_lexer": "ipython3",
   "version": "3.10.12"
  },
  "widgets": {
   "application/vnd.jupyter.widget-state+json": {
    "state": {},
    "version_major": 2,
    "version_minor": 0
   }
  }
 },
 "nbformat": 4,
 "nbformat_minor": 5
}
