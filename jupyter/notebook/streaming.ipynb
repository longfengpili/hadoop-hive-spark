{
 "cells": [
  {
   "cell_type": "markdown",
   "id": "1b488108-804c-4615-95f8-ddc3c0964306",
   "metadata": {},
   "source": [
    "# [structured streaming](https://spark.apache.org/docs/latest/structured-streaming-programming-guide.html#quick-example)"
   ]
  },
  {
   "cell_type": "markdown",
   "id": "b17a0fb2-013d-4968-8ca3-1f8d11fa6f25",
   "metadata": {},
   "source": [
    "在 Apache Spark Structured Streaming 中支持的一些主要数据源格式及其使用示例如下：\r\n",
    "\r\n",
    "1. **文本文件（Text）**：\r\n",
    "   ```python\r\n",
    "   text_df = spark.readStream.format(\"text\").load(\"/path/to/directory\")\r\n",
    "   ```\r\n",
    "\r\n",
    "2. **CSV 文件**：\r\n",
    "   ```python\r\n",
    "   csv_df = spark.readStream.format(\"csv\").option(\"header\", \"true\").load(\"/path/to/directory\")\r\n",
    "   ```\r\n",
    "\r\n",
    "3. **JSON 文件**：\r\n",
    "   ```python\r\n",
    "   json_df = spark.readStream.format(\"json\").load(\"/path/to/directory\")\r\n",
    "   ```\r\n",
    "\r\n",
    "4. **ORC 文件**：\r\n",
    "   ```python\r\n",
    "   orc_df = spark.readStream.format(\"orc\").load(\"/path/to/directory\")\r\n",
    "   ```\r\n",
    "\r\n",
    "5. **Parquet 文件**：\r\n",
    "   ```python\r\n",
    "   parquet_df = spark.readStream.format(\"parquet\").load(\"/path/to/directory\")\r\n",
    "   ```\r\n",
    "\r\n",
    "6. **从 Kafka 读取**：\r\n",
    "   ```python\r\n",
    "   kafka_df = spark.readStream.format(\"kafka\").option(\"kafka.bootstrap.servers\", \"host:port\").option(\"subscribe\", \"topic\").load()\r\n",
    "   ```\r\n",
    "\r\n",
    "7. **套接字（Socket，用于测试）**：\r\n",
    "   ```python\r\n",
    "   socket_df = spark.readStream.format(\"socket\").option(\"host\", \"localhost\").option(\"port\", 9999).load()\r\n",
    "   ```\r\n",
    "\r\n",
    "8. **Rate（用于测试）**：\r\n",
    "   ```python\r\n",
    "   rate_df = spark.readStream.format(\"rate\").load()\r\n",
    "   ```\r\n",
    "\r\n",
    "在分布式环境中， **确保指定的路径或资源对所有 Spark 节点可访问**。"
   ]
  },
  {
   "cell_type": "markdown",
   "id": "4457250f-6bab-4ea8-b801-33179644ae11",
   "metadata": {},
   "source": [
    "# csv"
   ]
  },
  {
   "cell_type": "markdown",
   "id": "4532b2f6-2a52-4522-834a-6375930b442d",
   "metadata": {},
   "source": [
    "## csv1"
   ]
  },
  {
   "cell_type": "code",
   "execution_count": 8,
   "id": "00fd5045-39e5-49aa-9357-21fe23b0294b",
   "metadata": {
    "execution": {
     "iopub.execute_input": "2023-12-04T07:04:32.054489Z",
     "iopub.status.busy": "2023-12-04T07:04:32.053940Z",
     "iopub.status.idle": "2023-12-04T07:04:32.058960Z",
     "shell.execute_reply": "2023-12-04T07:04:32.057906Z",
     "shell.execute_reply.started": "2023-12-04T07:04:32.054458Z"
    }
   },
   "outputs": [],
   "source": [
    "from pyspark.sql import SparkSession\n",
    "from pyspark.sql.types import *"
   ]
  },
  {
   "cell_type": "code",
   "execution_count": 9,
   "id": "31eea3aa-153d-4218-9166-15b144e24737",
   "metadata": {
    "execution": {
     "iopub.execute_input": "2023-12-04T07:04:32.512358Z",
     "iopub.status.busy": "2023-12-04T07:04:32.511606Z",
     "iopub.status.idle": "2023-12-04T07:04:32.519203Z",
     "shell.execute_reply": "2023-12-04T07:04:32.517939Z",
     "shell.execute_reply.started": "2023-12-04T07:04:32.512331Z"
    }
   },
   "outputs": [],
   "source": [
    "file = 'file:///home/jupyter/data/test'\n",
    "\n",
    "# 定义 CSV 文件的 schema\n",
    "schema = StructType([\n",
    "    StructField('time', TimestampType()),\n",
    "    StructField('app_id', StringType()),\n",
    "    StructField('store', StringType()),\n",
    "    StructField('adid', StringType()),\n",
    "    StructField('openid', StringType()),\n",
    "    StructField('activity_kind', StringType()),\n",
    "    StructField('created_at', StringType()),\n",
    "    StructField('installed_at', StringType()),\n",
    "    StructField('reattributed_at', StringType()),\n",
    "    StructField('network_name', StringType()),\n",
    "    StructField('country', StringType()),\n",
    "    StructField('device_name', StringType()),\n",
    "    StructField('device_type', StringType()),\n",
    "    StructField('os_name', StringType()),\n",
    "    StructField('timezone', StringType()),\n",
    "    StructField('event_name', StringType()),\n",
    "    StructField('revenue_float', StringType()),\n",
    "    StructField('revenue', StringType()),\n",
    "    StructField('currency', StringType()),\n",
    "    StructField('revenue_usd', StringType()),\n",
    "    StructField('reporting_revenue', StringType())\n",
    "])"
   ]
  },
  {
   "cell_type": "code",
   "execution_count": 10,
   "id": "e8e62c39-64ba-472b-adb9-72dbdd9df104",
   "metadata": {
    "execution": {
     "iopub.execute_input": "2023-12-04T07:04:34.176615Z",
     "iopub.status.busy": "2023-12-04T07:04:34.176191Z",
     "iopub.status.idle": "2023-12-04T07:04:37.441646Z",
     "shell.execute_reply": "2023-12-04T07:04:37.440682Z",
     "shell.execute_reply.started": "2023-12-04T07:04:34.176592Z"
    }
   },
   "outputs": [
    {
     "name": "stderr",
     "output_type": "stream",
     "text": [
      "23/12/04 07:04:34 WARN SparkSession: Using an existing Spark session; only runtime SQL configurations will take effect.\n",
      "23/12/04 07:04:34 WARN ResolveWriteToStream: Temporary checkpoint location created which is deleted normally when the query didn't fail: /tmp/temporary-4ec6c3f1-14a0-4112-bb0a-9385a01c5b52. If it's required to delete it under any circumstances, please set spark.sql.streaming.forceDeleteTempCheckpointLocation to true. Important to know deleting temp checkpoint folder is best effort.\n",
      "23/12/04 07:04:34 WARN ResolveWriteToStream: spark.sql.adaptive.enabled is not supported in streaming DataFrames/Datasets and will be disabled.\n",
      "                                                                                \r"
     ]
    },
    {
     "name": "stdout",
     "output_type": "stream",
     "text": [
      "-------------------------------------------\n",
      "Batch: 0\n",
      "-------------------------------------------\n",
      "+-------------------+--------------------+------+--------------------+------+-------------+----------+------------+---------------+--------------------+-------+-----------+-----------+-------+--------+----------+-------------+-------+--------+-----------+-----------------+\n",
      "|               time|              app_id| store|                adid|openid|activity_kind|created_at|installed_at|reattributed_at|        network_name|country|device_name|device_type|os_name|timezone|event_name|revenue_float|revenue|currency|revenue_usd|reporting_revenue|\n",
      "+-------------------+--------------------+------+--------------------+------+-------------+----------+------------+---------------+--------------------+-------+-----------+-----------+-------+--------+----------+-------------+-------+--------+-----------+-----------------+\n",
      "|2023-10-01 00:00:00|          1456241577|itunes|041bf78c9dc6dd5f5...|  NULL|      session|      NULL|  1636532102|           NULL|             RWD-ady|     jp|       NULL|       NULL|    ios|UTC+0900|      NULL|         NULL|   NULL|    NULL|       NULL|             NULL|\n",
      "|2023-10-01 00:00:09|          1456241577|itunes|4c8abb5e79e5291c4...|  NULL|      session|      NULL|  1636646821|           NULL|             Organic|     jp|       NULL|       NULL|    ios|UTC+0900|      NULL|         NULL|   NULL|    NULL|       NULL|             NULL|\n",
      "|2023-10-01 00:00:12|          1456241577|itunes|884ca98e510fb4a1a...|  NULL|      session|      NULL|  1620095149|           NULL|          non-moloco|     jp|       NULL|       NULL|    ios|UTC+0900|      NULL|         NULL|   NULL|    NULL|       NULL|             NULL|\n",
      "|2023-10-01 00:00:15|jp.coolfactory.an...|google|66a133a4298b6690c...|  NULL|      session|      NULL|  1679598383|           NULL|      Google Ads ACI|     jp|       NULL|       NULL|android|UTC+0900|      NULL|         NULL|   NULL|    NULL|       NULL|             NULL|\n",
      "|2023-10-01 00:00:18|          1456241577|itunes|32b8510a94ceb0e0c...|  NULL|      session|      NULL|  1638368462|           NULL|             Organic|     jp|       NULL|       NULL|    ios|UTC+0900|      NULL|         NULL|   NULL|    NULL|       NULL|             NULL|\n",
      "|2023-10-01 00:00:22|          1456241577|itunes|a3ca2b21ef60ae6e7...|  NULL|      session|      NULL|  1646869256|           NULL|    Apple Search Ads|     tw|       NULL|       NULL|    ios|UTC+0800|      NULL|         NULL|   NULL|    NULL|       NULL|             NULL|\n",
      "|2023-10-01 00:00:23|jp.coolfactory.an...|google|d23c46b8999eedd24...|  NULL|      session|      NULL|  1642321157|           NULL|             Organic|     id|       NULL|       NULL|android|UTC+0700|      NULL|         NULL|   NULL|    NULL|       NULL|             NULL|\n",
      "|2023-10-01 00:00:24|jp.coolfactory.an...|google|7254c3b7c6a3e4007...|  NULL|      session|      NULL|  1607615341|           NULL|      Google Ads ACI|     jp|       NULL|       NULL|android|UTC+0900|      NULL|         NULL|   NULL|    NULL|       NULL|             NULL|\n",
      "|2023-10-01 00:00:29|          1456241577|itunes|e5a6af6d1a2d1d062...|  NULL|      session|      NULL|  1628169976|           NULL|non-metaps-fukuro...|     jp|       NULL|       NULL|    ios|UTC+0900|      NULL|         NULL|   NULL|    NULL|       NULL|             NULL|\n",
      "|2023-10-01 00:00:29|          1456241577|itunes|f1982d8025c37e7d0...|  NULL|      session|      NULL|  1625460493|           NULL|      Google Ads ACI|     jp|       NULL|       NULL|    ios|UTC+0900|      NULL|         NULL|   NULL|    NULL|       NULL|             NULL|\n",
      "|2023-10-01 00:00:32|          1456241577|itunes|06cd3071cef684ec0...|  NULL|      session|      NULL|  1631391044|           NULL|             Organic|     jp|       NULL|       NULL|    ios|UTC+0900|      NULL|         NULL|   NULL|    NULL|       NULL|             NULL|\n",
      "|2023-10-01 00:00:35|          1456241577|itunes|c3f81252915f8f8f5...|  NULL|      session|      NULL|  1616259239|           NULL|         non-ady-CPE|     jp|       NULL|       NULL|    ios|UTC+0900|      NULL|         NULL|   NULL|    NULL|       NULL|             NULL|\n",
      "|2023-10-01 00:00:37|          1456241577|itunes|6a1de06e2b2f8c956...|  NULL|      session|      NULL|  1641304816|           NULL| non-zucks AdNetwork|     jp|       NULL|       NULL|    ios|UTC+0900|      NULL|         NULL|   NULL|    NULL|       NULL|             NULL|\n",
      "|2023-10-01 00:00:37|jp.coolfactory.an...|google|b98cb5c6ea7daf7a9...|  NULL|      session|      NULL|  1621509542|           NULL|      Google Ads ACI|     jp|       NULL|       NULL|android|UTC+0900|      NULL|         NULL|   NULL|    NULL|       NULL|             NULL|\n",
      "|2023-10-01 00:00:57|jp.coolfactory.an...|google|781fd522434566dfd...|  NULL|      session|      NULL|  1689100484|           NULL|             Organic|     cn|       NULL|       NULL|android|UTC+0800|      NULL|         NULL|   NULL|    NULL|       NULL|             NULL|\n",
      "|2023-10-01 00:00:57|jp.coolfactory.an...|google|781fd522434566dfd...|  NULL|      session|      NULL|  1689100484|           NULL|             Organic|     cn|       NULL|       NULL|android|UTC+0800|      NULL|         NULL|   NULL|    NULL|       NULL|             NULL|\n",
      "|2023-10-01 00:00:59|jp.coolfactory.an...|google|ba2ec385d1c9635bd...|  NULL|      session|      NULL|  1682172146|           NULL|             Organic|     jp|       NULL|       NULL|android|UTC+0900|      NULL|         NULL|   NULL|    NULL|       NULL|             NULL|\n",
      "|2023-10-01 00:01:00|          1456241577|itunes|202af068c7e098436...|  NULL|      session|      NULL|  1667063246|           NULL|             Organic|     my|       NULL|       NULL|    ios|UTC+0800|      NULL|         NULL|   NULL|    NULL|       NULL|             NULL|\n",
      "|2023-10-01 00:01:03|jp.coolfactory.an...|google|22228746f2872887b...|  NULL|      session|      NULL|  1638758266|           NULL|      Google Ads ACI|     jp|       NULL|       NULL|android|UTC+0900|      NULL|         NULL|   NULL|    NULL|       NULL|             NULL|\n",
      "|2023-10-01 00:01:09|jp.coolfactory.an...|google|1f3314dff9eec7e18...|  NULL|      session|      NULL|  1688981951|           NULL|             Organic|     jp|       NULL|       NULL|android|UTC+0900|      NULL|         NULL|   NULL|    NULL|       NULL|             NULL|\n",
      "+-------------------+--------------------+------+--------------------+------+-------------+----------+------------+---------------+--------------------+-------+-----------+-----------+-------+--------+----------+-------------+-------+--------+-----------+-----------------+\n",
      "only showing top 20 rows\n",
      "\n"
     ]
    },
    {
     "data": {
      "text/plain": [
       "False"
      ]
     },
     "execution_count": 10,
     "metadata": {},
     "output_type": "execute_result"
    },
    {
     "data": {
      "text/plain": [
       "{'message': 'Waiting for data to arrive',\n",
       " 'isDataAvailable': False,\n",
       " 'isTriggerActive': False}"
      ]
     },
     "execution_count": 10,
     "metadata": {},
     "output_type": "execute_result"
    },
    {
     "data": {
      "text/plain": [
       "{'message': 'Stopped', 'isDataAvailable': False, 'isTriggerActive': False}"
      ]
     },
     "execution_count": 10,
     "metadata": {},
     "output_type": "execute_result"
    }
   ],
   "source": [
    "# 创建 SparkSession\n",
    "spark = SparkSession.builder.appName(\"StructuredStreamingCSV1\").getOrCreate()\n",
    "\n",
    "# 读取 CSV 文件\n",
    "csvDF = spark.readStream \\\n",
    "    .option(\"sep\", \",\") \\\n",
    "    .schema(schema) \\\n",
    "    .csv(file)\n",
    "\n",
    "# 定义数据处理逻辑\n",
    "# 例如，简单的转换或聚合操作\n",
    "\n",
    "# 定义输出接收器，例如输出到控制台\n",
    "query = csvDF.writeStream \\\n",
    "    .outputMode(\"append\") \\\n",
    "    .format(\"console\") \\\n",
    "    .start()\n",
    "\n",
    "# 等待流处理结束\n",
    "query.awaitTermination(timeout=3)\n",
    "query.status\n",
    "query.stop()\n",
    "# query.lastProgress\n",
    "query.status\n",
    "\n",
    "spark.stop()"
   ]
  },
  {
   "cell_type": "markdown",
   "id": "ef66a43d-7c84-4618-8b46-3b09f2640625",
   "metadata": {},
   "source": [
    "## csv2 "
   ]
  },
  {
   "cell_type": "code",
   "execution_count": 11,
   "id": "b6bbe28e-85c8-4b57-b516-9685f492e01b",
   "metadata": {
    "execution": {
     "iopub.execute_input": "2023-12-04T07:04:37.452948Z",
     "iopub.status.busy": "2023-12-04T07:04:37.452305Z",
     "iopub.status.idle": "2023-12-04T07:04:45.814914Z",
     "shell.execute_reply": "2023-12-04T07:04:45.813664Z",
     "shell.execute_reply.started": "2023-12-04T07:04:37.452911Z"
    }
   },
   "outputs": [],
   "source": [
    "# 创建 SparkSession\n",
    "spark = SparkSession.builder.appName(\"StructuredStreamingCSV2\").getOrCreate()\n",
    "\n",
    "file = 'file:///home/jupyter/data/test'\n",
    "# 读取 CSV 文件\n",
    "csvdf = spark.readStream.format(\"csv\") \\\n",
    "        .option(\"header\", \"false\") \\\n",
    "        .schema(schema) \\\n",
    "        .load(file)"
   ]
  },
  {
   "cell_type": "code",
   "execution_count": 12,
   "id": "3707958f-cb08-4f68-acf9-c275cdf9621c",
   "metadata": {
    "execution": {
     "iopub.execute_input": "2023-12-04T07:04:45.869785Z",
     "iopub.status.busy": "2023-12-04T07:04:45.868870Z",
     "iopub.status.idle": "2023-12-04T07:04:56.272581Z",
     "shell.execute_reply": "2023-12-04T07:04:56.271830Z",
     "shell.execute_reply.started": "2023-12-04T07:04:45.869753Z"
    }
   },
   "outputs": [
    {
     "name": "stderr",
     "output_type": "stream",
     "text": [
      "23/12/04 07:04:45 WARN ResolveWriteToStream: Temporary checkpoint location created which is deleted normally when the query didn't fail: /tmp/temporary-bfe1c123-e309-44bb-ba7e-352a67ba52f5. If it's required to delete it under any circumstances, please set spark.sql.streaming.forceDeleteTempCheckpointLocation to true. Important to know deleting temp checkpoint folder is best effort.\n",
      "23/12/04 07:04:45 WARN ResolveWriteToStream: spark.sql.adaptive.enabled is not supported in streaming DataFrames/Datasets and will be disabled.\n",
      "                                                                                \r"
     ]
    },
    {
     "name": "stdout",
     "output_type": "stream",
     "text": [
      "-------------------------------------------\n",
      "Batch: 0\n",
      "-------------------------------------------\n",
      "+-------------------+--------------------+------+--------------------+------+-------------+----------+------------+---------------+--------------------+-------+-----------+-----------+-------+--------+----------+-------------+-------+--------+-----------+-----------------+\n",
      "|               time|              app_id| store|                adid|openid|activity_kind|created_at|installed_at|reattributed_at|        network_name|country|device_name|device_type|os_name|timezone|event_name|revenue_float|revenue|currency|revenue_usd|reporting_revenue|\n",
      "+-------------------+--------------------+------+--------------------+------+-------------+----------+------------+---------------+--------------------+-------+-----------+-----------+-------+--------+----------+-------------+-------+--------+-----------+-----------------+\n",
      "|2023-10-01 00:00:00|          1456241577|itunes|041bf78c9dc6dd5f5...|  NULL|      session|      NULL|  1636532102|           NULL|             RWD-ady|     jp|       NULL|       NULL|    ios|UTC+0900|      NULL|         NULL|   NULL|    NULL|       NULL|             NULL|\n",
      "|2023-10-01 00:00:09|          1456241577|itunes|4c8abb5e79e5291c4...|  NULL|      session|      NULL|  1636646821|           NULL|             Organic|     jp|       NULL|       NULL|    ios|UTC+0900|      NULL|         NULL|   NULL|    NULL|       NULL|             NULL|\n",
      "|2023-10-01 00:00:12|          1456241577|itunes|884ca98e510fb4a1a...|  NULL|      session|      NULL|  1620095149|           NULL|          non-moloco|     jp|       NULL|       NULL|    ios|UTC+0900|      NULL|         NULL|   NULL|    NULL|       NULL|             NULL|\n",
      "|2023-10-01 00:00:15|jp.coolfactory.an...|google|66a133a4298b6690c...|  NULL|      session|      NULL|  1679598383|           NULL|      Google Ads ACI|     jp|       NULL|       NULL|android|UTC+0900|      NULL|         NULL|   NULL|    NULL|       NULL|             NULL|\n",
      "|2023-10-01 00:00:18|          1456241577|itunes|32b8510a94ceb0e0c...|  NULL|      session|      NULL|  1638368462|           NULL|             Organic|     jp|       NULL|       NULL|    ios|UTC+0900|      NULL|         NULL|   NULL|    NULL|       NULL|             NULL|\n",
      "|2023-10-01 00:00:22|          1456241577|itunes|a3ca2b21ef60ae6e7...|  NULL|      session|      NULL|  1646869256|           NULL|    Apple Search Ads|     tw|       NULL|       NULL|    ios|UTC+0800|      NULL|         NULL|   NULL|    NULL|       NULL|             NULL|\n",
      "|2023-10-01 00:00:23|jp.coolfactory.an...|google|d23c46b8999eedd24...|  NULL|      session|      NULL|  1642321157|           NULL|             Organic|     id|       NULL|       NULL|android|UTC+0700|      NULL|         NULL|   NULL|    NULL|       NULL|             NULL|\n",
      "|2023-10-01 00:00:24|jp.coolfactory.an...|google|7254c3b7c6a3e4007...|  NULL|      session|      NULL|  1607615341|           NULL|      Google Ads ACI|     jp|       NULL|       NULL|android|UTC+0900|      NULL|         NULL|   NULL|    NULL|       NULL|             NULL|\n",
      "|2023-10-01 00:00:29|          1456241577|itunes|e5a6af6d1a2d1d062...|  NULL|      session|      NULL|  1628169976|           NULL|non-metaps-fukuro...|     jp|       NULL|       NULL|    ios|UTC+0900|      NULL|         NULL|   NULL|    NULL|       NULL|             NULL|\n",
      "|2023-10-01 00:00:29|          1456241577|itunes|f1982d8025c37e7d0...|  NULL|      session|      NULL|  1625460493|           NULL|      Google Ads ACI|     jp|       NULL|       NULL|    ios|UTC+0900|      NULL|         NULL|   NULL|    NULL|       NULL|             NULL|\n",
      "|2023-10-01 00:00:32|          1456241577|itunes|06cd3071cef684ec0...|  NULL|      session|      NULL|  1631391044|           NULL|             Organic|     jp|       NULL|       NULL|    ios|UTC+0900|      NULL|         NULL|   NULL|    NULL|       NULL|             NULL|\n",
      "|2023-10-01 00:00:35|          1456241577|itunes|c3f81252915f8f8f5...|  NULL|      session|      NULL|  1616259239|           NULL|         non-ady-CPE|     jp|       NULL|       NULL|    ios|UTC+0900|      NULL|         NULL|   NULL|    NULL|       NULL|             NULL|\n",
      "|2023-10-01 00:00:37|          1456241577|itunes|6a1de06e2b2f8c956...|  NULL|      session|      NULL|  1641304816|           NULL| non-zucks AdNetwork|     jp|       NULL|       NULL|    ios|UTC+0900|      NULL|         NULL|   NULL|    NULL|       NULL|             NULL|\n",
      "|2023-10-01 00:00:37|jp.coolfactory.an...|google|b98cb5c6ea7daf7a9...|  NULL|      session|      NULL|  1621509542|           NULL|      Google Ads ACI|     jp|       NULL|       NULL|android|UTC+0900|      NULL|         NULL|   NULL|    NULL|       NULL|             NULL|\n",
      "|2023-10-01 00:00:57|jp.coolfactory.an...|google|781fd522434566dfd...|  NULL|      session|      NULL|  1689100484|           NULL|             Organic|     cn|       NULL|       NULL|android|UTC+0800|      NULL|         NULL|   NULL|    NULL|       NULL|             NULL|\n",
      "|2023-10-01 00:00:57|jp.coolfactory.an...|google|781fd522434566dfd...|  NULL|      session|      NULL|  1689100484|           NULL|             Organic|     cn|       NULL|       NULL|android|UTC+0800|      NULL|         NULL|   NULL|    NULL|       NULL|             NULL|\n",
      "|2023-10-01 00:00:59|jp.coolfactory.an...|google|ba2ec385d1c9635bd...|  NULL|      session|      NULL|  1682172146|           NULL|             Organic|     jp|       NULL|       NULL|android|UTC+0900|      NULL|         NULL|   NULL|    NULL|       NULL|             NULL|\n",
      "|2023-10-01 00:01:00|          1456241577|itunes|202af068c7e098436...|  NULL|      session|      NULL|  1667063246|           NULL|             Organic|     my|       NULL|       NULL|    ios|UTC+0800|      NULL|         NULL|   NULL|    NULL|       NULL|             NULL|\n",
      "|2023-10-01 00:01:03|jp.coolfactory.an...|google|22228746f2872887b...|  NULL|      session|      NULL|  1638758266|           NULL|      Google Ads ACI|     jp|       NULL|       NULL|android|UTC+0900|      NULL|         NULL|   NULL|    NULL|       NULL|             NULL|\n",
      "|2023-10-01 00:01:09|jp.coolfactory.an...|google|1f3314dff9eec7e18...|  NULL|      session|      NULL|  1688981951|           NULL|             Organic|     jp|       NULL|       NULL|android|UTC+0900|      NULL|         NULL|   NULL|    NULL|       NULL|             NULL|\n",
      "+-------------------+--------------------+------+--------------------+------+-------------+----------+------------+---------------+--------------------+-------+-----------+-----------+-------+--------+----------+-------------+-------+--------+-----------+-----------------+\n",
      "only showing top 20 rows\n",
      "\n"
     ]
    },
    {
     "data": {
      "text/plain": [
       "False"
      ]
     },
     "execution_count": 12,
     "metadata": {},
     "output_type": "execute_result"
    },
    {
     "data": {
      "text/plain": [
       "{'message': 'Waiting for data to arrive',\n",
       " 'isDataAvailable': False,\n",
       " 'isTriggerActive': False}"
      ]
     },
     "execution_count": 12,
     "metadata": {},
     "output_type": "execute_result"
    },
    {
     "data": {
      "text/plain": [
       "{'message': 'Stopped', 'isDataAvailable': False, 'isTriggerActive': False}"
      ]
     },
     "execution_count": 12,
     "metadata": {},
     "output_type": "execute_result"
    }
   ],
   "source": [
    "query = csvdf.writeStream.format('console').start()\n",
    "query.awaitTermination(timeout=10)\n",
    "\n",
    "query.status\n",
    "query.stop()\n",
    "# query.lastProgress\n",
    "query.status\n",
    "\n",
    "spark.stop()"
   ]
  },
  {
   "cell_type": "markdown",
   "id": "70ae2418-66d7-4bb8-972e-da1ca583bb42",
   "metadata": {},
   "source": [
    "# output"
   ]
  },
  {
   "cell_type": "markdown",
   "id": "4f59fd57-22d7-44ca-be55-d85bd3bef11b",
   "metadata": {},
   "source": [
    "## outfile "
   ]
  },
  {
   "cell_type": "code",
   "execution_count": 16,
   "id": "4fc510c5-54dd-46b4-a55a-d6df8c410def",
   "metadata": {
    "execution": {
     "iopub.execute_input": "2023-12-04T07:07:14.370208Z",
     "iopub.status.busy": "2023-12-04T07:07:14.369765Z",
     "iopub.status.idle": "2023-12-04T07:07:22.355932Z",
     "shell.execute_reply": "2023-12-04T07:07:22.355105Z",
     "shell.execute_reply.started": "2023-12-04T07:07:14.370186Z"
    }
   },
   "outputs": [],
   "source": [
    "from pyspark.sql import functions as F\n",
    "\n",
    "# 创建 SparkSession\n",
    "spark = SparkSession.builder.appName(\"StructuredStreamingOutPutNew\").getOrCreate()\n",
    "\n",
    "file = 'file:///home/jupyter/data/test'\n",
    "# 读取 CSV 文件\n",
    "csvdf = spark.readStream.format(\"csv\") \\\n",
    "        .option(\"header\", \"false\") \\\n",
    "        .schema(schema) \\\n",
    "        .load(file)"
   ]
  },
  {
   "cell_type": "code",
   "execution_count": 18,
   "id": "dabf4db4-c77b-42ef-ba63-1a1a16802964",
   "metadata": {
    "execution": {
     "iopub.execute_input": "2023-12-04T07:08:48.505966Z",
     "iopub.status.busy": "2023-12-04T07:08:48.505283Z",
     "iopub.status.idle": "2023-12-04T07:08:58.592081Z",
     "shell.execute_reply": "2023-12-04T07:08:58.590554Z",
     "shell.execute_reply.started": "2023-12-04T07:08:48.505929Z"
    }
   },
   "outputs": [
    {
     "name": "stderr",
     "output_type": "stream",
     "text": [
      "23/12/04 07:08:48 WARN ResolveWriteToStream: spark.sql.adaptive.enabled is not supported in streaming DataFrames/Datasets and will be disabled.\n",
      "[Stage 1:==============>                                         (53 + 2) / 200]\r"
     ]
    },
    {
     "data": {
      "text/plain": [
       "False"
      ]
     },
     "execution_count": 18,
     "metadata": {},
     "output_type": "execute_result"
    },
    {
     "data": {
      "text/plain": [
       "{'message': 'Processing new data',\n",
       " 'isDataAvailable': True,\n",
       " 'isTriggerActive': True}"
      ]
     },
     "execution_count": 18,
     "metadata": {},
     "output_type": "execute_result"
    }
   ],
   "source": [
    "_csvdf = csvdf.withWatermark('time', '100 second').groupby('time').agg(\n",
    "    F.count(\"time\").alias(\"count\"),\n",
    "    F.last(\"adid\").alias(\"last_adid\"),\n",
    "    F.max(\"adid\").alias(\"max_adid\")\n",
    ")\n",
    "\n",
    "# csv only support append outputMode\n",
    "query = _csvdf.writeStream \\\n",
    "        .format('csv') \\\n",
    "        .option('path', 'file:///home/jupyter/outputdata/csvput/path') \\\n",
    "        .option('checkpointLocation', 'file:///home/jupyter/outputdata/csvput/checkpointLocation') \\\n",
    "        .start()\n",
    "query.awaitTermination(timeout=10)\n",
    "\n",
    "query.status\n",
    "# query.lastProgress\n",
    "# query.stop()  # 如果没有写完数据，直接stop会报错"
   ]
  },
  {
   "cell_type": "code",
   "execution_count": null,
   "id": "fc60befb-0ac7-4c88-be73-8693f5f63a2f",
   "metadata": {},
   "outputs": [],
   "source": [
    "with open"
   ]
  },
  {
   "cell_type": "markdown",
   "id": "e4fa2fd1-6b51-4f18-a75f-bd6f723201e1",
   "metadata": {},
   "source": [
    "## complete"
   ]
  },
  {
   "cell_type": "code",
   "execution_count": 9,
   "id": "127551d5-e08a-4918-aab2-1ef4d24a3c84",
   "metadata": {
    "execution": {
     "iopub.execute_input": "2023-12-04T06:28:10.838955Z",
     "iopub.status.busy": "2023-12-04T06:28:10.837784Z",
     "iopub.status.idle": "2023-12-04T06:28:11.176762Z",
     "shell.execute_reply": "2023-12-04T06:28:11.175637Z",
     "shell.execute_reply.started": "2023-12-04T06:28:10.838903Z"
    }
   },
   "outputs": [
    {
     "name": "stderr",
     "output_type": "stream",
     "text": [
      "23/12/04 06:28:10 WARN TaskSetManager: Lost task 105.0 in stage 1.0 (TID 133) (worker1 executor 1): TaskKilled (Stage cancelled: Job 0 cancelled part of cancelled job group 8360bb0c-fac7-4ddd-8d52-01ab2c54a374)\n",
      "23/12/04 06:28:10 WARN TaskSetManager: Lost task 146.0 in stage 1.0 (TID 132) (worker2 executor 2): TaskKilled (Stage cancelled: Job 0 cancelled part of cancelled job group 8360bb0c-fac7-4ddd-8d52-01ab2c54a374)\n",
      "[Stage 1:====================================>                  (131 + 2) / 200]\r"
     ]
    },
    {
     "ename": "AnalysisException",
     "evalue": "Data source csv does not support Complete output mode.",
     "output_type": "error",
     "traceback": [
      "\u001b[0;31m---------------------------------------------------------------------------\u001b[0m",
      "\u001b[0;31mAnalysisException\u001b[0m                         Traceback (most recent call last)",
      "Cell \u001b[0;32mIn[9], line 12\u001b[0m\n\u001b[1;32m      1\u001b[0m _csvdf \u001b[38;5;241m=\u001b[39m csvdf\u001b[38;5;241m.\u001b[39mgroupby(\u001b[38;5;124m'\u001b[39m\u001b[38;5;124mtime\u001b[39m\u001b[38;5;124m'\u001b[39m)\u001b[38;5;241m.\u001b[39magg(\n\u001b[1;32m      2\u001b[0m     F\u001b[38;5;241m.\u001b[39mcount(\u001b[38;5;124m\"\u001b[39m\u001b[38;5;124mtime\u001b[39m\u001b[38;5;124m\"\u001b[39m)\u001b[38;5;241m.\u001b[39malias(\u001b[38;5;124m\"\u001b[39m\u001b[38;5;124mcount\u001b[39m\u001b[38;5;124m\"\u001b[39m),\n\u001b[1;32m      3\u001b[0m     F\u001b[38;5;241m.\u001b[39mlast(\u001b[38;5;124m\"\u001b[39m\u001b[38;5;124madid\u001b[39m\u001b[38;5;124m\"\u001b[39m)\u001b[38;5;241m.\u001b[39malias(\u001b[38;5;124m\"\u001b[39m\u001b[38;5;124mlast_adid\u001b[39m\u001b[38;5;124m\"\u001b[39m),\n\u001b[1;32m      4\u001b[0m     F\u001b[38;5;241m.\u001b[39mmax(\u001b[38;5;124m\"\u001b[39m\u001b[38;5;124madid\u001b[39m\u001b[38;5;124m\"\u001b[39m)\u001b[38;5;241m.\u001b[39malias(\u001b[38;5;124m\"\u001b[39m\u001b[38;5;124mmax_adid\u001b[39m\u001b[38;5;124m\"\u001b[39m)\n\u001b[1;32m      5\u001b[0m )\n\u001b[1;32m      6\u001b[0m \u001b[38;5;66;03m# query = _csvdf.writeStream.outputMode('complete').format('console').start()\u001b[39;00m\n\u001b[1;32m      7\u001b[0m query \u001b[38;5;241m=\u001b[39m \u001b[43m_csvdf\u001b[49m\u001b[38;5;241;43m.\u001b[39;49m\u001b[43mwriteStream\u001b[49m\u001b[43m \u001b[49m\u001b[43m\\\u001b[49m\n\u001b[1;32m      8\u001b[0m \u001b[43m        \u001b[49m\u001b[38;5;241;43m.\u001b[39;49m\u001b[43moutputMode\u001b[49m\u001b[43m(\u001b[49m\u001b[38;5;124;43m'\u001b[39;49m\u001b[38;5;124;43mcomplete\u001b[39;49m\u001b[38;5;124;43m'\u001b[39;49m\u001b[43m)\u001b[49m\u001b[43m \u001b[49m\u001b[43m\\\u001b[49m\n\u001b[1;32m      9\u001b[0m \u001b[43m        \u001b[49m\u001b[38;5;241;43m.\u001b[39;49m\u001b[43mformat\u001b[49m\u001b[43m(\u001b[49m\u001b[38;5;124;43m'\u001b[39;49m\u001b[38;5;124;43mcsv\u001b[39;49m\u001b[38;5;124;43m'\u001b[39;49m\u001b[43m)\u001b[49m\u001b[43m \u001b[49m\u001b[43m\\\u001b[49m\n\u001b[1;32m     10\u001b[0m \u001b[43m        \u001b[49m\u001b[38;5;241;43m.\u001b[39;49m\u001b[43moption\u001b[49m\u001b[43m(\u001b[49m\u001b[38;5;124;43m'\u001b[39;49m\u001b[38;5;124;43mpath\u001b[39;49m\u001b[38;5;124;43m'\u001b[39;49m\u001b[43m,\u001b[49m\u001b[43m \u001b[49m\u001b[38;5;124;43m'\u001b[39;49m\u001b[38;5;124;43mfile:///home/jupyter/notebook/output/path\u001b[39;49m\u001b[38;5;124;43m'\u001b[39;49m\u001b[43m)\u001b[49m\u001b[43m \u001b[49m\u001b[43m\\\u001b[49m\n\u001b[1;32m     11\u001b[0m \u001b[43m        \u001b[49m\u001b[38;5;241;43m.\u001b[39;49m\u001b[43moption\u001b[49m\u001b[43m(\u001b[49m\u001b[38;5;124;43m'\u001b[39;49m\u001b[38;5;124;43mcheckpointLocation\u001b[39;49m\u001b[38;5;124;43m'\u001b[39;49m\u001b[43m,\u001b[49m\u001b[43m \u001b[49m\u001b[38;5;124;43m'\u001b[39;49m\u001b[38;5;124;43mfile:///home/jupyter/notebook/output/checkpointLocation\u001b[39;49m\u001b[38;5;124;43m'\u001b[39;49m\u001b[43m)\u001b[49m\u001b[43m \u001b[49m\u001b[43m\\\u001b[49m\n\u001b[0;32m---> 12\u001b[0m \u001b[43m        \u001b[49m\u001b[38;5;241;43m.\u001b[39;49m\u001b[43mstart\u001b[49m\u001b[43m(\u001b[49m\u001b[43m)\u001b[49m\n\u001b[1;32m     13\u001b[0m query\u001b[38;5;241m.\u001b[39mawaitTermination(timeout\u001b[38;5;241m=\u001b[39m\u001b[38;5;241m10\u001b[39m)\n\u001b[1;32m     15\u001b[0m query\u001b[38;5;241m.\u001b[39mstatus\n",
      "File \u001b[0;32m/usr/local/lib/python3.10/dist-packages/pyspark/sql/streaming/readwriter.py:1527\u001b[0m, in \u001b[0;36mDataStreamWriter.start\u001b[0;34m(self, path, format, outputMode, partitionBy, queryName, **options)\u001b[0m\n\u001b[1;32m   1525\u001b[0m     \u001b[38;5;28mself\u001b[39m\u001b[38;5;241m.\u001b[39mqueryName(queryName)\n\u001b[1;32m   1526\u001b[0m \u001b[38;5;28;01mif\u001b[39;00m path \u001b[38;5;129;01mis\u001b[39;00m \u001b[38;5;28;01mNone\u001b[39;00m:\n\u001b[0;32m-> 1527\u001b[0m     \u001b[38;5;28;01mreturn\u001b[39;00m \u001b[38;5;28mself\u001b[39m\u001b[38;5;241m.\u001b[39m_sq(\u001b[38;5;28;43mself\u001b[39;49m\u001b[38;5;241;43m.\u001b[39;49m\u001b[43m_jwrite\u001b[49m\u001b[38;5;241;43m.\u001b[39;49m\u001b[43mstart\u001b[49m\u001b[43m(\u001b[49m\u001b[43m)\u001b[49m)\n\u001b[1;32m   1528\u001b[0m \u001b[38;5;28;01melse\u001b[39;00m:\n\u001b[1;32m   1529\u001b[0m     \u001b[38;5;28;01mreturn\u001b[39;00m \u001b[38;5;28mself\u001b[39m\u001b[38;5;241m.\u001b[39m_sq(\u001b[38;5;28mself\u001b[39m\u001b[38;5;241m.\u001b[39m_jwrite\u001b[38;5;241m.\u001b[39mstart(path))\n",
      "File \u001b[0;32m/usr/local/lib/python3.10/dist-packages/py4j/java_gateway.py:1322\u001b[0m, in \u001b[0;36mJavaMember.__call__\u001b[0;34m(self, *args)\u001b[0m\n\u001b[1;32m   1316\u001b[0m command \u001b[38;5;241m=\u001b[39m proto\u001b[38;5;241m.\u001b[39mCALL_COMMAND_NAME \u001b[38;5;241m+\u001b[39m\\\n\u001b[1;32m   1317\u001b[0m     \u001b[38;5;28mself\u001b[39m\u001b[38;5;241m.\u001b[39mcommand_header \u001b[38;5;241m+\u001b[39m\\\n\u001b[1;32m   1318\u001b[0m     args_command \u001b[38;5;241m+\u001b[39m\\\n\u001b[1;32m   1319\u001b[0m     proto\u001b[38;5;241m.\u001b[39mEND_COMMAND_PART\n\u001b[1;32m   1321\u001b[0m answer \u001b[38;5;241m=\u001b[39m \u001b[38;5;28mself\u001b[39m\u001b[38;5;241m.\u001b[39mgateway_client\u001b[38;5;241m.\u001b[39msend_command(command)\n\u001b[0;32m-> 1322\u001b[0m return_value \u001b[38;5;241m=\u001b[39m \u001b[43mget_return_value\u001b[49m\u001b[43m(\u001b[49m\n\u001b[1;32m   1323\u001b[0m \u001b[43m    \u001b[49m\u001b[43manswer\u001b[49m\u001b[43m,\u001b[49m\u001b[43m \u001b[49m\u001b[38;5;28;43mself\u001b[39;49m\u001b[38;5;241;43m.\u001b[39;49m\u001b[43mgateway_client\u001b[49m\u001b[43m,\u001b[49m\u001b[43m \u001b[49m\u001b[38;5;28;43mself\u001b[39;49m\u001b[38;5;241;43m.\u001b[39;49m\u001b[43mtarget_id\u001b[49m\u001b[43m,\u001b[49m\u001b[43m \u001b[49m\u001b[38;5;28;43mself\u001b[39;49m\u001b[38;5;241;43m.\u001b[39;49m\u001b[43mname\u001b[49m\u001b[43m)\u001b[49m\n\u001b[1;32m   1325\u001b[0m \u001b[38;5;28;01mfor\u001b[39;00m temp_arg \u001b[38;5;129;01min\u001b[39;00m temp_args:\n\u001b[1;32m   1326\u001b[0m     \u001b[38;5;28;01mif\u001b[39;00m \u001b[38;5;28mhasattr\u001b[39m(temp_arg, \u001b[38;5;124m\"\u001b[39m\u001b[38;5;124m_detach\u001b[39m\u001b[38;5;124m\"\u001b[39m):\n",
      "File \u001b[0;32m/usr/local/lib/python3.10/dist-packages/pyspark/errors/exceptions/captured.py:185\u001b[0m, in \u001b[0;36mcapture_sql_exception.<locals>.deco\u001b[0;34m(*a, **kw)\u001b[0m\n\u001b[1;32m    181\u001b[0m converted \u001b[38;5;241m=\u001b[39m convert_exception(e\u001b[38;5;241m.\u001b[39mjava_exception)\n\u001b[1;32m    182\u001b[0m \u001b[38;5;28;01mif\u001b[39;00m \u001b[38;5;129;01mnot\u001b[39;00m \u001b[38;5;28misinstance\u001b[39m(converted, UnknownException):\n\u001b[1;32m    183\u001b[0m     \u001b[38;5;66;03m# Hide where the exception came from that shows a non-Pythonic\u001b[39;00m\n\u001b[1;32m    184\u001b[0m     \u001b[38;5;66;03m# JVM exception message.\u001b[39;00m\n\u001b[0;32m--> 185\u001b[0m     \u001b[38;5;28;01mraise\u001b[39;00m converted \u001b[38;5;28;01mfrom\u001b[39;00m \u001b[38;5;28;01mNone\u001b[39;00m\n\u001b[1;32m    186\u001b[0m \u001b[38;5;28;01melse\u001b[39;00m:\n\u001b[1;32m    187\u001b[0m     \u001b[38;5;28;01mraise\u001b[39;00m\n",
      "\u001b[0;31mAnalysisException\u001b[0m: Data source csv does not support Complete output mode."
     ]
    }
   ],
   "source": [
    "_csvdf = csvdf.groupby('time').agg(\n",
    "    F.count(\"time\").alias(\"count\"),\n",
    "    F.last(\"adid\").alias(\"last_adid\"),\n",
    "    F.max(\"adid\").alias(\"max_adid\")\n",
    ")\n",
    "# query = _csvdf.writeStream.outputMode('complete').format('console').start()\n",
    "query = _csvdf.writeStream \\\n",
    "        .outputMode('complete') \\\n",
    "        .format('csv') \\\n",
    "        .option('path', 'file:///home/jupyter/notebook/output/path') \\\n",
    "        .option('checkpointLocation', 'file:///home/jupyter/notebook/output/checkpointLocation') \\\n",
    "        .start()\n",
    "query.awaitTermination(timeout=10)\n",
    "\n",
    "query.status\n",
    "# query.lastProgress\n",
    "query.stop()\n",
    "query.status"
   ]
  },
  {
   "cell_type": "markdown",
   "id": "6986f773-c881-47fb-90bc-5cc6060b10f1",
   "metadata": {},
   "source": [
    "## append"
   ]
  },
  {
   "cell_type": "code",
   "execution_count": null,
   "id": "ffd1478a-63d2-4037-99f1-d04013418750",
   "metadata": {
    "execution": {
     "iopub.status.busy": "2023-12-04T06:28:11.177483Z",
     "iopub.status.idle": "2023-12-04T06:28:11.177736Z",
     "shell.execute_reply": "2023-12-04T06:28:11.177626Z",
     "shell.execute_reply.started": "2023-12-04T06:28:11.177614Z"
    }
   },
   "outputs": [],
   "source": [
    "_csvdf = csvdf.withWatermark(\"time\", \"60 second\")\n",
    "_csvdf = _csvdf.groupby('time').agg(\n",
    "    F.count(\"time\").alias(\"count\"),\n",
    "    F.last(\"adid\").alias(\"last_adid\"),\n",
    "    F.max(\"adid\").alias(\"max_adid\")\n",
    ")\n",
    "# query = _csvdf.writeStream.outputMode('complete').format('console').start()\n",
    "query = _csvdf.writeStream \\\n",
    "        .outputMode('append') \\\n",
    "        .format('csv') \\\n",
    "        .option('path', 'file:///home/jupyter/notebook/output/path') \\\n",
    "        .option('checkpointLocation', 'file:///home/jupyter/notebook/output/checkpointLocation') \\\n",
    "        .start()\n",
    "query.awaitTermination(timeout=10)\n",
    "\n",
    "query.status\n",
    "# query.lastProgress\n",
    "query.stop()\n",
    "query.status"
   ]
  },
  {
   "cell_type": "markdown",
   "id": "fb1790b3-5d3c-45ec-91db-828a8fa3363f",
   "metadata": {},
   "source": [
    "## update"
   ]
  },
  {
   "cell_type": "code",
   "execution_count": null,
   "id": "c8c9dd59-2bb8-4ab2-82f0-00665214eaa9",
   "metadata": {
    "execution": {
     "iopub.status.busy": "2023-12-04T06:28:11.178737Z",
     "iopub.status.idle": "2023-12-04T06:28:11.179018Z",
     "shell.execute_reply": "2023-12-04T06:28:11.178891Z",
     "shell.execute_reply.started": "2023-12-04T06:28:11.178879Z"
    }
   },
   "outputs": [],
   "source": [
    "from pyspark.sql import functions as F\n",
    "\n",
    "_csvdf = csvdf.groupby('time').agg(\n",
    "    F.count(\"time\").alias(\"count\"),\n",
    "    F.last(\"adid\").alias(\"last_adid\"),\n",
    "    F.max(\"adid\").alias(\"max_adid\")\n",
    ")\n",
    "query = _csvdf.writeStream.outputMode('update').format('console').start()\n",
    "\n",
    "query.awaitTermination(timeout=10)\n",
    "\n",
    "query.status\n",
    "# query.lastProgress\n",
    "query.stop()\n",
    "query.status"
   ]
  },
  {
   "cell_type": "code",
   "execution_count": null,
   "id": "c869b927-89ce-4628-80b5-083abb476385",
   "metadata": {
    "execution": {
     "iopub.status.busy": "2023-12-04T06:28:11.180496Z",
     "iopub.status.idle": "2023-12-04T06:28:11.180758Z",
     "shell.execute_reply": "2023-12-04T06:28:11.180648Z",
     "shell.execute_reply.started": "2023-12-04T06:28:11.180636Z"
    }
   },
   "outputs": [],
   "source": [
    "spark.stop()"
   ]
  },
  {
   "cell_type": "markdown",
   "id": "eeaebb5b-cbd5-4cb3-8931-9290182c649d",
   "metadata": {},
   "source": [
    "# window "
   ]
  },
  {
   "cell_type": "code",
   "execution_count": null,
   "id": "1886c734-aa36-4b01-b720-f19c06e5a1df",
   "metadata": {},
   "outputs": [],
   "source": []
  }
 ],
 "metadata": {
  "kernelspec": {
   "display_name": "Python 3 (ipykernel)",
   "language": "python",
   "name": "python3"
  },
  "language_info": {
   "codemirror_mode": {
    "name": "ipython",
    "version": 3
   },
   "file_extension": ".py",
   "mimetype": "text/x-python",
   "name": "python",
   "nbconvert_exporter": "python",
   "pygments_lexer": "ipython3",
   "version": "3.10.12"
  },
  "widgets": {
   "application/vnd.jupyter.widget-state+json": {
    "state": {},
    "version_major": 2,
    "version_minor": 0
   }
  }
 },
 "nbformat": 4,
 "nbformat_minor": 5
}
