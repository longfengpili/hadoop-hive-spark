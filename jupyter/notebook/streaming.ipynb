{
 "cells": [
  {
   "cell_type": "markdown",
   "id": "1b488108-804c-4615-95f8-ddc3c0964306",
   "metadata": {},
   "source": [
    "# [structured streaming](https://spark.apache.org/docs/latest/structured-streaming-programming-guide.html#quick-example)"
   ]
  },
  {
   "cell_type": "markdown",
   "id": "b17a0fb2-013d-4968-8ca3-1f8d11fa6f25",
   "metadata": {},
   "source": [
    "在 Apache Spark Structured Streaming 中支持的一些主要数据源格式及其使用示例如下：\r\n",
    "\r\n",
    "1. **文本文件（Text）**：\r\n",
    "   ```python\r\n",
    "   text_df = spark.readStream.format(\"text\").load(\"/path/to/directory\")\r\n",
    "   ```\r\n",
    "\r\n",
    "2. **CSV 文件**：\r\n",
    "   ```python\r\n",
    "   csv_df = spark.readStream.format(\"csv\").option(\"header\", \"true\").load(\"/path/to/directory\")\r\n",
    "   ```\r\n",
    "\r\n",
    "3. **JSON 文件**：\r\n",
    "   ```python\r\n",
    "   json_df = spark.readStream.format(\"json\").load(\"/path/to/directory\")\r\n",
    "   ```\r\n",
    "\r\n",
    "4. **ORC 文件**：\r\n",
    "   ```python\r\n",
    "   orc_df = spark.readStream.format(\"orc\").load(\"/path/to/directory\")\r\n",
    "   ```\r\n",
    "\r\n",
    "5. **Parquet 文件**：\r\n",
    "   ```python\r\n",
    "   parquet_df = spark.readStream.format(\"parquet\").load(\"/path/to/directory\")\r\n",
    "   ```\r\n",
    "\r\n",
    "6. **从 Kafka 读取**：\r\n",
    "   ```python\r\n",
    "   kafka_df = spark.readStream.format(\"kafka\").option(\"kafka.bootstrap.servers\", \"host:port\").option(\"subscribe\", \"topic\").load()\r\n",
    "   ```\r\n",
    "\r\n",
    "7. **套接字（Socket，用于测试）**：\r\n",
    "   ```python\r\n",
    "   socket_df = spark.readStream.format(\"socket\").option(\"host\", \"localhost\").option(\"port\", 9999).load()\r\n",
    "   ```\r\n",
    "\r\n",
    "8. **Rate（用于测试）**：\r\n",
    "   ```python\r\n",
    "   rate_df = spark.readStream.format(\"rate\").load()\r\n",
    "   ```\r\n",
    "\r\n",
    "在分布式环境中， **确保指定的路径或资源对所有 Spark 节点可访问**。"
   ]
  },
  {
   "cell_type": "markdown",
   "id": "4457250f-6bab-4ea8-b801-33179644ae11",
   "metadata": {},
   "source": [
    "# csv"
   ]
  },
  {
   "cell_type": "markdown",
   "id": "4532b2f6-2a52-4522-834a-6375930b442d",
   "metadata": {},
   "source": [
    "## csv1"
   ]
  },
  {
   "cell_type": "code",
   "execution_count": 1,
   "id": "00fd5045-39e5-49aa-9357-21fe23b0294b",
   "metadata": {
    "execution": {
     "iopub.execute_input": "2023-12-04T05:34:35.927574Z",
     "iopub.status.busy": "2023-12-04T05:34:35.926958Z",
     "iopub.status.idle": "2023-12-04T05:34:46.487243Z",
     "shell.execute_reply": "2023-12-04T05:34:46.486428Z",
     "shell.execute_reply.started": "2023-12-04T05:34:35.927553Z"
    }
   },
   "outputs": [
    {
     "name": "stderr",
     "output_type": "stream",
     "text": [
      "Setting default log level to \"WARN\".\n",
      "To adjust logging level use sc.setLogLevel(newLevel). For SparkR, use setLogLevel(newLevel).\n"
     ]
    }
   ],
   "source": [
    "from pyspark.sql import SparkSession\n",
    "from pyspark.sql.types import *\n",
    "\n",
    "# 创建 SparkSession\n",
    "spark = SparkSession.builder.appName(\"StructuredStreamingCSV1\").getOrCreate()"
   ]
  },
  {
   "cell_type": "code",
   "execution_count": 2,
   "id": "31eea3aa-153d-4218-9166-15b144e24737",
   "metadata": {
    "execution": {
     "iopub.execute_input": "2023-12-04T05:34:46.488525Z",
     "iopub.status.busy": "2023-12-04T05:34:46.488288Z",
     "iopub.status.idle": "2023-12-04T05:34:47.921566Z",
     "shell.execute_reply": "2023-12-04T05:34:47.920748Z",
     "shell.execute_reply.started": "2023-12-04T05:34:46.488504Z"
    }
   },
   "outputs": [],
   "source": [
    "file = 'file:///home/jupyter/data/test'\n",
    "\n",
    "# 定义 CSV 文件的 schema\n",
    "schema = StructType([\n",
    "    StructField('time', TimestampType()),\n",
    "    StructField('app_id', StringType()),\n",
    "    StructField('store', StringType()),\n",
    "    StructField('adid', StringType()),\n",
    "    StructField('openid', StringType()),\n",
    "    StructField('activity_kind', StringType()),\n",
    "    StructField('created_at', StringType()),\n",
    "    StructField('installed_at', StringType()),\n",
    "    StructField('reattributed_at', StringType()),\n",
    "    StructField('network_name', StringType()),\n",
    "    StructField('country', StringType()),\n",
    "    StructField('device_name', StringType()),\n",
    "    StructField('device_type', StringType()),\n",
    "    StructField('os_name', StringType()),\n",
    "    StructField('timezone', StringType()),\n",
    "    StructField('event_name', StringType()),\n",
    "    StructField('revenue_float', StringType()),\n",
    "    StructField('revenue', StringType()),\n",
    "    StructField('currency', StringType()),\n",
    "    StructField('revenue_usd', StringType()),\n",
    "    StructField('reporting_revenue', StringType())\n",
    "])\n",
    "\n",
    "\n",
    "# 读取 CSV 文件\n",
    "csvDF = spark.readStream \\\n",
    "    .option(\"sep\", \",\") \\\n",
    "    .schema(schema) \\\n",
    "    .csv(file)"
   ]
  },
  {
   "cell_type": "code",
   "execution_count": 3,
   "id": "e8e62c39-64ba-472b-adb9-72dbdd9df104",
   "metadata": {
    "execution": {
     "iopub.execute_input": "2023-12-04T05:34:47.922754Z",
     "iopub.status.busy": "2023-12-04T05:34:47.922477Z",
     "iopub.status.idle": "2023-12-04T05:34:51.856965Z",
     "shell.execute_reply": "2023-12-04T05:34:51.856133Z",
     "shell.execute_reply.started": "2023-12-04T05:34:47.922735Z"
    }
   },
   "outputs": [
    {
     "name": "stderr",
     "output_type": "stream",
     "text": [
      "23/12/04 05:34:47 WARN ResolveWriteToStream: Temporary checkpoint location created which is deleted normally when the query didn't fail: /tmp/temporary-eb2a25c2-421c-4d6f-98bd-56873952f65c. If it's required to delete it under any circumstances, please set spark.sql.streaming.forceDeleteTempCheckpointLocation to true. Important to know deleting temp checkpoint folder is best effort.\n",
      "23/12/04 05:34:48 WARN ResolveWriteToStream: spark.sql.adaptive.enabled is not supported in streaming DataFrames/Datasets and will be disabled.\n",
      "                                                                                \r"
     ]
    },
    {
     "name": "stdout",
     "output_type": "stream",
     "text": [
      "-------------------------------------------\n",
      "Batch: 0\n",
      "-------------------------------------------\n"
     ]
    },
    {
     "data": {
      "text/plain": [
       "False"
      ]
     },
     "execution_count": 3,
     "metadata": {},
     "output_type": "execute_result"
    },
    {
     "data": {
      "text/plain": [
       "{'message': 'Processing new data',\n",
       " 'isDataAvailable': True,\n",
       " 'isTriggerActive': True}"
      ]
     },
     "execution_count": 3,
     "metadata": {},
     "output_type": "execute_result"
    },
    {
     "name": "stdout",
     "output_type": "stream",
     "text": [
      "+-------------------+--------------------+------+--------------------+------+-------------+----------+------------+---------------+--------------------+-------+-----------+-----------+-------+--------+----------+-------------+-------+--------+-----------+-----------------+\n",
      "|               time|              app_id| store|                adid|openid|activity_kind|created_at|installed_at|reattributed_at|        network_name|country|device_name|device_type|os_name|timezone|event_name|revenue_float|revenue|currency|revenue_usd|reporting_revenue|\n",
      "+-------------------+--------------------+------+--------------------+------+-------------+----------+------------+---------------+--------------------+-------+-----------+-----------+-------+--------+----------+-------------+-------+--------+-----------+-----------------+\n",
      "|2023-10-01 00:00:00|          1456241577|itunes|041bf78c9dc6dd5f5...|  NULL|      session|      NULL|  1636532102|           NULL|             RWD-ady|     jp|       NULL|       NULL|    ios|UTC+0900|      NULL|         NULL|   NULL|    NULL|       NULL|             NULL|\n",
      "|2023-10-01 00:00:09|          1456241577|itunes|4c8abb5e79e5291c4...|  NULL|      session|      NULL|  1636646821|           NULL|             Organic|     jp|       NULL|       NULL|    ios|UTC+0900|      NULL|         NULL|   NULL|    NULL|       NULL|             NULL|\n",
      "|2023-10-01 00:00:12|          1456241577|itunes|884ca98e510fb4a1a...|  NULL|      session|      NULL|  1620095149|           NULL|          non-moloco|     jp|       NULL|       NULL|    ios|UTC+0900|      NULL|         NULL|   NULL|    NULL|       NULL|             NULL|\n",
      "|2023-10-01 00:00:15|jp.coolfactory.an...|google|66a133a4298b6690c...|  NULL|      session|      NULL|  1679598383|           NULL|      Google Ads ACI|     jp|       NULL|       NULL|android|UTC+0900|      NULL|         NULL|   NULL|    NULL|       NULL|             NULL|\n",
      "|2023-10-01 00:00:18|          1456241577|itunes|32b8510a94ceb0e0c...|  NULL|      session|      NULL|  1638368462|           NULL|             Organic|     jp|       NULL|       NULL|    ios|UTC+0900|      NULL|         NULL|   NULL|    NULL|       NULL|             NULL|\n",
      "|2023-10-01 00:00:22|          1456241577|itunes|a3ca2b21ef60ae6e7...|  NULL|      session|      NULL|  1646869256|           NULL|    Apple Search Ads|     tw|       NULL|       NULL|    ios|UTC+0800|      NULL|         NULL|   NULL|    NULL|       NULL|             NULL|\n",
      "|2023-10-01 00:00:23|jp.coolfactory.an...|google|d23c46b8999eedd24...|  NULL|      session|      NULL|  1642321157|           NULL|             Organic|     id|       NULL|       NULL|android|UTC+0700|      NULL|         NULL|   NULL|    NULL|       NULL|             NULL|\n",
      "|2023-10-01 00:00:24|jp.coolfactory.an...|google|7254c3b7c6a3e4007...|  NULL|      session|      NULL|  1607615341|           NULL|      Google Ads ACI|     jp|       NULL|       NULL|android|UTC+0900|      NULL|         NULL|   NULL|    NULL|       NULL|             NULL|\n",
      "|2023-10-01 00:00:29|          1456241577|itunes|e5a6af6d1a2d1d062...|  NULL|      session|      NULL|  1628169976|           NULL|non-metaps-fukuro...|     jp|       NULL|       NULL|    ios|UTC+0900|      NULL|         NULL|   NULL|    NULL|       NULL|             NULL|\n",
      "|2023-10-01 00:00:29|          1456241577|itunes|f1982d8025c37e7d0...|  NULL|      session|      NULL|  1625460493|           NULL|      Google Ads ACI|     jp|       NULL|       NULL|    ios|UTC+0900|      NULL|         NULL|   NULL|    NULL|       NULL|             NULL|\n",
      "|2023-10-01 00:00:32|          1456241577|itunes|06cd3071cef684ec0...|  NULL|      session|      NULL|  1631391044|           NULL|             Organic|     jp|       NULL|       NULL|    ios|UTC+0900|      NULL|         NULL|   NULL|    NULL|       NULL|             NULL|\n",
      "|2023-10-01 00:00:35|          1456241577|itunes|c3f81252915f8f8f5...|  NULL|      session|      NULL|  1616259239|           NULL|         non-ady-CPE|     jp|       NULL|       NULL|    ios|UTC+0900|      NULL|         NULL|   NULL|    NULL|       NULL|             NULL|\n",
      "|2023-10-01 00:00:37|          1456241577|itunes|6a1de06e2b2f8c956...|  NULL|      session|      NULL|  1641304816|           NULL| non-zucks AdNetwork|     jp|       NULL|       NULL|    ios|UTC+0900|      NULL|         NULL|   NULL|    NULL|       NULL|             NULL|\n",
      "|2023-10-01 00:00:37|jp.coolfactory.an...|google|b98cb5c6ea7daf7a9...|  NULL|      session|      NULL|  1621509542|           NULL|      Google Ads ACI|     jp|       NULL|       NULL|android|UTC+0900|      NULL|         NULL|   NULL|    NULL|       NULL|             NULL|\n",
      "|2023-10-01 00:00:57|jp.coolfactory.an...|google|781fd522434566dfd...|  NULL|      session|      NULL|  1689100484|           NULL|             Organic|     cn|       NULL|       NULL|android|UTC+0800|      NULL|         NULL|   NULL|    NULL|       NULL|             NULL|\n",
      "|2023-10-01 00:00:57|jp.coolfactory.an...|google|781fd522434566dfd...|  NULL|      session|      NULL|  1689100484|           NULL|             Organic|     cn|       NULL|       NULL|android|UTC+0800|      NULL|         NULL|   NULL|    NULL|       NULL|             NULL|\n",
      "|2023-10-01 00:00:59|jp.coolfactory.an...|google|ba2ec385d1c9635bd...|  NULL|      session|      NULL|  1682172146|           NULL|             Organic|     jp|       NULL|       NULL|android|UTC+0900|      NULL|         NULL|   NULL|    NULL|       NULL|             NULL|\n",
      "|2023-10-01 00:01:00|          1456241577|itunes|202af068c7e098436...|  NULL|      session|      NULL|  1667063246|           NULL|             Organic|     my|       NULL|       NULL|    ios|UTC+0800|      NULL|         NULL|   NULL|    NULL|       NULL|             NULL|\n",
      "|2023-10-01 00:01:03|jp.coolfactory.an...|google|22228746f2872887b...|  NULL|      session|      NULL|  1638758266|           NULL|      Google Ads ACI|     jp|       NULL|       NULL|android|UTC+0900|      NULL|         NULL|   NULL|    NULL|       NULL|             NULL|\n",
      "|2023-10-01 00:01:09|jp.coolfactory.an...|google|1f3314dff9eec7e18...|  NULL|      session|      NULL|  1688981951|           NULL|             Organic|     jp|       NULL|       NULL|android|UTC+0900|      NULL|         NULL|   NULL|    NULL|       NULL|             NULL|\n",
      "+-------------------+--------------------+------+--------------------+------+-------------+----------+------------+---------------+--------------------+-------+-----------+-----------+-------+--------+----------+-------------+-------+--------+-----------+-----------------+\n",
      "only showing top 20 rows\n",
      "\n"
     ]
    },
    {
     "data": {
      "text/plain": [
       "{'id': '9563b4fc-31af-4e1c-b3cc-a37fe40258c1',\n",
       " 'runId': 'b3418f9a-20c6-4bee-a108-e29f05eb59d3',\n",
       " 'name': None,\n",
       " 'timestamp': '2023-12-04T05:34:48.232Z',\n",
       " 'batchId': 0,\n",
       " 'numInputRows': 135,\n",
       " 'inputRowsPerSecond': 0.0,\n",
       " 'processedRowsPerSecond': 39.72925250147145,\n",
       " 'durationMs': {'addBatch': 2805,\n",
       "  'commitOffsets': 36,\n",
       "  'getBatch': 82,\n",
       "  'latestOffset': 59,\n",
       "  'queryPlanning': 347,\n",
       "  'triggerExecution': 3398,\n",
       "  'walCommit': 46},\n",
       " 'stateOperators': [],\n",
       " 'sources': [{'description': 'FileStreamSource[file:/home/jupyter/data/test]',\n",
       "   'startOffset': None,\n",
       "   'endOffset': {'logOffset': 0},\n",
       "   'latestOffset': None,\n",
       "   'numInputRows': 135,\n",
       "   'inputRowsPerSecond': 0.0,\n",
       "   'processedRowsPerSecond': 39.72925250147145}],\n",
       " 'sink': {'description': 'org.apache.spark.sql.execution.streaming.ConsoleTable$@66f7501a',\n",
       "  'numOutputRows': 135}}"
      ]
     },
     "execution_count": 3,
     "metadata": {},
     "output_type": "execute_result"
    },
    {
     "data": {
      "text/plain": [
       "{'message': 'Stopped', 'isDataAvailable': False, 'isTriggerActive': False}"
      ]
     },
     "execution_count": 3,
     "metadata": {},
     "output_type": "execute_result"
    }
   ],
   "source": [
    "# 定义数据处理逻辑\n",
    "# 例如，简单的转换或聚合操作\n",
    "\n",
    "# 定义输出接收器，例如输出到控制台\n",
    "query = csvDF.writeStream \\\n",
    "    .outputMode(\"append\") \\\n",
    "    .format(\"console\") \\\n",
    "    .start()\n",
    "\n",
    "# 等待流处理结束\n",
    "query.awaitTermination(timeout=3)\n",
    "query.status\n",
    "query.stop()\n",
    "query.lastProgress\n",
    "query.status\n",
    "\n",
    "spark.stop()"
   ]
  },
  {
   "cell_type": "markdown",
   "id": "ef66a43d-7c84-4618-8b46-3b09f2640625",
   "metadata": {},
   "source": [
    "## csv2 "
   ]
  },
  {
   "cell_type": "code",
   "execution_count": 4,
   "id": "25f6a91f-7892-4dec-9f36-dbac59c0db33",
   "metadata": {
    "execution": {
     "iopub.execute_input": "2023-12-04T05:34:51.860786Z",
     "iopub.status.busy": "2023-12-04T05:34:51.860140Z",
     "iopub.status.idle": "2023-12-04T05:34:59.070373Z",
     "shell.execute_reply": "2023-12-04T05:34:59.069490Z",
     "shell.execute_reply.started": "2023-12-04T05:34:51.860763Z"
    }
   },
   "outputs": [],
   "source": [
    "# 创建 SparkSession\n",
    "spark = SparkSession.builder.appName(\"StructuredStreamingCSV2\").getOrCreate()"
   ]
  },
  {
   "cell_type": "code",
   "execution_count": 5,
   "id": "b6bbe28e-85c8-4b57-b516-9685f492e01b",
   "metadata": {
    "execution": {
     "iopub.execute_input": "2023-12-04T05:34:59.071777Z",
     "iopub.status.busy": "2023-12-04T05:34:59.071363Z",
     "iopub.status.idle": "2023-12-04T05:34:59.130263Z",
     "shell.execute_reply": "2023-12-04T05:34:59.129278Z",
     "shell.execute_reply.started": "2023-12-04T05:34:59.071755Z"
    }
   },
   "outputs": [],
   "source": [
    "file = 'file:///home/jupyter/data/test'\n",
    "# 读取 CSV 文件\n",
    "csvdf = spark.readStream.format(\"csv\") \\\n",
    "        .option(\"header\", \"false\") \\\n",
    "        .schema(schema) \\\n",
    "        .load(file)"
   ]
  },
  {
   "cell_type": "code",
   "execution_count": 6,
   "id": "3707958f-cb08-4f68-acf9-c275cdf9621c",
   "metadata": {
    "execution": {
     "iopub.execute_input": "2023-12-04T05:34:59.131896Z",
     "iopub.status.busy": "2023-12-04T05:34:59.131487Z",
     "iopub.status.idle": "2023-12-04T05:35:09.565981Z",
     "shell.execute_reply": "2023-12-04T05:35:09.565210Z",
     "shell.execute_reply.started": "2023-12-04T05:34:59.131873Z"
    }
   },
   "outputs": [
    {
     "name": "stderr",
     "output_type": "stream",
     "text": [
      "23/12/04 05:34:59 WARN ResolveWriteToStream: Temporary checkpoint location created which is deleted normally when the query didn't fail: /tmp/temporary-3264e932-2910-4ecc-ae47-a587b47bc1f2. If it's required to delete it under any circumstances, please set spark.sql.streaming.forceDeleteTempCheckpointLocation to true. Important to know deleting temp checkpoint folder is best effort.\n",
      "23/12/04 05:34:59 WARN ResolveWriteToStream: spark.sql.adaptive.enabled is not supported in streaming DataFrames/Datasets and will be disabled.\n",
      "                                                                                \r"
     ]
    },
    {
     "name": "stdout",
     "output_type": "stream",
     "text": [
      "-------------------------------------------\n",
      "Batch: 0\n",
      "-------------------------------------------\n",
      "+-------------------+--------------------+------+--------------------+------+-------------+----------+------------+---------------+--------------------+-------+-----------+-----------+-------+--------+----------+-------------+-------+--------+-----------+-----------------+\n",
      "|               time|              app_id| store|                adid|openid|activity_kind|created_at|installed_at|reattributed_at|        network_name|country|device_name|device_type|os_name|timezone|event_name|revenue_float|revenue|currency|revenue_usd|reporting_revenue|\n",
      "+-------------------+--------------------+------+--------------------+------+-------------+----------+------------+---------------+--------------------+-------+-----------+-----------+-------+--------+----------+-------------+-------+--------+-----------+-----------------+\n",
      "|2023-10-01 00:00:00|          1456241577|itunes|041bf78c9dc6dd5f5...|  NULL|      session|      NULL|  1636532102|           NULL|             RWD-ady|     jp|       NULL|       NULL|    ios|UTC+0900|      NULL|         NULL|   NULL|    NULL|       NULL|             NULL|\n",
      "|2023-10-01 00:00:09|          1456241577|itunes|4c8abb5e79e5291c4...|  NULL|      session|      NULL|  1636646821|           NULL|             Organic|     jp|       NULL|       NULL|    ios|UTC+0900|      NULL|         NULL|   NULL|    NULL|       NULL|             NULL|\n",
      "|2023-10-01 00:00:12|          1456241577|itunes|884ca98e510fb4a1a...|  NULL|      session|      NULL|  1620095149|           NULL|          non-moloco|     jp|       NULL|       NULL|    ios|UTC+0900|      NULL|         NULL|   NULL|    NULL|       NULL|             NULL|\n",
      "|2023-10-01 00:00:15|jp.coolfactory.an...|google|66a133a4298b6690c...|  NULL|      session|      NULL|  1679598383|           NULL|      Google Ads ACI|     jp|       NULL|       NULL|android|UTC+0900|      NULL|         NULL|   NULL|    NULL|       NULL|             NULL|\n",
      "|2023-10-01 00:00:18|          1456241577|itunes|32b8510a94ceb0e0c...|  NULL|      session|      NULL|  1638368462|           NULL|             Organic|     jp|       NULL|       NULL|    ios|UTC+0900|      NULL|         NULL|   NULL|    NULL|       NULL|             NULL|\n",
      "|2023-10-01 00:00:22|          1456241577|itunes|a3ca2b21ef60ae6e7...|  NULL|      session|      NULL|  1646869256|           NULL|    Apple Search Ads|     tw|       NULL|       NULL|    ios|UTC+0800|      NULL|         NULL|   NULL|    NULL|       NULL|             NULL|\n",
      "|2023-10-01 00:00:23|jp.coolfactory.an...|google|d23c46b8999eedd24...|  NULL|      session|      NULL|  1642321157|           NULL|             Organic|     id|       NULL|       NULL|android|UTC+0700|      NULL|         NULL|   NULL|    NULL|       NULL|             NULL|\n",
      "|2023-10-01 00:00:24|jp.coolfactory.an...|google|7254c3b7c6a3e4007...|  NULL|      session|      NULL|  1607615341|           NULL|      Google Ads ACI|     jp|       NULL|       NULL|android|UTC+0900|      NULL|         NULL|   NULL|    NULL|       NULL|             NULL|\n",
      "|2023-10-01 00:00:29|          1456241577|itunes|e5a6af6d1a2d1d062...|  NULL|      session|      NULL|  1628169976|           NULL|non-metaps-fukuro...|     jp|       NULL|       NULL|    ios|UTC+0900|      NULL|         NULL|   NULL|    NULL|       NULL|             NULL|\n",
      "|2023-10-01 00:00:29|          1456241577|itunes|f1982d8025c37e7d0...|  NULL|      session|      NULL|  1625460493|           NULL|      Google Ads ACI|     jp|       NULL|       NULL|    ios|UTC+0900|      NULL|         NULL|   NULL|    NULL|       NULL|             NULL|\n",
      "|2023-10-01 00:00:32|          1456241577|itunes|06cd3071cef684ec0...|  NULL|      session|      NULL|  1631391044|           NULL|             Organic|     jp|       NULL|       NULL|    ios|UTC+0900|      NULL|         NULL|   NULL|    NULL|       NULL|             NULL|\n",
      "|2023-10-01 00:00:35|          1456241577|itunes|c3f81252915f8f8f5...|  NULL|      session|      NULL|  1616259239|           NULL|         non-ady-CPE|     jp|       NULL|       NULL|    ios|UTC+0900|      NULL|         NULL|   NULL|    NULL|       NULL|             NULL|\n",
      "|2023-10-01 00:00:37|          1456241577|itunes|6a1de06e2b2f8c956...|  NULL|      session|      NULL|  1641304816|           NULL| non-zucks AdNetwork|     jp|       NULL|       NULL|    ios|UTC+0900|      NULL|         NULL|   NULL|    NULL|       NULL|             NULL|\n",
      "|2023-10-01 00:00:37|jp.coolfactory.an...|google|b98cb5c6ea7daf7a9...|  NULL|      session|      NULL|  1621509542|           NULL|      Google Ads ACI|     jp|       NULL|       NULL|android|UTC+0900|      NULL|         NULL|   NULL|    NULL|       NULL|             NULL|\n",
      "|2023-10-01 00:00:57|jp.coolfactory.an...|google|781fd522434566dfd...|  NULL|      session|      NULL|  1689100484|           NULL|             Organic|     cn|       NULL|       NULL|android|UTC+0800|      NULL|         NULL|   NULL|    NULL|       NULL|             NULL|\n",
      "|2023-10-01 00:00:57|jp.coolfactory.an...|google|781fd522434566dfd...|  NULL|      session|      NULL|  1689100484|           NULL|             Organic|     cn|       NULL|       NULL|android|UTC+0800|      NULL|         NULL|   NULL|    NULL|       NULL|             NULL|\n",
      "|2023-10-01 00:00:59|jp.coolfactory.an...|google|ba2ec385d1c9635bd...|  NULL|      session|      NULL|  1682172146|           NULL|             Organic|     jp|       NULL|       NULL|android|UTC+0900|      NULL|         NULL|   NULL|    NULL|       NULL|             NULL|\n",
      "|2023-10-01 00:01:00|          1456241577|itunes|202af068c7e098436...|  NULL|      session|      NULL|  1667063246|           NULL|             Organic|     my|       NULL|       NULL|    ios|UTC+0800|      NULL|         NULL|   NULL|    NULL|       NULL|             NULL|\n",
      "|2023-10-01 00:01:03|jp.coolfactory.an...|google|22228746f2872887b...|  NULL|      session|      NULL|  1638758266|           NULL|      Google Ads ACI|     jp|       NULL|       NULL|android|UTC+0900|      NULL|         NULL|   NULL|    NULL|       NULL|             NULL|\n",
      "|2023-10-01 00:01:09|jp.coolfactory.an...|google|1f3314dff9eec7e18...|  NULL|      session|      NULL|  1688981951|           NULL|             Organic|     jp|       NULL|       NULL|android|UTC+0900|      NULL|         NULL|   NULL|    NULL|       NULL|             NULL|\n",
      "+-------------------+--------------------+------+--------------------+------+-------------+----------+------------+---------------+--------------------+-------+-----------+-----------+-------+--------+----------+-------------+-------+--------+-----------+-----------------+\n",
      "only showing top 20 rows\n",
      "\n"
     ]
    },
    {
     "data": {
      "text/plain": [
       "False"
      ]
     },
     "execution_count": 6,
     "metadata": {},
     "output_type": "execute_result"
    },
    {
     "data": {
      "text/plain": [
       "{'message': 'Getting offsets from FileStreamSource[file:/home/jupyter/data/test]',\n",
       " 'isDataAvailable': False,\n",
       " 'isTriggerActive': True}"
      ]
     },
     "execution_count": 6,
     "metadata": {},
     "output_type": "execute_result"
    },
    {
     "data": {
      "text/plain": [
       "{'id': 'ec931669-afe0-4e5b-b048-161c0b782c58',\n",
       " 'runId': '23a4b76b-fe9c-4666-a7e3-4bcfbfe75af1',\n",
       " 'name': None,\n",
       " 'timestamp': '2023-12-04T05:34:59.192Z',\n",
       " 'batchId': 0,\n",
       " 'numInputRows': 135,\n",
       " 'inputRowsPerSecond': 0.0,\n",
       " 'processedRowsPerSecond': 98.39650145772595,\n",
       " 'durationMs': {'addBatch': 1234,\n",
       "  'commitOffsets': 26,\n",
       "  'getBatch': 25,\n",
       "  'latestOffset': 43,\n",
       "  'queryPlanning': 16,\n",
       "  'triggerExecution': 1372,\n",
       "  'walCommit': 27},\n",
       " 'stateOperators': [],\n",
       " 'sources': [{'description': 'FileStreamSource[file:/home/jupyter/data/test]',\n",
       "   'startOffset': None,\n",
       "   'endOffset': {'logOffset': 0},\n",
       "   'latestOffset': None,\n",
       "   'numInputRows': 135,\n",
       "   'inputRowsPerSecond': 0.0,\n",
       "   'processedRowsPerSecond': 98.39650145772595}],\n",
       " 'sink': {'description': 'org.apache.spark.sql.execution.streaming.ConsoleTable$@66f7501a',\n",
       "  'numOutputRows': 135}}"
      ]
     },
     "execution_count": 6,
     "metadata": {},
     "output_type": "execute_result"
    },
    {
     "data": {
      "text/plain": [
       "{'message': 'Stopped', 'isDataAvailable': False, 'isTriggerActive': False}"
      ]
     },
     "execution_count": 6,
     "metadata": {},
     "output_type": "execute_result"
    }
   ],
   "source": [
    "query = csvdf.writeStream.format('console').start()\n",
    "query.awaitTermination(timeout=10)\n",
    "\n",
    "query.status\n",
    "query.stop()\n",
    "query.lastProgress\n",
    "query.status\n",
    "\n",
    "spark.stop()"
   ]
  },
  {
   "cell_type": "markdown",
   "id": "70ae2418-66d7-4bb8-972e-da1ca583bb42",
   "metadata": {},
   "source": [
    "# output"
   ]
  },
  {
   "cell_type": "markdown",
   "id": "4f59fd57-22d7-44ca-be55-d85bd3bef11b",
   "metadata": {},
   "source": [
    "## outfile "
   ]
  },
  {
   "cell_type": "code",
   "execution_count": 12,
   "id": "4fc510c5-54dd-46b4-a55a-d6df8c410def",
   "metadata": {
    "execution": {
     "iopub.execute_input": "2023-12-04T05:38:29.203332Z",
     "iopub.status.busy": "2023-12-04T05:38:29.203012Z",
     "iopub.status.idle": "2023-12-04T05:38:36.133610Z",
     "shell.execute_reply": "2023-12-04T05:38:36.132641Z",
     "shell.execute_reply.started": "2023-12-04T05:38:29.203311Z"
    }
   },
   "outputs": [],
   "source": [
    "from pyspark.sql import functions as F\n",
    "\n",
    "# 创建 SparkSession\n",
    "spark = SparkSession.builder.appName(\"StructuredStreamingOutPut\").getOrCreate()\n",
    "\n",
    "file = 'file:///home/jupyter/data/test'\n",
    "# 读取 CSV 文件\n",
    "csvdf = spark.readStream.format(\"csv\") \\\n",
    "        .option(\"header\", \"false\") \\\n",
    "        .schema(schema) \\\n",
    "        .load(file)"
   ]
  },
  {
   "cell_type": "code",
   "execution_count": 25,
   "id": "dabf4db4-c77b-42ef-ba63-1a1a16802964",
   "metadata": {
    "execution": {
     "iopub.execute_input": "2023-12-04T05:57:42.336399Z",
     "iopub.status.busy": "2023-12-04T05:57:42.336127Z",
     "iopub.status.idle": "2023-12-04T05:57:52.407642Z",
     "shell.execute_reply": "2023-12-04T05:57:52.406827Z",
     "shell.execute_reply.started": "2023-12-04T05:57:42.336378Z"
    }
   },
   "outputs": [
    {
     "name": "stderr",
     "output_type": "stream",
     "text": [
      "23/12/04 05:57:42 WARN ResolveWriteToStream: spark.sql.adaptive.enabled is not supported in streaming DataFrames/Datasets and will be disabled.\n"
     ]
    },
    {
     "data": {
      "text/plain": [
       "False"
      ]
     },
     "execution_count": 25,
     "metadata": {},
     "output_type": "execute_result"
    },
    {
     "data": {
      "text/plain": [
       "{'message': 'Waiting for data to arrive',\n",
       " 'isDataAvailable': False,\n",
       " 'isTriggerActive': False}"
      ]
     },
     "execution_count": 25,
     "metadata": {},
     "output_type": "execute_result"
    },
    {
     "data": {
      "text/plain": [
       "{'message': 'Stopped', 'isDataAvailable': False, 'isTriggerActive': False}"
      ]
     },
     "execution_count": 25,
     "metadata": {},
     "output_type": "execute_result"
    }
   ],
   "source": [
    "_csvdf = csvdf.withWatermark('time', '10 second').groupby('time').agg(\n",
    "    F.count(\"time\").alias(\"count\"),\n",
    "    F.last(\"adid\").alias(\"last_adid\"),\n",
    "    F.max(\"adid\").alias(\"max_adid\")\n",
    ")\n",
    "# query = _csvdf.writeStream.outputMode('complete').format('console').start()\n",
    "query = _csvdf.writeStream \\\n",
    "        .outputMode('append') \\\n",
    "        .format('csv') \\\n",
    "        .option('path', '/home/jupyter/notebook/output/path') \\\n",
    "        .option('checkpointLocation', '/home/jupyter/notebook/output/checkpointLocation') \\\n",
    "        .start()\n",
    "query.awaitTermination(timeout=10)\n",
    "\n",
    "query.status\n",
    "# query.lastProgress\n",
    "query.stop()\n",
    "query.status"
   ]
  },
  {
   "cell_type": "markdown",
   "id": "e4fa2fd1-6b51-4f18-a75f-bd6f723201e1",
   "metadata": {},
   "source": [
    "## complete"
   ]
  },
  {
   "cell_type": "code",
   "execution_count": 14,
   "id": "127551d5-e08a-4918-aab2-1ef4d24a3c84",
   "metadata": {
    "execution": {
     "iopub.execute_input": "2023-12-04T05:39:04.538503Z",
     "iopub.status.busy": "2023-12-04T05:39:04.538156Z",
     "iopub.status.idle": "2023-12-04T05:39:04.545097Z",
     "shell.execute_reply": "2023-12-04T05:39:04.543951Z",
     "shell.execute_reply.started": "2023-12-04T05:39:04.538479Z"
    }
   },
   "outputs": [
    {
     "ename": "IndentationError",
     "evalue": "unexpected indent (3943124468.py, line 9)",
     "output_type": "error",
     "traceback": [
      "\u001b[0;36m  Cell \u001b[0;32mIn[14], line 9\u001b[0;36m\u001b[0m\n\u001b[0;31m    .format('csv') \\\u001b[0m\n\u001b[0m    ^\u001b[0m\n\u001b[0;31mIndentationError\u001b[0m\u001b[0;31m:\u001b[0m unexpected indent\n"
     ]
    }
   ],
   "source": [
    "_csvdf = csvdf.groupby('time').agg(\n",
    "    F.count(\"time\").alias(\"count\"),\n",
    "    F.last(\"adid\").alias(\"last_adid\"),\n",
    "    F.max(\"adid\").alias(\"max_adid\")\n",
    ")\n",
    "# query = _csvdf.writeStream.outputMode('complete').format('console').start()\n",
    "query = _csvdf.writeStream \\\n",
    "        .outputMode('complete') \\\n",
    "        .format('csv') \\\n",
    "        .option('path', 'file:///home/jupyter/notebook/output/path') \\\n",
    "        .option('checkpointLocation', 'file:///home/jupyter/notebook/output/checkpointLocation') \\\n",
    "        .start()\n",
    "query.awaitTermination(timeout=10)\n",
    "\n",
    "query.status\n",
    "# query.lastProgress\n",
    "query.stop()\n",
    "query.status"
   ]
  },
  {
   "cell_type": "markdown",
   "id": "6986f773-c881-47fb-90bc-5cc6060b10f1",
   "metadata": {},
   "source": [
    "## append"
   ]
  },
  {
   "cell_type": "code",
   "execution_count": 9,
   "id": "ffd1478a-63d2-4037-99f1-d04013418750",
   "metadata": {
    "execution": {
     "iopub.execute_input": "2023-12-04T05:35:26.774674Z",
     "iopub.status.busy": "2023-12-04T05:35:26.773971Z",
     "iopub.status.idle": "2023-12-04T05:35:36.950490Z",
     "shell.execute_reply": "2023-12-04T05:35:36.949592Z",
     "shell.execute_reply.started": "2023-12-04T05:35:26.774629Z"
    }
   },
   "outputs": [
    {
     "name": "stderr",
     "output_type": "stream",
     "text": [
      "23/12/04 05:35:26 WARN ResolveWriteToStream: spark.sql.adaptive.enabled is not supported in streaming DataFrames/Datasets and will be disabled.\n",
      "                                                                                \r"
     ]
    },
    {
     "data": {
      "text/plain": [
       "False"
      ]
     },
     "execution_count": 9,
     "metadata": {},
     "output_type": "execute_result"
    },
    {
     "data": {
      "text/plain": [
       "{'message': 'Waiting for data to arrive',\n",
       " 'isDataAvailable': False,\n",
       " 'isTriggerActive': False}"
      ]
     },
     "execution_count": 9,
     "metadata": {},
     "output_type": "execute_result"
    },
    {
     "data": {
      "text/plain": [
       "{'message': 'Stopped', 'isDataAvailable': False, 'isTriggerActive': False}"
      ]
     },
     "execution_count": 9,
     "metadata": {},
     "output_type": "execute_result"
    }
   ],
   "source": [
    "_csvdf = csvdf.withWatermark(\"time\", \"60 second\")\n",
    "_csvdf = _csvdf.groupby('time').agg(\n",
    "    F.count(\"time\").alias(\"count\"),\n",
    "    F.last(\"adid\").alias(\"last_adid\"),\n",
    "    F.max(\"adid\").alias(\"max_adid\")\n",
    ")\n",
    "# query = _csvdf.writeStream.outputMode('complete').format('console').start()\n",
    "query = _csvdf.writeStream \\\n",
    "        .outputMode('append') \\\n",
    "        .format('csv') \\\n",
    "        .option('path', 'file:///home/jupyter/notebook/output/path') \\\n",
    "        .option('checkpointLocation', 'file:///home/jupyter/notebook/output/checkpointLocation') \\\n",
    "        .start()\n",
    "query.awaitTermination(timeout=10)\n",
    "\n",
    "query.status\n",
    "# query.lastProgress\n",
    "query.stop()\n",
    "query.status"
   ]
  },
  {
   "cell_type": "markdown",
   "id": "fb1790b3-5d3c-45ec-91db-828a8fa3363f",
   "metadata": {},
   "source": [
    "## update"
   ]
  },
  {
   "cell_type": "code",
   "execution_count": 10,
   "id": "c8c9dd59-2bb8-4ab2-82f0-00665214eaa9",
   "metadata": {
    "execution": {
     "iopub.execute_input": "2023-12-04T05:35:36.951597Z",
     "iopub.status.busy": "2023-12-04T05:35:36.951399Z",
     "iopub.status.idle": "2023-12-04T05:35:47.028020Z",
     "shell.execute_reply": "2023-12-04T05:35:47.027125Z",
     "shell.execute_reply.started": "2023-12-04T05:35:36.951578Z"
    }
   },
   "outputs": [
    {
     "name": "stderr",
     "output_type": "stream",
     "text": [
      "23/12/04 05:35:36 WARN ResolveWriteToStream: Temporary checkpoint location created which is deleted normally when the query didn't fail: /tmp/temporary-9d18bcc9-d0b9-4462-8079-91a7fb753ace. If it's required to delete it under any circumstances, please set spark.sql.streaming.forceDeleteTempCheckpointLocation to true. Important to know deleting temp checkpoint folder is best effort.\n",
      "23/12/04 05:35:36 WARN ResolveWriteToStream: spark.sql.adaptive.enabled is not supported in streaming DataFrames/Datasets and will be disabled.\n",
      "                                                                                \r"
     ]
    },
    {
     "name": "stdout",
     "output_type": "stream",
     "text": [
      "-------------------------------------------\n",
      "Batch: 0\n",
      "-------------------------------------------\n",
      "+-------------------+-----+--------------------+--------------------+\n",
      "|               time|count|           last_adid|            max_adid|\n",
      "+-------------------+-----+--------------------+--------------------+\n",
      "|2023-10-01 00:01:56|    1|7d2a5d84039288900...|7d2a5d84039288900...|\n",
      "|2023-10-01 00:07:18|    2|e613f2c3335bf8979...|e613f2c3335bf8979...|\n",
      "|2023-10-01 00:01:55|    1|137e93b9caf60253a...|137e93b9caf60253a...|\n",
      "|2023-10-01 00:07:59|    1|f20502c58e489b68e...|f20502c58e489b68e...|\n",
      "|2023-10-01 00:05:57|    1|3c39bd30358828d26...|3c39bd30358828d26...|\n",
      "|2023-10-01 00:02:12|    1|504092e5ea59fcf82...|504092e5ea59fcf82...|\n",
      "|2023-10-01 00:01:09|    2|1e8f640fde5c32716...|1f3314dff9eec7e18...|\n",
      "|2023-10-01 00:02:06|    1|973f078d9832a1d20...|973f078d9832a1d20...|\n",
      "|2023-10-01 00:07:44|    2|c2497138e365f15bd...|c2497138e365f15bd...|\n",
      "|2023-10-01 00:03:48|    1|450277e0ce225e9c7...|450277e0ce225e9c7...|\n",
      "|2023-10-01 00:01:35|    1|d6280aaa8f78d3430...|d6280aaa8f78d3430...|\n",
      "|2023-10-01 00:02:46|    1|7b33fb1559c5441ab...|7b33fb1559c5441ab...|\n",
      "|2023-10-01 00:05:23|    1|4c44b2595bbab2531...|4c44b2595bbab2531...|\n",
      "|2023-10-01 00:03:27|    1|d21d2fc97f9d06e4c...|d21d2fc97f9d06e4c...|\n",
      "|2023-10-01 00:01:53|    1|6c3f503ae7a773720...|6c3f503ae7a773720...|\n",
      "|2023-10-01 00:03:42|    1|74a7c2ee8bb3c0f57...|74a7c2ee8bb3c0f57...|\n",
      "|2023-10-01 00:02:51|    1|2dd4f1c1d0648a64b...|2dd4f1c1d0648a64b...|\n",
      "|2023-10-01 00:01:29|    2|2fb45eba0ab10cc46...|d63b8ae0f9230dff0...|\n",
      "|2023-10-01 00:08:24|    1|3792e7ab9ff1263c6...|3792e7ab9ff1263c6...|\n",
      "|2023-10-01 00:07:12|    1|68765969139c1054f...|68765969139c1054f...|\n",
      "+-------------------+-----+--------------------+--------------------+\n",
      "only showing top 20 rows\n",
      "\n"
     ]
    },
    {
     "data": {
      "text/plain": [
       "False"
      ]
     },
     "execution_count": 10,
     "metadata": {},
     "output_type": "execute_result"
    },
    {
     "data": {
      "text/plain": [
       "{'message': 'Getting offsets from FileStreamSource[file:/home/jupyter/data/test]',\n",
       " 'isDataAvailable': False,\n",
       " 'isTriggerActive': True}"
      ]
     },
     "execution_count": 10,
     "metadata": {},
     "output_type": "execute_result"
    },
    {
     "data": {
      "text/plain": [
       "{'id': 'e2629ff9-f732-4369-a18c-d783d005f15e',\n",
       " 'runId': '10c07989-39e1-4d48-bc30-19860946c4dc',\n",
       " 'name': None,\n",
       " 'timestamp': '2023-12-04T05:35:37.013Z',\n",
       " 'batchId': 0,\n",
       " 'numInputRows': 135,\n",
       " 'inputRowsPerSecond': 0.0,\n",
       " 'processedRowsPerSecond': 41.74397031539889,\n",
       " 'durationMs': {'addBatch': 3106,\n",
       "  'commitOffsets': 31,\n",
       "  'getBatch': 18,\n",
       "  'latestOffset': 39,\n",
       "  'queryPlanning': 15,\n",
       "  'triggerExecution': 3234,\n",
       "  'walCommit': 25},\n",
       " 'stateOperators': [{'operatorName': 'stateStoreSave',\n",
       "   'numRowsTotal': 117,\n",
       "   'numRowsUpdated': 117,\n",
       "   'allUpdatesTimeMs': 324,\n",
       "   'numRowsRemoved': 0,\n",
       "   'allRemovalsTimeMs': 0,\n",
       "   'commitTimeMs': 1947,\n",
       "   'memoryUsedBytes': 83368,\n",
       "   'numRowsDroppedByWatermark': 0,\n",
       "   'numShufflePartitions': 200,\n",
       "   'numStateStoreInstances': 200,\n",
       "   'customMetrics': {'loadedMapCacheHitCount': 0,\n",
       "    'loadedMapCacheMissCount': 0,\n",
       "    'stateOnCurrentVersionSizeBytes': 54568}}],\n",
       " 'sources': [{'description': 'FileStreamSource[file:/home/jupyter/data/test]',\n",
       "   'startOffset': None,\n",
       "   'endOffset': {'logOffset': 0},\n",
       "   'latestOffset': None,\n",
       "   'numInputRows': 135,\n",
       "   'inputRowsPerSecond': 0.0,\n",
       "   'processedRowsPerSecond': 41.74397031539889}],\n",
       " 'sink': {'description': 'org.apache.spark.sql.execution.streaming.ConsoleTable$@66f7501a',\n",
       "  'numOutputRows': 117}}"
      ]
     },
     "execution_count": 10,
     "metadata": {},
     "output_type": "execute_result"
    },
    {
     "data": {
      "text/plain": [
       "{'message': 'Stopped', 'isDataAvailable': False, 'isTriggerActive': False}"
      ]
     },
     "execution_count": 10,
     "metadata": {},
     "output_type": "execute_result"
    }
   ],
   "source": [
    "from pyspark.sql import functions as F\n",
    "\n",
    "_csvdf = csvdf.groupby('time').agg(\n",
    "    F.count(\"time\").alias(\"count\"),\n",
    "    F.last(\"adid\").alias(\"last_adid\"),\n",
    "    F.max(\"adid\").alias(\"max_adid\")\n",
    ")\n",
    "query = _csvdf.writeStream.outputMode('update').format('console').start()\n",
    "\n",
    "query.awaitTermination(timeout=10)\n",
    "\n",
    "query.status\n",
    "# query.lastProgress\n",
    "query.stop()\n",
    "query.status"
   ]
  },
  {
   "cell_type": "code",
   "execution_count": 11,
   "id": "c869b927-89ce-4628-80b5-083abb476385",
   "metadata": {
    "execution": {
     "iopub.execute_input": "2023-12-04T05:35:47.029465Z",
     "iopub.status.busy": "2023-12-04T05:35:47.028970Z",
     "iopub.status.idle": "2023-12-04T05:35:47.613140Z",
     "shell.execute_reply": "2023-12-04T05:35:47.612352Z",
     "shell.execute_reply.started": "2023-12-04T05:35:47.029442Z"
    }
   },
   "outputs": [],
   "source": [
    "spark.stop()"
   ]
  },
  {
   "cell_type": "markdown",
   "id": "eeaebb5b-cbd5-4cb3-8931-9290182c649d",
   "metadata": {},
   "source": [
    "# window "
   ]
  },
  {
   "cell_type": "code",
   "execution_count": null,
   "id": "1886c734-aa36-4b01-b720-f19c06e5a1df",
   "metadata": {},
   "outputs": [],
   "source": []
  }
 ],
 "metadata": {
  "kernelspec": {
   "display_name": "Python 3 (ipykernel)",
   "language": "python",
   "name": "python3"
  },
  "language_info": {
   "codemirror_mode": {
    "name": "ipython",
    "version": 3
   },
   "file_extension": ".py",
   "mimetype": "text/x-python",
   "name": "python",
   "nbconvert_exporter": "python",
   "pygments_lexer": "ipython3",
   "version": "3.10.12"
  },
  "widgets": {
   "application/vnd.jupyter.widget-state+json": {
    "state": {},
    "version_major": 2,
    "version_minor": 0
   }
  }
 },
 "nbformat": 4,
 "nbformat_minor": 5
}
