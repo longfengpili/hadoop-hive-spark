{
 "cells": [
  {
   "cell_type": "markdown",
   "id": "e2f77b2b-8a82-4d29-bc15-360bd57512af",
   "metadata": {},
   "source": [
    "# DataFrame"
   ]
  },
  {
   "cell_type": "code",
   "execution_count": 1,
   "id": "69f023cc-0964-4727-9f18-9a4b1909cec3",
   "metadata": {
    "execution": {
     "iopub.execute_input": "2023-11-22T06:47:29.106430Z",
     "iopub.status.busy": "2023-11-22T06:47:29.106086Z",
     "iopub.status.idle": "2023-11-22T06:47:29.157741Z",
     "shell.execute_reply": "2023-11-22T06:47:29.156905Z",
     "shell.execute_reply.started": "2023-11-22T06:47:29.106398Z"
    }
   },
   "outputs": [],
   "source": [
    "from pyspark.sql import SparkSession\n",
    "from datetime import datetime, date\n",
    "import pandas as pd\n",
    "from pyspark.sql import Row"
   ]
  },
  {
   "cell_type": "code",
   "execution_count": 2,
   "id": "b019bd07-8601-4bc3-aa3a-6dcb8a314418",
   "metadata": {
    "execution": {
     "iopub.execute_input": "2023-11-22T06:47:29.159867Z",
     "iopub.status.busy": "2023-11-22T06:47:29.159450Z",
     "iopub.status.idle": "2023-11-22T06:47:39.405688Z",
     "shell.execute_reply": "2023-11-22T06:47:39.404813Z",
     "shell.execute_reply.started": "2023-11-22T06:47:29.159838Z"
    }
   },
   "outputs": [
    {
     "name": "stderr",
     "output_type": "stream",
     "text": [
      "Setting default log level to \"WARN\".\n",
      "To adjust logging level use sc.setLogLevel(newLevel). For SparkR, use setLogLevel(newLevel).\n"
     ]
    }
   ],
   "source": [
    "spark = SparkSession.builder.getOrCreate()"
   ]
  },
  {
   "cell_type": "markdown",
   "id": "4fffb24d-a673-4d92-be16-fe9a2a0ed51e",
   "metadata": {},
   "source": [
    "## creation"
   ]
  },
  {
   "cell_type": "code",
   "execution_count": 3,
   "id": "f67990e6-5c3b-4c3b-bdd6-85b8e54be362",
   "metadata": {
    "execution": {
     "iopub.execute_input": "2023-11-22T06:47:39.407730Z",
     "iopub.status.busy": "2023-11-22T06:47:39.406995Z",
     "iopub.status.idle": "2023-11-22T06:47:40.860786Z",
     "shell.execute_reply": "2023-11-22T06:47:40.859843Z",
     "shell.execute_reply.started": "2023-11-22T06:47:39.407705Z"
    }
   },
   "outputs": [
    {
     "data": {
      "text/plain": [
       "DataFrame[a: bigint, b: double, c: string, d: date, e: timestamp]"
      ]
     },
     "execution_count": 3,
     "metadata": {},
     "output_type": "execute_result"
    }
   ],
   "source": [
    "df = spark.createDataFrame([\n",
    "    Row(a=1, b=2., c='string1', d=date(2000, 1, 1), e=datetime(2000, 1, 1, 12, 0)),\n",
    "    Row(a=2, b=3., c='string2', d=date(2000, 2, 1), e=datetime(2000, 1, 2, 12, 0)),\n",
    "    Row(a=4, b=5., c='string3', d=date(2000, 3, 1), e=datetime(2000, 1, 3, 12, 0))\n",
    "])\n",
    "df"
   ]
  },
  {
   "cell_type": "code",
   "execution_count": 4,
   "id": "73be500a-0bc5-4d2f-8037-9ea45d7079ce",
   "metadata": {
    "execution": {
     "iopub.execute_input": "2023-11-22T06:47:40.861943Z",
     "iopub.status.busy": "2023-11-22T06:47:40.861715Z",
     "iopub.status.idle": "2023-11-22T06:47:40.952823Z",
     "shell.execute_reply": "2023-11-22T06:47:40.951934Z",
     "shell.execute_reply.started": "2023-11-22T06:47:40.861923Z"
    }
   },
   "outputs": [
    {
     "data": {
      "text/plain": [
       "DataFrame[a: bigint, b: double, c: string, d: date, e: timestamp]"
      ]
     },
     "execution_count": 4,
     "metadata": {},
     "output_type": "execute_result"
    }
   ],
   "source": [
    "df = spark.createDataFrame([\n",
    "    (1, 2., 'string1', date(2000, 1, 1), datetime(2000, 1, 1, 12, 0)),\n",
    "    (2, 3., 'string2', date(2000, 2, 1), datetime(2000, 1, 2, 12, 0)),\n",
    "    (3, 4., 'string3', date(2000, 3, 1), datetime(2000, 1, 3, 12, 0))\n",
    "], schema='a long, b double, c string, d date, e timestamp')\n",
    "df"
   ]
  },
  {
   "cell_type": "code",
   "execution_count": 5,
   "id": "60fdc189-3edc-428e-8bc7-360adae6f84c",
   "metadata": {
    "execution": {
     "iopub.execute_input": "2023-11-22T06:47:40.953914Z",
     "iopub.status.busy": "2023-11-22T06:47:40.953707Z",
     "iopub.status.idle": "2023-11-22T06:47:41.002910Z",
     "shell.execute_reply": "2023-11-22T06:47:41.002174Z",
     "shell.execute_reply.started": "2023-11-22T06:47:40.953895Z"
    }
   },
   "outputs": [
    {
     "name": "stderr",
     "output_type": "stream",
     "text": [
      "/usr/local/lib/python3.10/dist-packages/pyspark/sql/pandas/conversion.py:485: FutureWarning: is_datetime64tz_dtype is deprecated and will be removed in a future version. Check `isinstance(dtype, pd.DatetimeTZDtype)` instead.\n",
      "  if should_localize and is_datetime64tz_dtype(s.dtype) and s.dt.tz is not None:\n"
     ]
    },
    {
     "data": {
      "text/plain": [
       "DataFrame[a: bigint, b: double, c: string, d: date, e: timestamp]"
      ]
     },
     "execution_count": 5,
     "metadata": {},
     "output_type": "execute_result"
    }
   ],
   "source": [
    "pandas_df = pd.DataFrame({\n",
    "    'a': [1, 2, 3],\n",
    "    'b': [2., 3., 4.],\n",
    "    'c': ['string1', 'string2', 'string3'],\n",
    "    'd': [date(2000, 1, 1), date(2000, 2, 1), date(2000, 3, 1)],\n",
    "    'e': [datetime(2000, 1, 1, 12, 0), datetime(2000, 1, 2, 12, 0), datetime(2000, 1, 3, 12, 0)]\n",
    "})\n",
    "df = spark.createDataFrame(pandas_df)\n",
    "df"
   ]
  },
  {
   "cell_type": "code",
   "execution_count": 6,
   "id": "5d235d50-da5c-4970-ae66-5faf7fd7de2a",
   "metadata": {
    "execution": {
     "iopub.execute_input": "2023-11-22T06:47:41.004095Z",
     "iopub.status.busy": "2023-11-22T06:47:41.003824Z",
     "iopub.status.idle": "2023-11-22T06:47:45.170437Z",
     "shell.execute_reply": "2023-11-22T06:47:45.169522Z",
     "shell.execute_reply.started": "2023-11-22T06:47:41.004075Z"
    }
   },
   "outputs": [
    {
     "name": "stderr",
     "output_type": "stream",
     "text": [
      "                                                                                \r"
     ]
    },
    {
     "name": "stdout",
     "output_type": "stream",
     "text": [
      "+---+---+-------+----------+-------------------+\n",
      "|  a|  b|      c|         d|                  e|\n",
      "+---+---+-------+----------+-------------------+\n",
      "|  1|2.0|string1|2000-01-01|2000-01-01 12:00:00|\n",
      "|  2|3.0|string2|2000-02-01|2000-01-02 12:00:00|\n",
      "|  3|4.0|string3|2000-03-01|2000-01-03 12:00:00|\n",
      "+---+---+-------+----------+-------------------+\n",
      "\n",
      "root\n",
      " |-- a: long (nullable = true)\n",
      " |-- b: double (nullable = true)\n",
      " |-- c: string (nullable = true)\n",
      " |-- d: date (nullable = true)\n",
      " |-- e: timestamp (nullable = true)\n",
      "\n"
     ]
    }
   ],
   "source": [
    "# All DataFrames above result same.\n",
    "df.show()\n",
    "df.printSchema()"
   ]
  },
  {
   "cell_type": "markdown",
   "id": "536cc9c0-b2cf-4dd1-ae7a-39ad370a9a01",
   "metadata": {},
   "source": [
    "## viewing"
   ]
  },
  {
   "cell_type": "code",
   "execution_count": 7,
   "id": "040f679a-e942-4c09-8a87-a7d952946d82",
   "metadata": {
    "execution": {
     "iopub.execute_input": "2023-11-22T06:47:45.172723Z",
     "iopub.status.busy": "2023-11-22T06:47:45.172225Z",
     "iopub.status.idle": "2023-11-22T06:47:45.475835Z",
     "shell.execute_reply": "2023-11-22T06:47:45.475043Z",
     "shell.execute_reply.started": "2023-11-22T06:47:45.172699Z"
    }
   },
   "outputs": [
    {
     "name": "stdout",
     "output_type": "stream",
     "text": [
      "+---+---+-------+----------+-------------------+\n",
      "|  a|  b|      c|         d|                  e|\n",
      "+---+---+-------+----------+-------------------+\n",
      "|  1|2.0|string1|2000-01-01|2000-01-01 12:00:00|\n",
      "+---+---+-------+----------+-------------------+\n",
      "only showing top 1 row\n",
      "\n"
     ]
    }
   ],
   "source": [
    "df.show(1)"
   ]
  },
  {
   "cell_type": "code",
   "execution_count": 8,
   "id": "afce2cfc-e7e3-4070-8a3b-86404d79b8cd",
   "metadata": {
    "execution": {
     "iopub.execute_input": "2023-11-22T06:47:45.476928Z",
     "iopub.status.busy": "2023-11-22T06:47:45.476722Z",
     "iopub.status.idle": "2023-11-22T06:47:45.757637Z",
     "shell.execute_reply": "2023-11-22T06:47:45.756752Z",
     "shell.execute_reply.started": "2023-11-22T06:47:45.476909Z"
    }
   },
   "outputs": [
    {
     "name": "stdout",
     "output_type": "stream",
     "text": [
      "-RECORD 0------------------\n",
      " a   | 1                   \n",
      " b   | 2.0                 \n",
      " c   | string1             \n",
      " d   | 2000-01-01          \n",
      " e   | 2000-01-01 12:00:00 \n",
      "only showing top 1 row\n",
      "\n"
     ]
    }
   ],
   "source": [
    "df.show(1, vertical=True)"
   ]
  },
  {
   "cell_type": "code",
   "execution_count": 9,
   "id": "9184d815-ee88-40cc-902b-5ae377f69879",
   "metadata": {
    "execution": {
     "iopub.execute_input": "2023-11-22T06:47:45.759315Z",
     "iopub.status.busy": "2023-11-22T06:47:45.759063Z",
     "iopub.status.idle": "2023-11-22T06:47:45.765116Z",
     "shell.execute_reply": "2023-11-22T06:47:45.763879Z",
     "shell.execute_reply.started": "2023-11-22T06:47:45.759293Z"
    }
   },
   "outputs": [
    {
     "data": {
      "text/plain": [
       "['a', 'b', 'c', 'd', 'e']"
      ]
     },
     "execution_count": 9,
     "metadata": {},
     "output_type": "execute_result"
    }
   ],
   "source": [
    "df.columns"
   ]
  },
  {
   "cell_type": "code",
   "execution_count": 10,
   "id": "698548eb-8ea8-461e-b1fe-7006c9ae8fae",
   "metadata": {
    "execution": {
     "iopub.execute_input": "2023-11-22T06:47:45.766864Z",
     "iopub.status.busy": "2023-11-22T06:47:45.766371Z",
     "iopub.status.idle": "2023-11-22T06:47:47.757266Z",
     "shell.execute_reply": "2023-11-22T06:47:47.756370Z",
     "shell.execute_reply.started": "2023-11-22T06:47:45.766838Z"
    }
   },
   "outputs": [
    {
     "name": "stderr",
     "output_type": "stream",
     "text": [
      "[Stage 6:>                                                          (0 + 2) / 2]\r"
     ]
    },
    {
     "name": "stdout",
     "output_type": "stream",
     "text": [
      "+-------+---+---+-------+\n",
      "|summary|  a|  b|      c|\n",
      "+-------+---+---+-------+\n",
      "|  count|  3|  3|      3|\n",
      "|   mean|2.0|3.0|   NULL|\n",
      "| stddev|1.0|1.0|   NULL|\n",
      "|    min|  1|2.0|string1|\n",
      "|    max|  3|4.0|string3|\n",
      "+-------+---+---+-------+\n",
      "\n"
     ]
    },
    {
     "name": "stderr",
     "output_type": "stream",
     "text": [
      "                                                                                \r"
     ]
    }
   ],
   "source": [
    "df.select(\"a\", \"b\", \"c\").describe().show()"
   ]
  },
  {
   "cell_type": "code",
   "execution_count": 11,
   "id": "8c484882-f762-49bf-bc11-01bc1b91006a",
   "metadata": {
    "execution": {
     "iopub.execute_input": "2023-11-22T06:47:47.758665Z",
     "iopub.status.busy": "2023-11-22T06:47:47.758440Z",
     "iopub.status.idle": "2023-11-22T06:47:48.107551Z",
     "shell.execute_reply": "2023-11-22T06:47:48.106634Z",
     "shell.execute_reply.started": "2023-11-22T06:47:47.758644Z"
    }
   },
   "outputs": [
    {
     "data": {
      "text/plain": [
       "[Row(a=1, b=2.0, c='string1', d=datetime.date(2000, 1, 1), e=datetime.datetime(2000, 1, 1, 12, 0)),\n",
       " Row(a=2, b=3.0, c='string2', d=datetime.date(2000, 2, 1), e=datetime.datetime(2000, 1, 2, 12, 0)),\n",
       " Row(a=3, b=4.0, c='string3', d=datetime.date(2000, 3, 1), e=datetime.datetime(2000, 1, 3, 12, 0))]"
      ]
     },
     "execution_count": 11,
     "metadata": {},
     "output_type": "execute_result"
    },
    {
     "data": {
      "text/plain": [
       "[Row(a=1, b=2.0, c='string1', d=datetime.date(2000, 1, 1), e=datetime.datetime(2000, 1, 1, 12, 0))]"
      ]
     },
     "execution_count": 11,
     "metadata": {},
     "output_type": "execute_result"
    }
   ],
   "source": [
    "df.collect()\n",
    "df.take(1)"
   ]
  },
  {
   "cell_type": "code",
   "execution_count": 12,
   "id": "b9c01bc2-10f6-4f90-81d7-383a518852bd",
   "metadata": {
    "execution": {
     "iopub.execute_input": "2023-11-22T06:47:55.125873Z",
     "iopub.status.busy": "2023-11-22T06:47:55.125626Z",
     "iopub.status.idle": "2023-11-22T06:47:55.305549Z",
     "shell.execute_reply": "2023-11-22T06:47:55.304737Z",
     "shell.execute_reply.started": "2023-11-22T06:47:55.125852Z"
    }
   },
   "outputs": [
    {
     "name": "stderr",
     "output_type": "stream",
     "text": [
      "/usr/local/lib/python3.10/dist-packages/pyspark/sql/pandas/types.py:563: FutureWarning: is_datetime64tz_dtype is deprecated and will be removed in a future version. Check `isinstance(dtype, pd.DatetimeTZDtype)` instead.\n",
      "  if not is_datetime64tz_dtype(pser.dtype):\n",
      "/usr/local/lib/python3.10/dist-packages/pyspark/sql/pandas/types.py:379: FutureWarning: is_datetime64tz_dtype is deprecated and will be removed in a future version. Check `isinstance(dtype, pd.DatetimeTZDtype)` instead.\n",
      "  if is_datetime64tz_dtype(s.dtype):\n"
     ]
    },
    {
     "data": {
      "text/html": [
       "<div>\n",
       "<style scoped>\n",
       "    .dataframe tbody tr th:only-of-type {\n",
       "        vertical-align: middle;\n",
       "    }\n",
       "\n",
       "    .dataframe tbody tr th {\n",
       "        vertical-align: top;\n",
       "    }\n",
       "\n",
       "    .dataframe thead th {\n",
       "        text-align: right;\n",
       "    }\n",
       "</style>\n",
       "<table border=\"1\" class=\"dataframe\">\n",
       "  <thead>\n",
       "    <tr style=\"text-align: right;\">\n",
       "      <th></th>\n",
       "      <th>a</th>\n",
       "      <th>b</th>\n",
       "      <th>c</th>\n",
       "      <th>d</th>\n",
       "      <th>e</th>\n",
       "    </tr>\n",
       "  </thead>\n",
       "  <tbody>\n",
       "    <tr>\n",
       "      <th>0</th>\n",
       "      <td>1</td>\n",
       "      <td>2.0</td>\n",
       "      <td>string1</td>\n",
       "      <td>2000-01-01</td>\n",
       "      <td>2000-01-01 12:00:00</td>\n",
       "    </tr>\n",
       "    <tr>\n",
       "      <th>1</th>\n",
       "      <td>2</td>\n",
       "      <td>3.0</td>\n",
       "      <td>string2</td>\n",
       "      <td>2000-02-01</td>\n",
       "      <td>2000-01-02 12:00:00</td>\n",
       "    </tr>\n",
       "    <tr>\n",
       "      <th>2</th>\n",
       "      <td>3</td>\n",
       "      <td>4.0</td>\n",
       "      <td>string3</td>\n",
       "      <td>2000-03-01</td>\n",
       "      <td>2000-01-03 12:00:00</td>\n",
       "    </tr>\n",
       "  </tbody>\n",
       "</table>\n",
       "</div>"
      ],
      "text/plain": [
       "   a    b        c           d                   e\n",
       "0  1  2.0  string1  2000-01-01 2000-01-01 12:00:00\n",
       "1  2  3.0  string2  2000-02-01 2000-01-02 12:00:00\n",
       "2  3  4.0  string3  2000-03-01 2000-01-03 12:00:00"
      ]
     },
     "execution_count": 12,
     "metadata": {},
     "output_type": "execute_result"
    }
   ],
   "source": [
    "df.toPandas()"
   ]
  },
  {
   "cell_type": "markdown",
   "id": "8d5105ba-d342-48c4-a470-23eecbcc8d9d",
   "metadata": {},
   "source": [
    "## selecting and accessing"
   ]
  },
  {
   "cell_type": "code",
   "execution_count": 13,
   "id": "fab1ce13-cd83-41d7-9001-f1a5eda21cdd",
   "metadata": {
    "execution": {
     "iopub.execute_input": "2023-11-22T06:48:46.548841Z",
     "iopub.status.busy": "2023-11-22T06:48:46.548191Z",
     "iopub.status.idle": "2023-11-22T06:48:46.557543Z",
     "shell.execute_reply": "2023-11-22T06:48:46.556466Z",
     "shell.execute_reply.started": "2023-11-22T06:48:46.548816Z"
    }
   },
   "outputs": [
    {
     "data": {
      "text/plain": [
       "Column<'a'>"
      ]
     },
     "execution_count": 13,
     "metadata": {},
     "output_type": "execute_result"
    }
   ],
   "source": [
    "df.a"
   ]
  },
  {
   "cell_type": "code",
   "execution_count": 17,
   "id": "7e469b7c-a2c8-4273-8a55-0255c7b52642",
   "metadata": {
    "execution": {
     "iopub.execute_input": "2023-11-22T06:50:16.181009Z",
     "iopub.status.busy": "2023-11-22T06:50:16.180494Z",
     "iopub.status.idle": "2023-11-22T06:50:16.189977Z",
     "shell.execute_reply": "2023-11-22T06:50:16.189141Z",
     "shell.execute_reply.started": "2023-11-22T06:50:16.180985Z"
    }
   },
   "outputs": [
    {
     "data": {
      "text/plain": [
       "True"
      ]
     },
     "execution_count": 17,
     "metadata": {},
     "output_type": "execute_result"
    }
   ],
   "source": [
    "from pyspark.sql import Column\n",
    "from pyspark.sql.functions import upper\n",
    "\n",
    "type(df.c) == type(upper(df.c)) == type(df.c.isNull())"
   ]
  },
  {
   "cell_type": "code",
   "execution_count": 20,
   "id": "58a654c3-46f8-4733-b9c0-5c6f887983a3",
   "metadata": {
    "execution": {
     "iopub.execute_input": "2023-11-22T06:51:06.743768Z",
     "iopub.status.busy": "2023-11-22T06:51:06.743515Z",
     "iopub.status.idle": "2023-11-22T06:51:07.266886Z",
     "shell.execute_reply": "2023-11-22T06:51:07.266094Z",
     "shell.execute_reply.started": "2023-11-22T06:51:06.743747Z"
    }
   },
   "outputs": [
    {
     "name": "stdout",
     "output_type": "stream",
     "text": [
      "+-------+\n",
      "|      c|\n",
      "+-------+\n",
      "|string1|\n",
      "|string2|\n",
      "|string3|\n",
      "+-------+\n",
      "\n",
      "+-------+\n",
      "|      c|\n",
      "+-------+\n",
      "|string1|\n",
      "|string2|\n",
      "|string3|\n",
      "+-------+\n",
      "\n"
     ]
    }
   ],
   "source": [
    "df.select(df.c).show()\n",
    "df.select('c').show()"
   ]
  },
  {
   "cell_type": "code",
   "execution_count": 21,
   "id": "6eba0363-e44b-4605-8669-e392442ab562",
   "metadata": {
    "execution": {
     "iopub.execute_input": "2023-11-22T06:51:26.202929Z",
     "iopub.status.busy": "2023-11-22T06:51:26.202664Z",
     "iopub.status.idle": "2023-11-22T06:51:26.482406Z",
     "shell.execute_reply": "2023-11-22T06:51:26.481632Z",
     "shell.execute_reply.started": "2023-11-22T06:51:26.202908Z"
    }
   },
   "outputs": [
    {
     "name": "stdout",
     "output_type": "stream",
     "text": [
      "+---+---+-------+----------+-------------------+-------+\n",
      "|  a|  b|      c|         d|                  e|upper_c|\n",
      "+---+---+-------+----------+-------------------+-------+\n",
      "|  1|2.0|string1|2000-01-01|2000-01-01 12:00:00|STRING1|\n",
      "|  2|3.0|string2|2000-02-01|2000-01-02 12:00:00|STRING2|\n",
      "|  3|4.0|string3|2000-03-01|2000-01-03 12:00:00|STRING3|\n",
      "+---+---+-------+----------+-------------------+-------+\n",
      "\n"
     ]
    }
   ],
   "source": [
    "df.withColumn('upper_c', upper(df.c)).show()"
   ]
  },
  {
   "cell_type": "code",
   "execution_count": 22,
   "id": "c2dc53be-a09e-412b-95ec-d6a271df6d98",
   "metadata": {
    "execution": {
     "iopub.execute_input": "2023-11-22T06:51:55.536117Z",
     "iopub.status.busy": "2023-11-22T06:51:55.535470Z",
     "iopub.status.idle": "2023-11-22T06:51:55.841007Z",
     "shell.execute_reply": "2023-11-22T06:51:55.840161Z",
     "shell.execute_reply.started": "2023-11-22T06:51:55.536091Z"
    }
   },
   "outputs": [
    {
     "name": "stdout",
     "output_type": "stream",
     "text": [
      "+---+---+-------+----------+-------------------+\n",
      "|  a|  b|      c|         d|                  e|\n",
      "+---+---+-------+----------+-------------------+\n",
      "|  1|2.0|string1|2000-01-01|2000-01-01 12:00:00|\n",
      "+---+---+-------+----------+-------------------+\n",
      "\n"
     ]
    }
   ],
   "source": [
    "df.filter(df.a == 1).show()"
   ]
  },
  {
   "cell_type": "markdown",
   "id": "a0d94257-2bd1-49f8-b005-e95c5203b15c",
   "metadata": {},
   "source": [
    "## applying a function"
   ]
  },
  {
   "cell_type": "code",
   "execution_count": 23,
   "id": "1de9e104-62bb-4ef7-92fd-ebc9e076dd11",
   "metadata": {
    "execution": {
     "iopub.execute_input": "2023-11-22T06:55:58.724746Z",
     "iopub.status.busy": "2023-11-22T06:55:58.724440Z",
     "iopub.status.idle": "2023-11-22T06:55:58.782877Z",
     "shell.execute_reply": "2023-11-22T06:55:58.781577Z",
     "shell.execute_reply.started": "2023-11-22T06:55:58.724725Z"
    }
   },
   "outputs": [
    {
     "ename": "ImportError",
     "evalue": "PyArrow >= 4.0.0 must be installed; however, it was not found.",
     "output_type": "error",
     "traceback": [
      "\u001b[0;31m---------------------------------------------------------------------------\u001b[0m",
      "\u001b[0;31mModuleNotFoundError\u001b[0m                       Traceback (most recent call last)",
      "File \u001b[0;32m/usr/local/lib/python3.10/dist-packages/pyspark/sql/pandas/utils.py:53\u001b[0m, in \u001b[0;36mrequire_minimum_pyarrow_version\u001b[0;34m()\u001b[0m\n\u001b[1;32m     52\u001b[0m \u001b[38;5;28;01mtry\u001b[39;00m:\n\u001b[0;32m---> 53\u001b[0m     \u001b[38;5;28;01mimport\u001b[39;00m \u001b[38;5;21;01mpyarrow\u001b[39;00m\n\u001b[1;32m     55\u001b[0m     have_arrow \u001b[38;5;241m=\u001b[39m \u001b[38;5;28;01mTrue\u001b[39;00m\n",
      "\u001b[0;31mModuleNotFoundError\u001b[0m: No module named 'pyarrow'",
      "\nThe above exception was the direct cause of the following exception:\n",
      "\u001b[0;31mImportError\u001b[0m                               Traceback (most recent call last)",
      "Cell \u001b[0;32mIn[23], line 4\u001b[0m\n\u001b[1;32m      1\u001b[0m \u001b[38;5;28;01mimport\u001b[39;00m \u001b[38;5;21;01mpandas\u001b[39;00m \u001b[38;5;28;01mas\u001b[39;00m \u001b[38;5;21;01mpd\u001b[39;00m\n\u001b[1;32m      2\u001b[0m \u001b[38;5;28;01mfrom\u001b[39;00m \u001b[38;5;21;01mpyspark\u001b[39;00m\u001b[38;5;21;01m.\u001b[39;00m\u001b[38;5;21;01msql\u001b[39;00m\u001b[38;5;21;01m.\u001b[39;00m\u001b[38;5;21;01mfunctions\u001b[39;00m \u001b[38;5;28;01mimport\u001b[39;00m pandas_udf\n\u001b[0;32m----> 4\u001b[0m \u001b[38;5;129m@pandas_udf\u001b[39m\u001b[43m(\u001b[49m\u001b[38;5;124;43m'\u001b[39;49m\u001b[38;5;124;43mlong\u001b[39;49m\u001b[38;5;124;43m'\u001b[39;49m\u001b[43m)\u001b[49m\n\u001b[1;32m      5\u001b[0m \u001b[38;5;28;01mdef\u001b[39;00m \u001b[38;5;21mpandas_plus_one\u001b[39m(series: pd\u001b[38;5;241m.\u001b[39mSeries) \u001b[38;5;241m-\u001b[39m\u001b[38;5;241m>\u001b[39m pd\u001b[38;5;241m.\u001b[39mSeries:\n\u001b[1;32m      6\u001b[0m     \u001b[38;5;66;03m# Simply plus one by using pandas Series.\u001b[39;00m\n\u001b[1;32m      7\u001b[0m     \u001b[38;5;28;01mreturn\u001b[39;00m series \u001b[38;5;241m+\u001b[39m \u001b[38;5;241m1\u001b[39m\n\u001b[1;32m      9\u001b[0m df\u001b[38;5;241m.\u001b[39mselect(pandas_plus_one(df\u001b[38;5;241m.\u001b[39ma))\u001b[38;5;241m.\u001b[39mshow()\n",
      "File \u001b[0;32m/usr/local/lib/python3.10/dist-packages/pyspark/sql/pandas/functions.py:338\u001b[0m, in \u001b[0;36mpandas_udf\u001b[0;34m(f, returnType, functionType)\u001b[0m\n\u001b[1;32m    306\u001b[0m \u001b[38;5;66;03m# The following table shows most of Pandas data and SQL type conversions in Pandas UDFs that\u001b[39;00m\n\u001b[1;32m    307\u001b[0m \u001b[38;5;66;03m# are not yet visible to the user. Some of behaviors are buggy and might be changed in the near\u001b[39;00m\n\u001b[1;32m    308\u001b[0m \u001b[38;5;66;03m# future. The table might have to be eventually documented externally.\u001b[39;00m\n\u001b[0;32m   (...)\u001b[0m\n\u001b[1;32m    335\u001b[0m \u001b[38;5;66;03m# Note: Timezone is KST.\u001b[39;00m\n\u001b[1;32m    336\u001b[0m \u001b[38;5;66;03m# Note: 'X' means it throws an exception during the conversion.\u001b[39;00m\n\u001b[1;32m    337\u001b[0m require_minimum_pandas_version()\n\u001b[0;32m--> 338\u001b[0m \u001b[43mrequire_minimum_pyarrow_version\u001b[49m\u001b[43m(\u001b[49m\u001b[43m)\u001b[49m\n\u001b[1;32m    340\u001b[0m \u001b[38;5;66;03m# decorator @pandas_udf(returnType, functionType)\u001b[39;00m\n\u001b[1;32m    341\u001b[0m is_decorator \u001b[38;5;241m=\u001b[39m f \u001b[38;5;129;01mis\u001b[39;00m \u001b[38;5;28;01mNone\u001b[39;00m \u001b[38;5;129;01mor\u001b[39;00m \u001b[38;5;28misinstance\u001b[39m(f, (\u001b[38;5;28mstr\u001b[39m, DataType))\n",
      "File \u001b[0;32m/usr/local/lib/python3.10/dist-packages/pyspark/sql/pandas/utils.py:60\u001b[0m, in \u001b[0;36mrequire_minimum_pyarrow_version\u001b[0;34m()\u001b[0m\n\u001b[1;32m     58\u001b[0m     raised_error \u001b[38;5;241m=\u001b[39m error\n\u001b[1;32m     59\u001b[0m \u001b[38;5;28;01mif\u001b[39;00m \u001b[38;5;129;01mnot\u001b[39;00m have_arrow:\n\u001b[0;32m---> 60\u001b[0m     \u001b[38;5;28;01mraise\u001b[39;00m \u001b[38;5;167;01mImportError\u001b[39;00m(\n\u001b[1;32m     61\u001b[0m         \u001b[38;5;124m\"\u001b[39m\u001b[38;5;124mPyArrow >= \u001b[39m\u001b[38;5;132;01m%s\u001b[39;00m\u001b[38;5;124m must be installed; however, \u001b[39m\u001b[38;5;124m\"\u001b[39m\n\u001b[1;32m     62\u001b[0m         \u001b[38;5;124m\"\u001b[39m\u001b[38;5;124mit was not found.\u001b[39m\u001b[38;5;124m\"\u001b[39m \u001b[38;5;241m%\u001b[39m minimum_pyarrow_version\n\u001b[1;32m     63\u001b[0m     ) \u001b[38;5;28;01mfrom\u001b[39;00m \u001b[38;5;21;01mraised_error\u001b[39;00m\n\u001b[1;32m     64\u001b[0m \u001b[38;5;28;01mif\u001b[39;00m LooseVersion(pyarrow\u001b[38;5;241m.\u001b[39m__version__) \u001b[38;5;241m<\u001b[39m LooseVersion(minimum_pyarrow_version):\n\u001b[1;32m     65\u001b[0m     \u001b[38;5;28;01mraise\u001b[39;00m \u001b[38;5;167;01mImportError\u001b[39;00m(\n\u001b[1;32m     66\u001b[0m         \u001b[38;5;124m\"\u001b[39m\u001b[38;5;124mPyArrow >= \u001b[39m\u001b[38;5;132;01m%s\u001b[39;00m\u001b[38;5;124m must be installed; however, \u001b[39m\u001b[38;5;124m\"\u001b[39m\n\u001b[1;32m     67\u001b[0m         \u001b[38;5;124m\"\u001b[39m\u001b[38;5;124myour version was \u001b[39m\u001b[38;5;132;01m%s\u001b[39;00m\u001b[38;5;124m.\u001b[39m\u001b[38;5;124m\"\u001b[39m \u001b[38;5;241m%\u001b[39m (minimum_pyarrow_version, pyarrow\u001b[38;5;241m.\u001b[39m__version__)\n\u001b[1;32m     68\u001b[0m     )\n",
      "\u001b[0;31mImportError\u001b[0m: PyArrow >= 4.0.0 must be installed; however, it was not found."
     ]
    }
   ],
   "source": [
    "import pandas as pd\n",
    "from pyspark.sql.functions import pandas_udf\n",
    "\n",
    "@pandas_udf('long')\n",
    "def pandas_plus_one(series: pd.Series) -> pd.Series:\n",
    "    # Simply plus one by using pandas Series.\n",
    "    return series + 1\n",
    "\n",
    "df.select(pandas_plus_one(df.a)).show()"
   ]
  },
  {
   "cell_type": "code",
   "execution_count": null,
   "id": "2017aa04-e457-4e26-97b0-beef9d240028",
   "metadata": {},
   "outputs": [],
   "source": []
  }
 ],
 "metadata": {
  "kernelspec": {
   "display_name": "Python 3 (ipykernel)",
   "language": "python",
   "name": "python3"
  },
  "language_info": {
   "codemirror_mode": {
    "name": "ipython",
    "version": 3
   },
   "file_extension": ".py",
   "mimetype": "text/x-python",
   "name": "python",
   "nbconvert_exporter": "python",
   "pygments_lexer": "ipython3",
   "version": "3.10.12"
  },
  "widgets": {
   "application/vnd.jupyter.widget-state+json": {
    "state": {},
    "version_major": 2,
    "version_minor": 0
   }
  }
 },
 "nbformat": 4,
 "nbformat_minor": 5
}
