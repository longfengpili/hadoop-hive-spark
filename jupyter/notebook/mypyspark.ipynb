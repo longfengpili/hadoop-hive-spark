{
 "cells": [
  {
   "cell_type": "markdown",
   "id": "e2f77b2b-8a82-4d29-bc15-360bd57512af",
   "metadata": {},
   "source": [
    "# DataFrame"
   ]
  },
  {
   "cell_type": "code",
   "execution_count": 1,
   "id": "69f023cc-0964-4727-9f18-9a4b1909cec3",
   "metadata": {
    "execution": {
     "iopub.execute_input": "2023-11-22T10:44:37.911990Z",
     "iopub.status.busy": "2023-11-22T10:44:37.911367Z",
     "iopub.status.idle": "2023-11-22T10:44:37.957288Z",
     "shell.execute_reply": "2023-11-22T10:44:37.956611Z",
     "shell.execute_reply.started": "2023-11-22T10:44:37.911960Z"
    }
   },
   "outputs": [],
   "source": [
    "from pyspark.sql import SparkSession\n",
    "from datetime import datetime, date\n",
    "import pandas as pd\n",
    "from pyspark.sql import Row"
   ]
  },
  {
   "cell_type": "code",
   "execution_count": 2,
   "id": "b019bd07-8601-4bc3-aa3a-6dcb8a314418",
   "metadata": {
    "execution": {
     "iopub.execute_input": "2023-11-22T10:44:37.958483Z",
     "iopub.status.busy": "2023-11-22T10:44:37.958271Z",
     "iopub.status.idle": "2023-11-22T10:44:48.964155Z",
     "shell.execute_reply": "2023-11-22T10:44:48.963363Z",
     "shell.execute_reply.started": "2023-11-22T10:44:37.958462Z"
    }
   },
   "outputs": [
    {
     "name": "stderr",
     "output_type": "stream",
     "text": [
      "Setting default log level to \"WARN\".\n",
      "To adjust logging level use sc.setLogLevel(newLevel). For SparkR, use setLogLevel(newLevel).\n"
     ]
    }
   ],
   "source": [
    "spark = SparkSession.builder.getOrCreate()"
   ]
  },
  {
   "cell_type": "markdown",
   "id": "4fffb24d-a673-4d92-be16-fe9a2a0ed51e",
   "metadata": {},
   "source": [
    "## creation"
   ]
  },
  {
   "cell_type": "code",
   "execution_count": 3,
   "id": "f67990e6-5c3b-4c3b-bdd6-85b8e54be362",
   "metadata": {
    "execution": {
     "iopub.execute_input": "2023-11-22T10:44:48.965626Z",
     "iopub.status.busy": "2023-11-22T10:44:48.965218Z",
     "iopub.status.idle": "2023-11-22T10:44:50.378111Z",
     "shell.execute_reply": "2023-11-22T10:44:50.377220Z",
     "shell.execute_reply.started": "2023-11-22T10:44:48.965604Z"
    }
   },
   "outputs": [
    {
     "data": {
      "text/plain": [
       "DataFrame[a: bigint, b: double, c: string, d: date, e: timestamp]"
      ]
     },
     "execution_count": 3,
     "metadata": {},
     "output_type": "execute_result"
    }
   ],
   "source": [
    "df = spark.createDataFrame([\n",
    "    Row(a=1, b=2., c='string1', d=date(2000, 1, 1), e=datetime(2000, 1, 1, 12, 0)),\n",
    "    Row(a=2, b=3., c='string2', d=date(2000, 2, 1), e=datetime(2000, 1, 2, 12, 0)),\n",
    "    Row(a=4, b=5., c='string3', d=date(2000, 3, 1), e=datetime(2000, 1, 3, 12, 0))\n",
    "])\n",
    "df"
   ]
  },
  {
   "cell_type": "code",
   "execution_count": 4,
   "id": "73be500a-0bc5-4d2f-8037-9ea45d7079ce",
   "metadata": {
    "execution": {
     "iopub.execute_input": "2023-11-22T10:44:50.379684Z",
     "iopub.status.busy": "2023-11-22T10:44:50.379203Z",
     "iopub.status.idle": "2023-11-22T10:44:50.470299Z",
     "shell.execute_reply": "2023-11-22T10:44:50.469474Z",
     "shell.execute_reply.started": "2023-11-22T10:44:50.379656Z"
    }
   },
   "outputs": [
    {
     "data": {
      "text/plain": [
       "DataFrame[a: bigint, b: double, c: string, d: date, e: timestamp]"
      ]
     },
     "execution_count": 4,
     "metadata": {},
     "output_type": "execute_result"
    }
   ],
   "source": [
    "df = spark.createDataFrame([\n",
    "    (1, 2., 'string1', date(2000, 1, 1), datetime(2000, 1, 1, 12, 0)),\n",
    "    (2, 3., 'string2', date(2000, 2, 1), datetime(2000, 1, 2, 12, 0)),\n",
    "    (3, 4., 'string3', date(2000, 3, 1), datetime(2000, 1, 3, 12, 0))\n",
    "], schema='a long, b double, c string, d date, e timestamp')\n",
    "df"
   ]
  },
  {
   "cell_type": "code",
   "execution_count": 5,
   "id": "60fdc189-3edc-428e-8bc7-360adae6f84c",
   "metadata": {
    "execution": {
     "iopub.execute_input": "2023-11-22T10:44:50.472113Z",
     "iopub.status.busy": "2023-11-22T10:44:50.471422Z",
     "iopub.status.idle": "2023-11-22T10:44:50.529617Z",
     "shell.execute_reply": "2023-11-22T10:44:50.528773Z",
     "shell.execute_reply.started": "2023-11-22T10:44:50.472084Z"
    }
   },
   "outputs": [
    {
     "name": "stderr",
     "output_type": "stream",
     "text": [
      "/usr/local/lib/python3.10/dist-packages/pyspark/sql/pandas/conversion.py:485: FutureWarning: is_datetime64tz_dtype is deprecated and will be removed in a future version. Check `isinstance(dtype, pd.DatetimeTZDtype)` instead.\n",
      "  if should_localize and is_datetime64tz_dtype(s.dtype) and s.dt.tz is not None:\n"
     ]
    },
    {
     "data": {
      "text/plain": [
       "DataFrame[a: bigint, b: double, c: string, d: date, e: timestamp]"
      ]
     },
     "execution_count": 5,
     "metadata": {},
     "output_type": "execute_result"
    }
   ],
   "source": [
    "pandas_df = pd.DataFrame({\n",
    "    'a': [1, 2, 3],\n",
    "    'b': [2., 3., 4.],\n",
    "    'c': ['string1', 'string2', 'string3'],\n",
    "    'd': [date(2000, 1, 1), date(2000, 2, 1), date(2000, 3, 1)],\n",
    "    'e': [datetime(2000, 1, 1, 12, 0), datetime(2000, 1, 2, 12, 0), datetime(2000, 1, 3, 12, 0)]\n",
    "})\n",
    "df = spark.createDataFrame(pandas_df)\n",
    "df"
   ]
  },
  {
   "cell_type": "code",
   "execution_count": 6,
   "id": "5d235d50-da5c-4970-ae66-5faf7fd7de2a",
   "metadata": {
    "execution": {
     "iopub.execute_input": "2023-11-22T10:44:50.532264Z",
     "iopub.status.busy": "2023-11-22T10:44:50.531789Z",
     "iopub.status.idle": "2023-11-22T10:44:53.608217Z",
     "shell.execute_reply": "2023-11-22T10:44:53.607338Z",
     "shell.execute_reply.started": "2023-11-22T10:44:50.532238Z"
    }
   },
   "outputs": [
    {
     "name": "stderr",
     "output_type": "stream",
     "text": [
      "                                                                                \r"
     ]
    },
    {
     "name": "stdout",
     "output_type": "stream",
     "text": [
      "+---+---+-------+----------+-------------------+\n",
      "|  a|  b|      c|         d|                  e|\n",
      "+---+---+-------+----------+-------------------+\n",
      "|  1|2.0|string1|2000-01-01|2000-01-01 12:00:00|\n",
      "|  2|3.0|string2|2000-02-01|2000-01-02 12:00:00|\n",
      "|  3|4.0|string3|2000-03-01|2000-01-03 12:00:00|\n",
      "+---+---+-------+----------+-------------------+\n",
      "\n",
      "root\n",
      " |-- a: long (nullable = true)\n",
      " |-- b: double (nullable = true)\n",
      " |-- c: string (nullable = true)\n",
      " |-- d: date (nullable = true)\n",
      " |-- e: timestamp (nullable = true)\n",
      "\n"
     ]
    }
   ],
   "source": [
    "# All DataFrames above result same.\n",
    "df.show()\n",
    "df.printSchema()"
   ]
  },
  {
   "cell_type": "markdown",
   "id": "536cc9c0-b2cf-4dd1-ae7a-39ad370a9a01",
   "metadata": {},
   "source": [
    "## viewing"
   ]
  },
  {
   "cell_type": "code",
   "execution_count": 7,
   "id": "040f679a-e942-4c09-8a87-a7d952946d82",
   "metadata": {
    "execution": {
     "iopub.execute_input": "2023-11-22T10:44:53.610069Z",
     "iopub.status.busy": "2023-11-22T10:44:53.609450Z",
     "iopub.status.idle": "2023-11-22T10:44:55.033313Z",
     "shell.execute_reply": "2023-11-22T10:44:55.032521Z",
     "shell.execute_reply.started": "2023-11-22T10:44:53.610044Z"
    }
   },
   "outputs": [
    {
     "name": "stderr",
     "output_type": "stream",
     "text": [
      "[Stage 2:>                                                          (0 + 1) / 1]\r"
     ]
    },
    {
     "name": "stdout",
     "output_type": "stream",
     "text": [
      "+---+---+-------+----------+-------------------+\n",
      "|  a|  b|      c|         d|                  e|\n",
      "+---+---+-------+----------+-------------------+\n",
      "|  1|2.0|string1|2000-01-01|2000-01-01 12:00:00|\n",
      "+---+---+-------+----------+-------------------+\n",
      "only showing top 1 row\n",
      "\n"
     ]
    },
    {
     "name": "stderr",
     "output_type": "stream",
     "text": [
      "                                                                                \r"
     ]
    }
   ],
   "source": [
    "df.show(1)"
   ]
  },
  {
   "cell_type": "code",
   "execution_count": 8,
   "id": "afce2cfc-e7e3-4070-8a3b-86404d79b8cd",
   "metadata": {
    "execution": {
     "iopub.execute_input": "2023-11-22T10:44:55.034596Z",
     "iopub.status.busy": "2023-11-22T10:44:55.034239Z",
     "iopub.status.idle": "2023-11-22T10:44:55.331287Z",
     "shell.execute_reply": "2023-11-22T10:44:55.330110Z",
     "shell.execute_reply.started": "2023-11-22T10:44:55.034574Z"
    }
   },
   "outputs": [
    {
     "name": "stdout",
     "output_type": "stream",
     "text": [
      "-RECORD 0------------------\n",
      " a   | 1                   \n",
      " b   | 2.0                 \n",
      " c   | string1             \n",
      " d   | 2000-01-01          \n",
      " e   | 2000-01-01 12:00:00 \n",
      "only showing top 1 row\n",
      "\n"
     ]
    }
   ],
   "source": [
    "df.show(1, vertical=True)"
   ]
  },
  {
   "cell_type": "code",
   "execution_count": 9,
   "id": "9184d815-ee88-40cc-902b-5ae377f69879",
   "metadata": {
    "execution": {
     "iopub.execute_input": "2023-11-22T10:44:55.333505Z",
     "iopub.status.busy": "2023-11-22T10:44:55.332679Z",
     "iopub.status.idle": "2023-11-22T10:44:55.349197Z",
     "shell.execute_reply": "2023-11-22T10:44:55.338892Z",
     "shell.execute_reply.started": "2023-11-22T10:44:55.333463Z"
    }
   },
   "outputs": [
    {
     "data": {
      "text/plain": [
       "['a', 'b', 'c', 'd', 'e']"
      ]
     },
     "execution_count": 9,
     "metadata": {},
     "output_type": "execute_result"
    }
   ],
   "source": [
    "df.columns"
   ]
  },
  {
   "cell_type": "code",
   "execution_count": 10,
   "id": "698548eb-8ea8-461e-b1fe-7006c9ae8fae",
   "metadata": {
    "execution": {
     "iopub.execute_input": "2023-11-22T10:44:55.351085Z",
     "iopub.status.busy": "2023-11-22T10:44:55.350702Z",
     "iopub.status.idle": "2023-11-22T10:44:57.427389Z",
     "shell.execute_reply": "2023-11-22T10:44:57.426148Z",
     "shell.execute_reply.started": "2023-11-22T10:44:55.351049Z"
    }
   },
   "outputs": [
    {
     "name": "stderr",
     "output_type": "stream",
     "text": [
      "[Stage 6:>                                                          (0 + 2) / 2]\r"
     ]
    },
    {
     "name": "stdout",
     "output_type": "stream",
     "text": [
      "+-------+---+---+-------+\n",
      "|summary|  a|  b|      c|\n",
      "+-------+---+---+-------+\n",
      "|  count|  3|  3|      3|\n",
      "|   mean|2.0|3.0|   NULL|\n",
      "| stddev|1.0|1.0|   NULL|\n",
      "|    min|  1|2.0|string1|\n",
      "|    max|  3|4.0|string3|\n",
      "+-------+---+---+-------+\n",
      "\n"
     ]
    },
    {
     "name": "stderr",
     "output_type": "stream",
     "text": [
      "                                                                                \r"
     ]
    }
   ],
   "source": [
    "df.select(\"a\", \"b\", \"c\").describe().show()"
   ]
  },
  {
   "cell_type": "code",
   "execution_count": 11,
   "id": "8c484882-f762-49bf-bc11-01bc1b91006a",
   "metadata": {
    "execution": {
     "iopub.execute_input": "2023-11-22T10:44:57.429864Z",
     "iopub.status.busy": "2023-11-22T10:44:57.428978Z",
     "iopub.status.idle": "2023-11-22T10:44:57.802130Z",
     "shell.execute_reply": "2023-11-22T10:44:57.801224Z",
     "shell.execute_reply.started": "2023-11-22T10:44:57.429828Z"
    }
   },
   "outputs": [
    {
     "data": {
      "text/plain": [
       "[Row(a=1, b=2.0, c='string1', d=datetime.date(2000, 1, 1), e=datetime.datetime(2000, 1, 1, 12, 0)),\n",
       " Row(a=2, b=3.0, c='string2', d=datetime.date(2000, 2, 1), e=datetime.datetime(2000, 1, 2, 12, 0)),\n",
       " Row(a=3, b=4.0, c='string3', d=datetime.date(2000, 3, 1), e=datetime.datetime(2000, 1, 3, 12, 0))]"
      ]
     },
     "execution_count": 11,
     "metadata": {},
     "output_type": "execute_result"
    },
    {
     "data": {
      "text/plain": [
       "[Row(a=1, b=2.0, c='string1', d=datetime.date(2000, 1, 1), e=datetime.datetime(2000, 1, 1, 12, 0))]"
      ]
     },
     "execution_count": 11,
     "metadata": {},
     "output_type": "execute_result"
    }
   ],
   "source": [
    "df.collect()\n",
    "df.take(1)"
   ]
  },
  {
   "cell_type": "code",
   "execution_count": 12,
   "id": "b9c01bc2-10f6-4f90-81d7-383a518852bd",
   "metadata": {
    "execution": {
     "iopub.execute_input": "2023-11-22T10:44:57.803609Z",
     "iopub.status.busy": "2023-11-22T10:44:57.803353Z",
     "iopub.status.idle": "2023-11-22T10:44:57.967034Z",
     "shell.execute_reply": "2023-11-22T10:44:57.966181Z",
     "shell.execute_reply.started": "2023-11-22T10:44:57.803587Z"
    }
   },
   "outputs": [
    {
     "name": "stderr",
     "output_type": "stream",
     "text": [
      "/usr/local/lib/python3.10/dist-packages/pyspark/sql/pandas/types.py:563: FutureWarning: is_datetime64tz_dtype is deprecated and will be removed in a future version. Check `isinstance(dtype, pd.DatetimeTZDtype)` instead.\n",
      "  if not is_datetime64tz_dtype(pser.dtype):\n",
      "/usr/local/lib/python3.10/dist-packages/pyspark/sql/pandas/types.py:379: FutureWarning: is_datetime64tz_dtype is deprecated and will be removed in a future version. Check `isinstance(dtype, pd.DatetimeTZDtype)` instead.\n",
      "  if is_datetime64tz_dtype(s.dtype):\n"
     ]
    },
    {
     "data": {
      "text/html": [
       "<div>\n",
       "<style scoped>\n",
       "    .dataframe tbody tr th:only-of-type {\n",
       "        vertical-align: middle;\n",
       "    }\n",
       "\n",
       "    .dataframe tbody tr th {\n",
       "        vertical-align: top;\n",
       "    }\n",
       "\n",
       "    .dataframe thead th {\n",
       "        text-align: right;\n",
       "    }\n",
       "</style>\n",
       "<table border=\"1\" class=\"dataframe\">\n",
       "  <thead>\n",
       "    <tr style=\"text-align: right;\">\n",
       "      <th></th>\n",
       "      <th>a</th>\n",
       "      <th>b</th>\n",
       "      <th>c</th>\n",
       "      <th>d</th>\n",
       "      <th>e</th>\n",
       "    </tr>\n",
       "  </thead>\n",
       "  <tbody>\n",
       "    <tr>\n",
       "      <th>0</th>\n",
       "      <td>1</td>\n",
       "      <td>2.0</td>\n",
       "      <td>string1</td>\n",
       "      <td>2000-01-01</td>\n",
       "      <td>2000-01-01 12:00:00</td>\n",
       "    </tr>\n",
       "    <tr>\n",
       "      <th>1</th>\n",
       "      <td>2</td>\n",
       "      <td>3.0</td>\n",
       "      <td>string2</td>\n",
       "      <td>2000-02-01</td>\n",
       "      <td>2000-01-02 12:00:00</td>\n",
       "    </tr>\n",
       "    <tr>\n",
       "      <th>2</th>\n",
       "      <td>3</td>\n",
       "      <td>4.0</td>\n",
       "      <td>string3</td>\n",
       "      <td>2000-03-01</td>\n",
       "      <td>2000-01-03 12:00:00</td>\n",
       "    </tr>\n",
       "  </tbody>\n",
       "</table>\n",
       "</div>"
      ],
      "text/plain": [
       "   a    b        c           d                   e\n",
       "0  1  2.0  string1  2000-01-01 2000-01-01 12:00:00\n",
       "1  2  3.0  string2  2000-02-01 2000-01-02 12:00:00\n",
       "2  3  4.0  string3  2000-03-01 2000-01-03 12:00:00"
      ]
     },
     "execution_count": 12,
     "metadata": {},
     "output_type": "execute_result"
    }
   ],
   "source": [
    "df.toPandas()"
   ]
  },
  {
   "cell_type": "markdown",
   "id": "8d5105ba-d342-48c4-a470-23eecbcc8d9d",
   "metadata": {},
   "source": [
    "## selecting and accessing"
   ]
  },
  {
   "cell_type": "code",
   "execution_count": 13,
   "id": "fab1ce13-cd83-41d7-9001-f1a5eda21cdd",
   "metadata": {
    "execution": {
     "iopub.execute_input": "2023-11-22T10:44:57.968451Z",
     "iopub.status.busy": "2023-11-22T10:44:57.967978Z",
     "iopub.status.idle": "2023-11-22T10:44:57.981422Z",
     "shell.execute_reply": "2023-11-22T10:44:57.980461Z",
     "shell.execute_reply.started": "2023-11-22T10:44:57.968430Z"
    }
   },
   "outputs": [
    {
     "data": {
      "text/plain": [
       "Column<'a'>"
      ]
     },
     "execution_count": 13,
     "metadata": {},
     "output_type": "execute_result"
    }
   ],
   "source": [
    "df.a"
   ]
  },
  {
   "cell_type": "code",
   "execution_count": 14,
   "id": "7e469b7c-a2c8-4273-8a55-0255c7b52642",
   "metadata": {
    "execution": {
     "iopub.execute_input": "2023-11-22T10:44:57.983252Z",
     "iopub.status.busy": "2023-11-22T10:44:57.982581Z",
     "iopub.status.idle": "2023-11-22T10:44:57.993758Z",
     "shell.execute_reply": "2023-11-22T10:44:57.992674Z",
     "shell.execute_reply.started": "2023-11-22T10:44:57.983226Z"
    }
   },
   "outputs": [
    {
     "data": {
      "text/plain": [
       "True"
      ]
     },
     "execution_count": 14,
     "metadata": {},
     "output_type": "execute_result"
    }
   ],
   "source": [
    "from pyspark.sql import Column\n",
    "from pyspark.sql.functions import upper\n",
    "\n",
    "type(df.c) == type(upper(df.c)) == type(df.c.isNull())"
   ]
  },
  {
   "cell_type": "code",
   "execution_count": 15,
   "id": "58a654c3-46f8-4733-b9c0-5c6f887983a3",
   "metadata": {
    "execution": {
     "iopub.execute_input": "2023-11-22T10:44:57.996082Z",
     "iopub.status.busy": "2023-11-22T10:44:57.995116Z",
     "iopub.status.idle": "2023-11-22T10:44:58.490364Z",
     "shell.execute_reply": "2023-11-22T10:44:58.489489Z",
     "shell.execute_reply.started": "2023-11-22T10:44:57.996042Z"
    }
   },
   "outputs": [
    {
     "name": "stdout",
     "output_type": "stream",
     "text": [
      "+-------+\n",
      "|      c|\n",
      "+-------+\n",
      "|string1|\n",
      "|string2|\n",
      "|string3|\n",
      "+-------+\n",
      "\n",
      "+-------+\n",
      "|      c|\n",
      "+-------+\n",
      "|string1|\n",
      "|string2|\n",
      "|string3|\n",
      "+-------+\n",
      "\n"
     ]
    }
   ],
   "source": [
    "df.select(df.c).show()\n",
    "df.select('c').show()"
   ]
  },
  {
   "cell_type": "code",
   "execution_count": 16,
   "id": "6eba0363-e44b-4605-8669-e392442ab562",
   "metadata": {
    "execution": {
     "iopub.execute_input": "2023-11-22T10:44:58.491659Z",
     "iopub.status.busy": "2023-11-22T10:44:58.491433Z",
     "iopub.status.idle": "2023-11-22T10:44:58.762553Z",
     "shell.execute_reply": "2023-11-22T10:44:58.761631Z",
     "shell.execute_reply.started": "2023-11-22T10:44:58.491638Z"
    }
   },
   "outputs": [
    {
     "name": "stdout",
     "output_type": "stream",
     "text": [
      "+---+---+-------+----------+-------------------+-------+\n",
      "|  a|  b|      c|         d|                  e|upper_c|\n",
      "+---+---+-------+----------+-------------------+-------+\n",
      "|  1|2.0|string1|2000-01-01|2000-01-01 12:00:00|STRING1|\n",
      "|  2|3.0|string2|2000-02-01|2000-01-02 12:00:00|STRING2|\n",
      "|  3|4.0|string3|2000-03-01|2000-01-03 12:00:00|STRING3|\n",
      "+---+---+-------+----------+-------------------+-------+\n",
      "\n"
     ]
    }
   ],
   "source": [
    "df.withColumn('upper_c', upper(df.c)).show()"
   ]
  },
  {
   "cell_type": "code",
   "execution_count": 17,
   "id": "c2dc53be-a09e-412b-95ec-d6a271df6d98",
   "metadata": {
    "execution": {
     "iopub.execute_input": "2023-11-22T10:44:58.763677Z",
     "iopub.status.busy": "2023-11-22T10:44:58.763474Z",
     "iopub.status.idle": "2023-11-22T10:44:59.068122Z",
     "shell.execute_reply": "2023-11-22T10:44:59.067355Z",
     "shell.execute_reply.started": "2023-11-22T10:44:58.763658Z"
    }
   },
   "outputs": [
    {
     "name": "stdout",
     "output_type": "stream",
     "text": [
      "+---+---+-------+----------+-------------------+\n",
      "|  a|  b|      c|         d|                  e|\n",
      "+---+---+-------+----------+-------------------+\n",
      "|  1|2.0|string1|2000-01-01|2000-01-01 12:00:00|\n",
      "+---+---+-------+----------+-------------------+\n",
      "\n"
     ]
    }
   ],
   "source": [
    "df.filter(df.a == 1).show()"
   ]
  },
  {
   "cell_type": "code",
   "execution_count": 18,
   "id": "c34cc1b8-cfae-4db7-980c-e51bc2d2b455",
   "metadata": {
    "execution": {
     "iopub.execute_input": "2023-11-22T10:44:59.069526Z",
     "iopub.status.busy": "2023-11-22T10:44:59.069024Z",
     "iopub.status.idle": "2023-11-22T10:44:59.075685Z",
     "shell.execute_reply": "2023-11-22T10:44:59.074389Z",
     "shell.execute_reply.started": "2023-11-22T10:44:59.069504Z"
    }
   },
   "outputs": [
    {
     "data": {
      "text/plain": [
       "DataFrame[a: bigint, b: double, c: string, d: date, e: timestamp]"
      ]
     },
     "execution_count": 18,
     "metadata": {},
     "output_type": "execute_result"
    }
   ],
   "source": [
    "df"
   ]
  },
  {
   "cell_type": "markdown",
   "id": "a0d94257-2bd1-49f8-b005-e95c5203b15c",
   "metadata": {},
   "source": [
    "## applying a function"
   ]
  },
  {
   "cell_type": "code",
   "execution_count": 19,
   "id": "1de9e104-62bb-4ef7-92fd-ebc9e076dd11",
   "metadata": {
    "execution": {
     "iopub.execute_input": "2023-11-22T10:44:59.077230Z",
     "iopub.status.busy": "2023-11-22T10:44:59.076913Z",
     "iopub.status.idle": "2023-11-22T10:44:59.220397Z",
     "shell.execute_reply": "2023-11-22T10:44:59.219639Z",
     "shell.execute_reply.started": "2023-11-22T10:44:59.077207Z"
    }
   },
   "outputs": [
    {
     "data": {
      "text/plain": [
       "Column<'pandas_plus_one(a)'>"
      ]
     },
     "execution_count": 19,
     "metadata": {},
     "output_type": "execute_result"
    }
   ],
   "source": [
    "from pyspark.sql.functions import pandas_udf\n",
    "\n",
    "@pandas_udf('long')\n",
    "def pandas_plus_one(series):\n",
    "    # Simply plus one by using pandas Series.\n",
    "    return series + 1\n",
    "\n",
    "pandas_plus_one(df.a)\n",
    "\n",
    "_df = df.select(pandas_plus_one(df.a))\n",
    "_df.show()"
   ]
  },
  {
   "cell_type": "code",
   "execution_count": 20,
   "id": "2017aa04-e457-4e26-97b0-beef9d240028",
   "metadata": {
    "execution": {
     "iopub.execute_input": "2023-11-22T10:44:59.222166Z",
     "iopub.status.busy": "2023-11-22T10:44:59.221358Z",
     "iopub.status.idle": "2023-11-22T10:44:59.237476Z",
     "shell.execute_reply": "2023-11-22T10:44:59.236418Z",
     "shell.execute_reply.started": "2023-11-22T10:44:59.222129Z"
    }
   },
   "outputs": [],
   "source": []
  },
  {
   "cell_type": "code",
   "execution_count": 1,
   "id": "aa8463c3-7af8-49c4-ac8a-07884c43d3e2",
   "metadata": {
    "execution": {
     "iopub.execute_input": "2023-11-23T02:56:57.561716Z",
     "iopub.status.busy": "2023-11-23T02:56:57.561191Z",
     "iopub.status.idle": "2023-11-23T02:57:13.751367Z",
     "shell.execute_reply": "2023-11-23T02:57:13.750098Z",
     "shell.execute_reply.started": "2023-11-23T02:56:57.561695Z"
    }
   },
   "outputs": [
    {
     "name": "stderr",
     "output_type": "stream",
     "text": [
      "Setting default log level to \"WARN\".\n",
      "To adjust logging level use sc.setLogLevel(newLevel). For SparkR, use setLogLevel(newLevel).\n"
     ]
    },
    {
     "name": "stdout",
     "output_type": "stream",
     "text": [
      "root\n",
      " |-- long_col: long (nullable = true)\n",
      " |-- string_col: string (nullable = true)\n",
      " |-- struct_col: struct (nullable = true)\n",
      " |    |-- col1: string (nullable = true)\n",
      "\n",
      "root\n",
      " |-- func(long_col, string_col, struct_col): struct (nullable = true)\n",
      " |    |-- col1: string (nullable = true)\n",
      " |    |-- col2: long (nullable = true)\n",
      "\n"
     ]
    },
    {
     "name": "stderr",
     "output_type": "stream",
     "text": [
      "                                                                                \r"
     ]
    },
    {
     "name": "stdout",
     "output_type": "stream",
     "text": [
      "+--------------------------------------+\n",
      "|func(long_col, string_col, struct_col)|\n",
      "+--------------------------------------+\n",
      "|                  {a nested string, 9}|\n",
      "+--------------------------------------+\n",
      "\n"
     ]
    }
   ],
   "source": [
    "import pandas as pd\n",
    "from pyspark.sql import SparkSession\n",
    "from pyspark.sql.functions import pandas_udf\n",
    "\n",
    "\n",
    "spark = SparkSession.builder.getOrCreate()\n",
    "spark.conf.set(\"spark.sql.execution.arrow.pyspark.enabled\", \"true\")\n",
    "\n",
    "@pandas_udf(\"col1 string, col2 long\")\n",
    "def func(s1, s2, s3):\n",
    "    s3['col2'] = s1 + s2.str.len()\n",
    "    return s3\n",
    "\n",
    "# Create a Spark DataFrame that has three columns including a struct column.\n",
    "df = spark.createDataFrame(\n",
    "    [[1, \"a string\", (\"a nested string\",)]],\n",
    "    \"long_col long, string_col string, struct_col struct<col1:string>\")\n",
    "\n",
    "df.printSchema()\n",
    "# root\n",
    "# |-- long_column: long (nullable = true)\n",
    "# |-- string_column: string (nullable = true)\n",
    "# |-- struct_column: struct (nullable = true)\n",
    "# |    |-- col1: string (nullable = true)\n",
    "\n",
    "df.select(func(\"long_col\", \"string_col\", \"struct_col\")).printSchema()\n",
    "# |-- func(long_col, string_col, struct_col): struct (nullable = true)\n",
    "# |    |-- col1: string (nullable = true)\n",
    "# |    |-- col2: long (nullable = true)\n",
    "\n",
    "df.select(func(\"long_col\", \"string_col\", \"struct_col\")).show()"
   ]
  },
  {
   "cell_type": "code",
   "execution_count": null,
   "id": "33338e99-d6f2-41ff-a407-fbc2ae3a9339",
   "metadata": {},
   "outputs": [],
   "source": []
  }
 ],
 "metadata": {
  "kernelspec": {
   "display_name": "Python 3 (ipykernel)",
   "language": "python",
   "name": "python3"
  },
  "language_info": {
   "codemirror_mode": {
    "name": "ipython",
    "version": 3
   },
   "file_extension": ".py",
   "mimetype": "text/x-python",
   "name": "python",
   "nbconvert_exporter": "python",
   "pygments_lexer": "ipython3",
   "version": "3.10.12"
  },
  "widgets": {
   "application/vnd.jupyter.widget-state+json": {
    "state": {},
    "version_major": 2,
    "version_minor": 0
   }
  }
 },
 "nbformat": 4,
 "nbformat_minor": 5
}
