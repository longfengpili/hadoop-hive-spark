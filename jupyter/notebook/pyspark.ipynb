{
 "cells": [
  {
   "cell_type": "markdown",
   "id": "9a2104ea-2764-463e-ac2d-929322a6a143",
   "metadata": {},
   "source": [
    "# local"
   ]
  },
  {
   "cell_type": "code",
   "execution_count": 1,
   "id": "8a5fab7d",
   "metadata": {
    "execution": {
     "iopub.execute_input": "2023-11-22T03:03:04.534511Z",
     "iopub.status.busy": "2023-11-22T03:03:04.534285Z",
     "iopub.status.idle": "2023-11-22T03:03:04.542092Z",
     "shell.execute_reply": "2023-11-22T03:03:04.541250Z",
     "shell.execute_reply.started": "2023-11-22T03:03:04.534492Z"
    },
    "pycharm": {
     "name": "#%%\n"
    }
   },
   "outputs": [],
   "source": [
    "import findspark\n",
    "findspark.init('/opt/spark')"
   ]
  },
  {
   "cell_type": "code",
   "execution_count": 2,
   "id": "52921414",
   "metadata": {
    "execution": {
     "iopub.execute_input": "2023-11-22T03:03:05.500484Z",
     "iopub.status.busy": "2023-11-22T03:03:05.499967Z",
     "iopub.status.idle": "2023-11-22T03:03:05.824207Z",
     "shell.execute_reply": "2023-11-22T03:03:05.823506Z",
     "shell.execute_reply.started": "2023-11-22T03:03:05.500463Z"
    },
    "pycharm": {
     "name": "#%%\n"
    }
   },
   "outputs": [],
   "source": [
    "from pyspark.sql import SparkSession"
   ]
  },
  {
   "cell_type": "code",
   "execution_count": 5,
   "id": "ef9d4d47",
   "metadata": {
    "execution": {
     "iopub.execute_input": "2023-11-22T03:03:43.478519Z",
     "iopub.status.busy": "2023-11-22T03:03:43.478262Z",
     "iopub.status.idle": "2023-11-22T03:03:44.121392Z",
     "shell.execute_reply": "2023-11-22T03:03:44.120714Z",
     "shell.execute_reply.started": "2023-11-22T03:03:43.478499Z"
    },
    "pycharm": {
     "name": "#%%\n"
    }
   },
   "outputs": [],
   "source": [
    "spark = SparkSession.builder\\\n",
    "    .enableHiveSupport()\\\n",
    "    .getOrCreate()"
   ]
  },
  {
   "cell_type": "code",
   "execution_count": 7,
   "id": "55fad11f",
   "metadata": {
    "execution": {
     "iopub.execute_input": "2023-11-22T03:04:41.519777Z",
     "iopub.status.busy": "2023-11-22T03:04:41.519067Z",
     "iopub.status.idle": "2023-11-22T03:04:44.852529Z",
     "shell.execute_reply": "2023-11-22T03:04:44.851586Z",
     "shell.execute_reply.started": "2023-11-22T03:04:41.519755Z"
    },
    "pycharm": {
     "name": "#%%\n"
    }
   },
   "outputs": [
    {
     "name": "stderr",
     "output_type": "stream",
     "text": [
      "23/11/22 03:04:42 WARN HiveConf: HiveConf of name hive.stats.jdbc.timeout does not exist\n",
      "23/11/22 03:04:42 WARN HiveConf: HiveConf of name hive.stats.retries.wait does not exist\n",
      "23/11/22 03:04:44 WARN SessionState: METASTORE_FILTER_HOOK will be ignored, since hive.security.authorization.manager is set to instance of HiveAuthorizerFactory.\n",
      "23/11/22 03:04:44 WARN HiveConf: HiveConf of name hive.internal.ss.authz.settings.applied.marker does not exist\n",
      "23/11/22 03:04:44 WARN HiveConf: HiveConf of name hive.stats.jdbc.timeout does not exist\n",
      "23/11/22 03:04:44 WARN HiveConf: HiveConf of name hive.stats.retries.wait does not exist\n",
      "23/11/22 03:04:44 WARN HiveMetaStore: Location: hdfs://master/user/hive/warehouse/src specified for non-external table:src\n",
      "23/11/22 03:04:44 WARN ObjectStore: Failed to get database global_temp, returning NoSuchObjectException\n"
     ]
    },
    {
     "data": {
      "text/plain": [
       "DataFrame[]"
      ]
     },
     "execution_count": 7,
     "metadata": {},
     "output_type": "execute_result"
    }
   ],
   "source": [
    "spark.sql(\"create table if not exists src (key int, value string) using hive\")\n",
    "spark.sql(\"load data local inpath '/opt/spark/examples/src/main/resources/kv1.txt' into table src\")"
   ]
  },
  {
   "cell_type": "code",
   "execution_count": 6,
   "id": "2db995bd",
   "metadata": {
    "execution": {
     "iopub.execute_input": "2023-11-21T09:47:22.124406Z",
     "iopub.status.busy": "2023-11-21T09:47:22.124147Z",
     "iopub.status.idle": "2023-11-21T09:47:25.465397Z",
     "shell.execute_reply": "2023-11-21T09:47:25.464570Z",
     "shell.execute_reply.started": "2023-11-21T09:47:22.124387Z"
    },
    "pycharm": {
     "name": "#%%\n"
    }
   },
   "outputs": [
    {
     "name": "stderr",
     "output_type": "stream",
     "text": [
      "                                                                                \r"
     ]
    },
    {
     "name": "stdout",
     "output_type": "stream",
     "text": [
      "+---+-------+\n",
      "|key|  value|\n",
      "+---+-------+\n",
      "|238|val_238|\n",
      "| 86| val_86|\n",
      "|311|val_311|\n",
      "| 27| val_27|\n",
      "|165|val_165|\n",
      "|409|val_409|\n",
      "|255|val_255|\n",
      "|278|val_278|\n",
      "| 98| val_98|\n",
      "|484|val_484|\n",
      "|265|val_265|\n",
      "|193|val_193|\n",
      "|401|val_401|\n",
      "|150|val_150|\n",
      "|273|val_273|\n",
      "|224|val_224|\n",
      "|369|val_369|\n",
      "| 66| val_66|\n",
      "|128|val_128|\n",
      "|213|val_213|\n",
      "+---+-------+\n",
      "only showing top 20 rows\n",
      "\n"
     ]
    }
   ],
   "source": [
    "spark.sql(\"select * from src\").show()"
   ]
  },
  {
   "cell_type": "code",
   "execution_count": 7,
   "id": "01d88f94",
   "metadata": {
    "execution": {
     "iopub.execute_input": "2023-11-21T09:49:13.918256Z",
     "iopub.status.busy": "2023-11-21T09:49:13.917420Z",
     "iopub.status.idle": "2023-11-21T09:49:15.977976Z",
     "shell.execute_reply": "2023-11-21T09:49:15.977164Z",
     "shell.execute_reply.started": "2023-11-21T09:49:13.918232Z"
    },
    "pycharm": {
     "name": "#%%\n"
    }
   },
   "outputs": [
    {
     "name": "stderr",
     "output_type": "stream",
     "text": [
      "[Stage 1:=============================>                             (1 + 1) / 2]\r"
     ]
    },
    {
     "name": "stdout",
     "output_type": "stream",
     "text": [
      "+--------+\n",
      "|count(1)|\n",
      "+--------+\n",
      "|     500|\n",
      "+--------+\n",
      "\n"
     ]
    },
    {
     "name": "stderr",
     "output_type": "stream",
     "text": [
      "                                                                                \r"
     ]
    }
   ],
   "source": [
    "spark.sql(\"select count(*) from src\").show()"
   ]
  },
  {
   "cell_type": "code",
   "execution_count": 8,
   "id": "87c682d7",
   "metadata": {
    "execution": {
     "iopub.execute_input": "2023-11-21T09:49:32.535309Z",
     "iopub.status.busy": "2023-11-21T09:49:32.535065Z",
     "iopub.status.idle": "2023-11-21T09:49:33.992497Z",
     "shell.execute_reply": "2023-11-21T09:49:33.991697Z",
     "shell.execute_reply.started": "2023-11-21T09:49:32.535291Z"
    },
    "pycharm": {
     "name": "#%%\n"
    }
   },
   "outputs": [
    {
     "name": "stdout",
     "output_type": "stream",
     "text": [
      "key: 0, value: val_0\n",
      "key: 0, value: val_0\n",
      "key: 0, value: val_0\n",
      "key: 2, value: val_2\n",
      "key: 4, value: val_4\n",
      "key: 5, value: val_5\n",
      "key: 5, value: val_5\n",
      "key: 5, value: val_5\n",
      "key: 8, value: val_8\n",
      "key: 9, value: val_9\n"
     ]
    },
    {
     "name": "stderr",
     "output_type": "stream",
     "text": [
      "                                                                                \r"
     ]
    }
   ],
   "source": [
    "sqldf = spark.sql(\"select key, value from src where key < 10 order by key\")\n",
    "stringsds = sqldf.rdd.map(lambda row: f\"key: {row.key}, value: {row.value}\")\n",
    "for record in stringsds.collect():\n",
    "    print(record)"
   ]
  },
  {
   "cell_type": "code",
   "execution_count": 8,
   "id": "9987c966",
   "metadata": {
    "execution": {
     "iopub.execute_input": "2023-11-21T06:44:48.761304Z",
     "iopub.status.busy": "2023-11-21T06:44:48.760864Z",
     "iopub.status.idle": "2023-11-21T06:44:49.127413Z",
     "shell.execute_reply": "2023-11-21T06:44:49.126584Z",
     "shell.execute_reply.started": "2023-11-21T06:44:48.761282Z"
    },
    "pycharm": {
     "name": "#%%\n"
    }
   },
   "outputs": [],
   "source": [
    "from pyspark.sql import Row\n",
    "\n",
    "Record = Row(\"key\", \"value\")\n",
    "recordsDF = spark.createDataFrame([Record(i, \"val_\" + str(i)) for i in range(1, 101)])\n",
    "recordsDF.createOrReplaceTempView(\"records\")"
   ]
  },
  {
   "cell_type": "code",
   "execution_count": 9,
   "id": "3981c7d8",
   "metadata": {
    "execution": {
     "iopub.execute_input": "2023-11-21T06:44:49.128699Z",
     "iopub.status.busy": "2023-11-21T06:44:49.128492Z",
     "iopub.status.idle": "2023-11-21T06:44:49.696796Z",
     "shell.execute_reply": "2023-11-21T06:44:49.695902Z",
     "shell.execute_reply.started": "2023-11-21T06:44:49.128679Z"
    },
    "pycharm": {
     "name": "#%%\n"
    }
   },
   "outputs": [
    {
     "name": "stdout",
     "output_type": "stream",
     "text": [
      "+---+------+---+------+\n",
      "|key| value|key| value|\n",
      "+---+------+---+------+\n",
      "|  2| val_2|  2| val_2|\n",
      "|  2| val_2|  2| val_2|\n",
      "|  4| val_4|  4| val_4|\n",
      "|  4| val_4|  4| val_4|\n",
      "|  5| val_5|  5| val_5|\n",
      "|  5| val_5|  5| val_5|\n",
      "|  5| val_5|  5| val_5|\n",
      "|  5| val_5|  5| val_5|\n",
      "|  5| val_5|  5| val_5|\n",
      "|  5| val_5|  5| val_5|\n",
      "|  8| val_8|  8| val_8|\n",
      "|  8| val_8|  8| val_8|\n",
      "|  9| val_9|  9| val_9|\n",
      "|  9| val_9|  9| val_9|\n",
      "| 10|val_10| 10|val_10|\n",
      "| 10|val_10| 10|val_10|\n",
      "| 11|val_11| 11|val_11|\n",
      "| 11|val_11| 11|val_11|\n",
      "| 12|val_12| 12|val_12|\n",
      "| 12|val_12| 12|val_12|\n",
      "+---+------+---+------+\n",
      "only showing top 20 rows\n",
      "\n"
     ]
    }
   ],
   "source": [
    "spark.sql(\"select * from records r join src s on r.key = s.key\").show()"
   ]
  },
  {
   "cell_type": "code",
   "execution_count": 10,
   "id": "c35ff53b",
   "metadata": {
    "execution": {
     "iopub.execute_input": "2023-11-21T06:44:49.698462Z",
     "iopub.status.busy": "2023-11-21T06:44:49.698010Z",
     "iopub.status.idle": "2023-11-21T06:44:50.686599Z",
     "shell.execute_reply": "2023-11-21T06:44:50.685678Z",
     "shell.execute_reply.started": "2023-11-21T06:44:49.698440Z"
    },
    "pycharm": {
     "name": "#%%\n"
    }
   },
   "outputs": [],
   "source": [
    "spark.stop()"
   ]
  },
  {
   "cell_type": "code",
   "execution_count": null,
   "id": "373cbe9f",
   "metadata": {
    "pycharm": {
     "name": "#%%\n"
    }
   },
   "outputs": [],
   "source": []
  }
 ],
 "metadata": {
  "kernelspec": {
   "display_name": "Python 3 (ipykernel)",
   "language": "python",
   "name": "python3"
  },
  "language_info": {
   "codemirror_mode": {
    "name": "ipython",
    "version": 3
   },
   "file_extension": ".py",
   "mimetype": "text/x-python",
   "name": "python",
   "nbconvert_exporter": "python",
   "pygments_lexer": "ipython3",
   "version": "3.10.12"
  },
  "widgets": {
   "application/vnd.jupyter.widget-state+json": {
    "state": {},
    "version_major": 2,
    "version_minor": 0
   }
  }
 },
 "nbformat": 4,
 "nbformat_minor": 5
}
