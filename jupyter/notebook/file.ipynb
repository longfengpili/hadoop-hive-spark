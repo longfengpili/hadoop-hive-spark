{
 "cells": [
  {
   "cell_type": "code",
   "execution_count": 1,
   "id": "adfcdf0b-44cf-4af2-8e4a-afdba37e08c7",
   "metadata": {
    "execution": {
     "iopub.execute_input": "2023-11-28T03:47:53.032168Z",
     "iopub.status.busy": "2023-11-28T03:47:53.031926Z",
     "iopub.status.idle": "2023-11-28T03:48:03.687749Z",
     "shell.execute_reply": "2023-11-28T03:48:03.686860Z",
     "shell.execute_reply.started": "2023-11-28T03:47:53.032145Z"
    }
   },
   "outputs": [
    {
     "name": "stderr",
     "output_type": "stream",
     "text": [
      "Setting default log level to \"WARN\".\n",
      "To adjust logging level use sc.setLogLevel(newLevel). For SparkR, use setLogLevel(newLevel).\n"
     ]
    }
   ],
   "source": [
    "from pyspark.sql import SparkSession\n",
    "\n",
    "spark = SparkSession \\\n",
    "    .builder \\\n",
    "    .appName(\"Python Spark SQL basic example\") \\\n",
    "    .config(\"spark.some.config.option\", \"some-value\") \\\n",
    "    .enableHiveSupport() \\\n",
    "    .getOrCreate()"
   ]
  },
  {
   "cell_type": "markdown",
   "id": "17ed5004-a3ee-452e-83d3-bf447802520d",
   "metadata": {},
   "source": [
    "# load txt to table"
   ]
  },
  {
   "cell_type": "code",
   "execution_count": 2,
   "id": "b71b658f-653e-41e4-9032-4a56c29f774d",
   "metadata": {
    "execution": {
     "iopub.execute_input": "2023-11-28T03:48:03.689877Z",
     "iopub.status.busy": "2023-11-28T03:48:03.689490Z",
     "iopub.status.idle": "2023-11-28T03:48:07.499784Z",
     "shell.execute_reply": "2023-11-28T03:48:07.498891Z",
     "shell.execute_reply.started": "2023-11-28T03:48:03.689849Z"
    }
   },
   "outputs": [
    {
     "name": "stderr",
     "output_type": "stream",
     "text": [
      "23/11/28 03:48:05 WARN HiveConf: HiveConf of name hive.stats.jdbc.timeout does not exist\n",
      "23/11/28 03:48:05 WARN HiveConf: HiveConf of name hive.stats.retries.wait does not exist\n"
     ]
    },
    {
     "data": {
      "text/plain": [
       "DataFrame[]"
      ]
     },
     "execution_count": 2,
     "metadata": {},
     "output_type": "execute_result"
    },
    {
     "name": "stderr",
     "output_type": "stream",
     "text": [
      "23/11/28 03:48:07 WARN ObjectStore: Failed to get database global_temp, returning NoSuchObjectException\n"
     ]
    },
    {
     "data": {
      "text/plain": [
       "DataFrame[]"
      ]
     },
     "execution_count": 2,
     "metadata": {},
     "output_type": "execute_result"
    }
   ],
   "source": [
    "spark.sql(\"create table if not exists src (key int, value string) using hive\")\n",
    "spark.sql(\"load data local inpath '/opt/spark/examples/src/main/resources/kv1.txt' into table src\")"
   ]
  },
  {
   "cell_type": "markdown",
   "id": "2afc6769-0ca7-4e20-8ba1-1815178752c4",
   "metadata": {},
   "source": [
    "# load json "
   ]
  },
  {
   "cell_type": "code",
   "execution_count": 3,
   "id": "e5d5c804-3e8a-4c51-8a03-aafddba2d0fb",
   "metadata": {
    "execution": {
     "iopub.execute_input": "2023-11-28T03:48:07.501345Z",
     "iopub.status.busy": "2023-11-28T03:48:07.500767Z",
     "iopub.status.idle": "2023-11-28T03:48:10.515714Z",
     "shell.execute_reply": "2023-11-28T03:48:10.514737Z",
     "shell.execute_reply.started": "2023-11-28T03:48:07.501319Z"
    }
   },
   "outputs": [
    {
     "name": "stderr",
     "output_type": "stream",
     "text": [
      "                                                                                \r"
     ]
    },
    {
     "name": "stdout",
     "output_type": "stream",
     "text": [
      "+----+-------+\n",
      "| age|   name|\n",
      "+----+-------+\n",
      "|NULL|Michael|\n",
      "|  30|   Andy|\n",
      "|  19| Justin|\n",
      "+----+-------+\n",
      "\n"
     ]
    }
   ],
   "source": [
    "df = spark.read.json(\"file:///opt/spark/examples/src/main/resources/people.json\")\n",
    "df.show()"
   ]
  },
  {
   "cell_type": "code",
   "execution_count": 4,
   "id": "4d45ae96-7c56-48f7-9438-593ea501e4e2",
   "metadata": {
    "execution": {
     "iopub.execute_input": "2023-11-28T03:48:10.517728Z",
     "iopub.status.busy": "2023-11-28T03:48:10.516898Z",
     "iopub.status.idle": "2023-11-28T03:48:13.041195Z",
     "shell.execute_reply": "2023-11-28T03:48:13.040135Z",
     "shell.execute_reply.started": "2023-11-28T03:48:10.517690Z"
    }
   },
   "outputs": [
    {
     "name": "stdout",
     "output_type": "stream",
     "text": [
      "root\n",
      " |-- age: long (nullable = true)\n",
      " |-- name: string (nullable = true)\n",
      "\n"
     ]
    },
    {
     "name": "stderr",
     "output_type": "stream",
     "text": [
      "                                                                                \r"
     ]
    },
    {
     "name": "stdout",
     "output_type": "stream",
     "text": [
      "+-------+\n",
      "|   name|\n",
      "+-------+\n",
      "|Michael|\n",
      "|   Andy|\n",
      "| Justin|\n",
      "+-------+\n",
      "\n",
      "+-------+---------+\n",
      "|   name|(age + 1)|\n",
      "+-------+---------+\n",
      "|Michael|     NULL|\n",
      "|   Andy|       31|\n",
      "| Justin|       20|\n",
      "+-------+---------+\n",
      "\n",
      "+---+----+\n",
      "|age|name|\n",
      "+---+----+\n",
      "| 30|Andy|\n",
      "+---+----+\n",
      "\n",
      "+----+-----+\n",
      "| age|count|\n",
      "+----+-----+\n",
      "|  19|    1|\n",
      "|NULL|    1|\n",
      "|  30|    1|\n",
      "+----+-----+\n",
      "\n"
     ]
    }
   ],
   "source": [
    "df.printSchema()\n",
    "df.select(\"name\").show()\n",
    "df.select(df['name'], df['age'] + 1).show()\n",
    "df.filter(df['age'] > 21).show()\n",
    "df.groupBy(\"age\").count().show()"
   ]
  },
  {
   "cell_type": "code",
   "execution_count": 5,
   "id": "be2e939d-f142-45bd-ba7d-a3c37424714c",
   "metadata": {
    "execution": {
     "iopub.execute_input": "2023-11-28T03:48:13.042524Z",
     "iopub.status.busy": "2023-11-28T03:48:13.042273Z",
     "iopub.status.idle": "2023-11-28T03:48:13.186763Z",
     "shell.execute_reply": "2023-11-28T03:48:13.185776Z",
     "shell.execute_reply.started": "2023-11-28T03:48:13.042504Z"
    }
   },
   "outputs": [
    {
     "name": "stdout",
     "output_type": "stream",
     "text": [
      "+----+-------+\n",
      "| age|   name|\n",
      "+----+-------+\n",
      "|NULL|Michael|\n",
      "|  30|   Andy|\n",
      "|  19| Justin|\n",
      "+----+-------+\n",
      "\n"
     ]
    }
   ],
   "source": [
    "df.createOrReplaceTempView(\"people\")\n",
    "\n",
    "sqlDF = spark.sql(\"SELECT * FROM people\")\n",
    "sqlDF.show()\n",
    "\n",
    "# spark.newSession().sql(\"SELECT * FROM global_temp.people\").show()  # 会报错"
   ]
  },
  {
   "cell_type": "code",
   "execution_count": 6,
   "id": "ee9ec3c8-e5cf-43a4-908f-cd367e3c401f",
   "metadata": {
    "execution": {
     "iopub.execute_input": "2023-11-28T03:48:13.188358Z",
     "iopub.status.busy": "2023-11-28T03:48:13.187774Z",
     "iopub.status.idle": "2023-11-28T03:48:13.405258Z",
     "shell.execute_reply": "2023-11-28T03:48:13.404367Z",
     "shell.execute_reply.started": "2023-11-28T03:48:13.188336Z"
    }
   },
   "outputs": [
    {
     "name": "stdout",
     "output_type": "stream",
     "text": [
      "+----+-------+\n",
      "| age|   name|\n",
      "+----+-------+\n",
      "|NULL|Michael|\n",
      "|  30|   Andy|\n",
      "|  19| Justin|\n",
      "+----+-------+\n",
      "\n",
      "+----+-------+\n",
      "| age|   name|\n",
      "+----+-------+\n",
      "|NULL|Michael|\n",
      "|  30|   Andy|\n",
      "|  19| Justin|\n",
      "+----+-------+\n",
      "\n"
     ]
    }
   ],
   "source": [
    "df.createOrReplaceGlobalTempView(\"people\")\n",
    "\n",
    "sqlDF = spark.sql(\"SELECT * FROM people\").show()\n",
    "\n",
    "spark.newSession().sql(\"SELECT * FROM global_temp.people\").show()"
   ]
  },
  {
   "cell_type": "code",
   "execution_count": 7,
   "id": "106c5493-c66c-4859-a507-e7800ff61d86",
   "metadata": {
    "execution": {
     "iopub.execute_input": "2023-11-28T03:48:13.407838Z",
     "iopub.status.busy": "2023-11-28T03:48:13.407513Z",
     "iopub.status.idle": "2023-11-28T03:48:14.045268Z",
     "shell.execute_reply": "2023-11-28T03:48:14.044451Z",
     "shell.execute_reply.started": "2023-11-28T03:48:13.407817Z"
    }
   },
   "outputs": [],
   "source": [
    "spark.stop()"
   ]
  },
  {
   "cell_type": "markdown",
   "id": "4fa88bab-2797-4961-a13d-c87a3b2360bb",
   "metadata": {},
   "source": [
    "# addfile"
   ]
  },
  {
   "cell_type": "code",
   "execution_count": 8,
   "id": "70dee5f6-f02f-4045-a217-fd979244f4d7",
   "metadata": {
    "execution": {
     "iopub.execute_input": "2023-11-28T03:48:14.046606Z",
     "iopub.status.busy": "2023-11-28T03:48:14.046406Z",
     "iopub.status.idle": "2023-11-28T03:48:14.663308Z",
     "shell.execute_reply": "2023-11-28T03:48:14.662555Z",
     "shell.execute_reply.started": "2023-11-28T03:48:14.046587Z"
    }
   },
   "outputs": [
    {
     "data": {
      "text/plain": [
       "'/tmp/spark-f7209b2c-e38f-4660-98ab-d017d2a1371d/userFiles-136b0d25-5707-4ff5-bc2d-4d4580492fa5/file.ipynb'"
      ]
     },
     "execution_count": 8,
     "metadata": {},
     "output_type": "execute_result"
    }
   ],
   "source": [
    "from pyspark import SparkContext, SparkFiles\n",
    "\n",
    "tfile = './file.ipynb'\n",
    "\n",
    "# 初始化 SparkContext\n",
    "sc = SparkContext(\"local\", \"AddFileExample\")\n",
    "\n",
    "# 添加文件到所有节点\n",
    "sc.addFile(tfile)\n",
    "\n",
    "# 获取文件\n",
    "SparkFiles.get(tfile)\n",
    "\n",
    "sc.stop()"
   ]
  },
  {
   "cell_type": "markdown",
   "id": "d1be3d41-4f5a-45c4-9bec-da8a334ad083",
   "metadata": {},
   "source": [
    "# save table"
   ]
  },
  {
   "cell_type": "code",
   "execution_count": 1,
   "id": "ee51e8e6-fe08-45b1-b12d-0ba6af196f94",
   "metadata": {
    "execution": {
     "iopub.execute_input": "2023-12-04T09:17:01.425950Z",
     "iopub.status.busy": "2023-12-04T09:17:01.425483Z",
     "iopub.status.idle": "2023-12-04T09:17:15.177599Z",
     "shell.execute_reply": "2023-12-04T09:17:15.176470Z",
     "shell.execute_reply.started": "2023-12-04T09:17:01.425921Z"
    }
   },
   "outputs": [
    {
     "name": "stderr",
     "output_type": "stream",
     "text": [
      "Setting default log level to \"WARN\".\n",
      "To adjust logging level use sc.setLogLevel(newLevel). For SparkR, use setLogLevel(newLevel).\n",
      "23/12/04 09:17:04 WARN Utils: Service 'SparkUI' could not bind on port 4040. Attempting port 4041.\n"
     ]
    }
   ],
   "source": [
    "from pyspark.sql.functions import split\n",
    "from pyspark.sql import SparkSession\n",
    "\n",
    "spark = SparkSession \\\n",
    "    .builder \\\n",
    "    .appName(\"savetable\") \\\n",
    "    .config(\"spark.some.config.option\", \"some-value\") \\\n",
    "    .enableHiveSupport() \\\n",
    "    .getOrCreate()"
   ]
  },
  {
   "cell_type": "code",
   "execution_count": 2,
   "id": "ebbcc215-0e29-47b1-8a66-a46244dca546",
   "metadata": {
    "execution": {
     "iopub.execute_input": "2023-12-04T09:17:56.099048Z",
     "iopub.status.busy": "2023-12-04T09:17:56.098551Z",
     "iopub.status.idle": "2023-12-04T09:17:57.176964Z",
     "shell.execute_reply": "2023-12-04T09:17:57.176054Z",
     "shell.execute_reply.started": "2023-12-04T09:17:56.099025Z"
    }
   },
   "outputs": [],
   "source": [
    "adj = spark.read.text('file:///home/jupyter/data/test/adj_rs.csv')"
   ]
  },
  {
   "cell_type": "code",
   "execution_count": 3,
   "id": "a07ddc79-b868-4c55-9b1f-0ed7aaef86ef",
   "metadata": {
    "execution": {
     "iopub.execute_input": "2023-12-04T09:17:57.887394Z",
     "iopub.status.busy": "2023-12-04T09:17:57.887106Z",
     "iopub.status.idle": "2023-12-04T09:17:58.090972Z",
     "shell.execute_reply": "2023-12-04T09:17:58.090054Z",
     "shell.execute_reply.started": "2023-12-04T09:17:57.887372Z"
    }
   },
   "outputs": [],
   "source": [
    "\n",
    "columns = ['time', 'app_id', 'store', 'adid', 'openid', 'activity_kind', 'created_at', 'installed_at', 'reattributed_at', 'network_name', 'country', 'device_name', 'device_type', 'os_name', 'timezone', 'event_name', 'revenue_float', 'revenue', 'currency', 'revenue_usd', 'reporting_revenue']\n",
    "adj_split = adj.select(split(adj['value'], ',').alias('split'))\n",
    "adj_final = adj_split.select([adj_split['split'][i].alias(columns[i]) for i in range(len(columns))])"
   ]
  },
  {
   "cell_type": "code",
   "execution_count": 4,
   "id": "f8936674-5e94-4f5f-a813-d9c73de2e6e0",
   "metadata": {
    "execution": {
     "iopub.execute_input": "2023-12-04T09:18:01.120096Z",
     "iopub.status.busy": "2023-12-04T09:18:01.119708Z",
     "iopub.status.idle": "2023-12-04T09:18:08.504101Z",
     "shell.execute_reply": "2023-12-04T09:18:08.503013Z",
     "shell.execute_reply.started": "2023-12-04T09:18:01.120069Z"
    }
   },
   "outputs": [
    {
     "name": "stderr",
     "output_type": "stream",
     "text": [
      "23/12/04 09:18:01 WARN HiveConf: HiveConf of name hive.stats.jdbc.timeout does not exist\n",
      "23/12/04 09:18:01 WARN HiveConf: HiveConf of name hive.stats.retries.wait does not exist\n",
      "23/12/04 09:18:08 WARN SessionState: METASTORE_FILTER_HOOK will be ignored, since hive.security.authorization.manager is set to instance of HiveAuthorizerFactory.\n",
      "23/12/04 09:18:08 WARN HiveConf: HiveConf of name hive.internal.ss.authz.settings.applied.marker does not exist\n",
      "23/12/04 09:18:08 WARN HiveConf: HiveConf of name hive.stats.jdbc.timeout does not exist\n",
      "23/12/04 09:18:08 WARN HiveConf: HiveConf of name hive.stats.retries.wait does not exist\n",
      "23/12/04 09:18:08 WARN ObjectStore: Failed to get database global_temp, returning NoSuchObjectException\n"
     ]
    }
   ],
   "source": [
    "adj_final.write.saveAsTable('adj', mode='overwrite')"
   ]
  },
  {
   "cell_type": "markdown",
   "id": "71e11803-ea95-4825-b5f0-e7d6486b5a09",
   "metadata": {},
   "source": [
    "# table"
   ]
  },
  {
   "cell_type": "code",
   "execution_count": 13,
   "id": "56b679e2-f33f-4763-89d6-d12067ad9d06",
   "metadata": {
    "execution": {
     "iopub.execute_input": "2023-11-28T03:48:28.361236Z",
     "iopub.status.busy": "2023-11-28T03:48:28.361032Z",
     "iopub.status.idle": "2023-11-28T03:48:28.928272Z",
     "shell.execute_reply": "2023-11-28T03:48:28.927135Z",
     "shell.execute_reply.started": "2023-11-28T03:48:28.361217Z"
    }
   },
   "outputs": [
    {
     "name": "stdout",
     "output_type": "stream",
     "text": [
      "-RECORD 0---------------------------------\n",
      " time              | 2023-10-01 00:00:00  \n",
      " app_id            | 1456241577           \n",
      " store             | itunes               \n",
      " adid              | 041bf78c9dc6dd5f5... \n",
      " openid            |                      \n",
      " activity_kind     | session              \n",
      " created_at        |                      \n",
      " installed_at      | 1636532102           \n",
      " reattributed_at   |                      \n",
      " network_name      | RWD-ady              \n",
      " country           | jp                   \n",
      " device_name       |                      \n",
      " device_type       |                      \n",
      " os_name           | ios                  \n",
      " timezone          | UTC+0900             \n",
      " event_name        |                      \n",
      " revenue_float     |                      \n",
      " revenue           |                      \n",
      " currency          |                      \n",
      " revenue_usd       |                      \n",
      " reporting_revenue |                      \n",
      "only showing top 1 row\n",
      "\n"
     ]
    }
   ],
   "source": [
    "myadj = spark.table('adj')\n",
    "myadj.show(1, vertical=True)"
   ]
  },
  {
   "cell_type": "code",
   "execution_count": 14,
   "id": "4c85a2f9-8cc6-49bd-ad28-91fd4dbcd2e4",
   "metadata": {
    "execution": {
     "iopub.execute_input": "2023-11-28T03:48:28.930037Z",
     "iopub.status.busy": "2023-11-28T03:48:28.929328Z",
     "iopub.status.idle": "2023-11-28T03:48:29.375092Z",
     "shell.execute_reply": "2023-11-28T03:48:29.374250Z",
     "shell.execute_reply.started": "2023-11-28T03:48:28.930007Z"
    }
   },
   "outputs": [],
   "source": [
    "spark.stop()"
   ]
  }
 ],
 "metadata": {
  "kernelspec": {
   "display_name": "Python 3 (ipykernel)",
   "language": "python",
   "name": "python3"
  },
  "language_info": {
   "codemirror_mode": {
    "name": "ipython",
    "version": 3
   },
   "file_extension": ".py",
   "mimetype": "text/x-python",
   "name": "python",
   "nbconvert_exporter": "python",
   "pygments_lexer": "ipython3",
   "version": "3.10.12"
  },
  "widgets": {
   "application/vnd.jupyter.widget-state+json": {
    "state": {},
    "version_major": 2,
    "version_minor": 0
   }
  }
 },
 "nbformat": 4,
 "nbformat_minor": 5
}
