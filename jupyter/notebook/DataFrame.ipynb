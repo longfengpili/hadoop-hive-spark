{
 "cells": [
  {
   "cell_type": "markdown",
   "id": "e2f77b2b-8a82-4d29-bc15-360bd57512af",
   "metadata": {},
   "source": [
    "# DataFrame"
   ]
  },
  {
   "cell_type": "code",
   "execution_count": 1,
   "id": "69f023cc-0964-4727-9f18-9a4b1909cec3",
   "metadata": {
    "execution": {
     "iopub.execute_input": "2023-11-27T07:17:01.204561Z",
     "iopub.status.busy": "2023-11-27T07:17:01.204167Z",
     "iopub.status.idle": "2023-11-27T07:17:01.256647Z",
     "shell.execute_reply": "2023-11-27T07:17:01.255806Z",
     "shell.execute_reply.started": "2023-11-27T07:17:01.204539Z"
    }
   },
   "outputs": [],
   "source": [
    "from pyspark.sql import SparkSession\n",
    "from datetime import datetime, date\n",
    "import pandas as pd\n",
    "from pyspark.sql import Row"
   ]
  },
  {
   "cell_type": "code",
   "execution_count": 2,
   "id": "b019bd07-8601-4bc3-aa3a-6dcb8a314418",
   "metadata": {
    "execution": {
     "iopub.execute_input": "2023-11-27T07:17:01.258502Z",
     "iopub.status.busy": "2023-11-27T07:17:01.258021Z",
     "iopub.status.idle": "2023-11-27T07:17:18.127979Z",
     "shell.execute_reply": "2023-11-27T07:17:18.127141Z",
     "shell.execute_reply.started": "2023-11-27T07:17:01.258474Z"
    }
   },
   "outputs": [
    {
     "name": "stderr",
     "output_type": "stream",
     "text": [
      "Setting default log level to \"WARN\".\n",
      "To adjust logging level use sc.setLogLevel(newLevel). For SparkR, use setLogLevel(newLevel).\n"
     ]
    }
   ],
   "source": [
    "spark = SparkSession.builder.appName('dataframe').getOrCreate()"
   ]
  },
  {
   "cell_type": "markdown",
   "id": "4fffb24d-a673-4d92-be16-fe9a2a0ed51e",
   "metadata": {},
   "source": [
    "## creation"
   ]
  },
  {
   "cell_type": "code",
   "execution_count": 3,
   "id": "f67990e6-5c3b-4c3b-bdd6-85b8e54be362",
   "metadata": {
    "execution": {
     "iopub.execute_input": "2023-11-27T07:17:18.129135Z",
     "iopub.status.busy": "2023-11-27T07:17:18.128942Z",
     "iopub.status.idle": "2023-11-27T07:17:19.641715Z",
     "shell.execute_reply": "2023-11-27T07:17:19.640957Z",
     "shell.execute_reply.started": "2023-11-27T07:17:18.129116Z"
    }
   },
   "outputs": [
    {
     "data": {
      "text/plain": [
       "DataFrame[a: bigint, b: double, c: string, d: date, e: timestamp]"
      ]
     },
     "execution_count": 3,
     "metadata": {},
     "output_type": "execute_result"
    }
   ],
   "source": [
    "df = spark.createDataFrame([\n",
    "    Row(a=1, b=2., c='string1', d=date(2000, 1, 1), e=datetime(2000, 1, 1, 12, 0)),\n",
    "    Row(a=2, b=3., c='string2', d=date(2000, 2, 1), e=datetime(2000, 1, 2, 12, 0)),\n",
    "    Row(a=4, b=5., c='string3', d=date(2000, 3, 1), e=datetime(2000, 1, 3, 12, 0))\n",
    "])\n",
    "df"
   ]
  },
  {
   "cell_type": "code",
   "execution_count": 4,
   "id": "73be500a-0bc5-4d2f-8037-9ea45d7079ce",
   "metadata": {
    "execution": {
     "iopub.execute_input": "2023-11-27T07:17:19.643268Z",
     "iopub.status.busy": "2023-11-27T07:17:19.642756Z",
     "iopub.status.idle": "2023-11-27T07:17:19.735984Z",
     "shell.execute_reply": "2023-11-27T07:17:19.735164Z",
     "shell.execute_reply.started": "2023-11-27T07:17:19.643242Z"
    }
   },
   "outputs": [
    {
     "data": {
      "text/plain": [
       "DataFrame[a: bigint, b: double, c: string, d: date, e: timestamp]"
      ]
     },
     "execution_count": 4,
     "metadata": {},
     "output_type": "execute_result"
    }
   ],
   "source": [
    "df = spark.createDataFrame([\n",
    "    (1, 2., 'string1', date(2000, 1, 1), datetime(2000, 1, 1, 12, 0)),\n",
    "    (2, 3., 'string2', date(2000, 2, 1), datetime(2000, 1, 2, 12, 0)),\n",
    "    (3, 4., 'string3', date(2000, 3, 1), datetime(2000, 1, 3, 12, 0))\n",
    "], schema='a long, b double, c string, d date, e timestamp')\n",
    "df"
   ]
  },
  {
   "cell_type": "code",
   "execution_count": 5,
   "id": "60fdc189-3edc-428e-8bc7-360adae6f84c",
   "metadata": {
    "execution": {
     "iopub.execute_input": "2023-11-27T07:17:19.738035Z",
     "iopub.status.busy": "2023-11-27T07:17:19.737669Z",
     "iopub.status.idle": "2023-11-27T07:17:19.785693Z",
     "shell.execute_reply": "2023-11-27T07:17:19.784914Z",
     "shell.execute_reply.started": "2023-11-27T07:17:19.738013Z"
    }
   },
   "outputs": [
    {
     "name": "stderr",
     "output_type": "stream",
     "text": [
      "/usr/local/lib/python3.10/dist-packages/pyspark/sql/pandas/conversion.py:485: FutureWarning: is_datetime64tz_dtype is deprecated and will be removed in a future version. Check `isinstance(dtype, pd.DatetimeTZDtype)` instead.\n",
      "  if should_localize and is_datetime64tz_dtype(s.dtype) and s.dt.tz is not None:\n"
     ]
    },
    {
     "data": {
      "text/plain": [
       "DataFrame[a: bigint, b: double, c: string, d: date, e: timestamp]"
      ]
     },
     "execution_count": 5,
     "metadata": {},
     "output_type": "execute_result"
    }
   ],
   "source": [
    "pandas_df = pd.DataFrame({\n",
    "    'a': [1, 2, 3],\n",
    "    'b': [2., 3., 4.],\n",
    "    'c': ['string1', 'string2', 'string3'],\n",
    "    'd': [date(2000, 1, 1), date(2000, 2, 1), date(2000, 3, 1)],\n",
    "    'e': [datetime(2000, 1, 1, 12, 0), datetime(2000, 1, 2, 12, 0), datetime(2000, 1, 3, 12, 0)]\n",
    "})\n",
    "df = spark.createDataFrame(pandas_df)\n",
    "df"
   ]
  },
  {
   "cell_type": "code",
   "execution_count": 6,
   "id": "5d235d50-da5c-4970-ae66-5faf7fd7de2a",
   "metadata": {
    "execution": {
     "iopub.execute_input": "2023-11-27T07:17:19.787116Z",
     "iopub.status.busy": "2023-11-27T07:17:19.786701Z",
     "iopub.status.idle": "2023-11-27T07:17:24.301090Z",
     "shell.execute_reply": "2023-11-27T07:17:24.299902Z",
     "shell.execute_reply.started": "2023-11-27T07:17:19.787095Z"
    }
   },
   "outputs": [
    {
     "name": "stderr",
     "output_type": "stream",
     "text": [
      "                                                                                \r"
     ]
    },
    {
     "name": "stdout",
     "output_type": "stream",
     "text": [
      "+---+---+-------+----------+-------------------+\n",
      "|  a|  b|      c|         d|                  e|\n",
      "+---+---+-------+----------+-------------------+\n",
      "|  1|2.0|string1|2000-01-01|2000-01-01 12:00:00|\n",
      "|  2|3.0|string2|2000-02-01|2000-01-02 12:00:00|\n",
      "|  3|4.0|string3|2000-03-01|2000-01-03 12:00:00|\n",
      "+---+---+-------+----------+-------------------+\n",
      "\n",
      "root\n",
      " |-- a: long (nullable = true)\n",
      " |-- b: double (nullable = true)\n",
      " |-- c: string (nullable = true)\n",
      " |-- d: date (nullable = true)\n",
      " |-- e: timestamp (nullable = true)\n",
      "\n"
     ]
    }
   ],
   "source": [
    "# All DataFrames above result same.\n",
    "df.show()\n",
    "df.printSchema()"
   ]
  },
  {
   "cell_type": "markdown",
   "id": "536cc9c0-b2cf-4dd1-ae7a-39ad370a9a01",
   "metadata": {},
   "source": [
    "## viewing"
   ]
  },
  {
   "cell_type": "code",
   "execution_count": 7,
   "id": "040f679a-e942-4c09-8a87-a7d952946d82",
   "metadata": {
    "execution": {
     "iopub.execute_input": "2023-11-27T07:17:24.302711Z",
     "iopub.status.busy": "2023-11-27T07:17:24.302426Z",
     "iopub.status.idle": "2023-11-27T07:17:24.661380Z",
     "shell.execute_reply": "2023-11-27T07:17:24.660556Z",
     "shell.execute_reply.started": "2023-11-27T07:17:24.302688Z"
    }
   },
   "outputs": [
    {
     "name": "stdout",
     "output_type": "stream",
     "text": [
      "+---+---+-------+----------+-------------------+\n",
      "|  a|  b|      c|         d|                  e|\n",
      "+---+---+-------+----------+-------------------+\n",
      "|  1|2.0|string1|2000-01-01|2000-01-01 12:00:00|\n",
      "+---+---+-------+----------+-------------------+\n",
      "only showing top 1 row\n",
      "\n"
     ]
    }
   ],
   "source": [
    "df.show(1)"
   ]
  },
  {
   "cell_type": "code",
   "execution_count": 8,
   "id": "afce2cfc-e7e3-4070-8a3b-86404d79b8cd",
   "metadata": {
    "execution": {
     "iopub.execute_input": "2023-11-27T07:17:24.662506Z",
     "iopub.status.busy": "2023-11-27T07:17:24.662297Z",
     "iopub.status.idle": "2023-11-27T07:17:24.956712Z",
     "shell.execute_reply": "2023-11-27T07:17:24.955804Z",
     "shell.execute_reply.started": "2023-11-27T07:17:24.662486Z"
    }
   },
   "outputs": [
    {
     "name": "stdout",
     "output_type": "stream",
     "text": [
      "-RECORD 0------------------\n",
      " a   | 1                   \n",
      " b   | 2.0                 \n",
      " c   | string1             \n",
      " d   | 2000-01-01          \n",
      " e   | 2000-01-01 12:00:00 \n",
      "only showing top 1 row\n",
      "\n"
     ]
    }
   ],
   "source": [
    "df.show(1, vertical=True)"
   ]
  },
  {
   "cell_type": "code",
   "execution_count": 9,
   "id": "9184d815-ee88-40cc-902b-5ae377f69879",
   "metadata": {
    "execution": {
     "iopub.execute_input": "2023-11-27T07:17:24.957948Z",
     "iopub.status.busy": "2023-11-27T07:17:24.957739Z",
     "iopub.status.idle": "2023-11-27T07:17:24.964017Z",
     "shell.execute_reply": "2023-11-27T07:17:24.962860Z",
     "shell.execute_reply.started": "2023-11-27T07:17:24.957929Z"
    }
   },
   "outputs": [
    {
     "data": {
      "text/plain": [
       "['a', 'b', 'c', 'd', 'e']"
      ]
     },
     "execution_count": 9,
     "metadata": {},
     "output_type": "execute_result"
    }
   ],
   "source": [
    "df.columns"
   ]
  },
  {
   "cell_type": "code",
   "execution_count": 10,
   "id": "698548eb-8ea8-461e-b1fe-7006c9ae8fae",
   "metadata": {
    "execution": {
     "iopub.execute_input": "2023-11-27T07:17:24.965877Z",
     "iopub.status.busy": "2023-11-27T07:17:24.965310Z",
     "iopub.status.idle": "2023-11-27T07:17:26.891664Z",
     "shell.execute_reply": "2023-11-27T07:17:26.890766Z",
     "shell.execute_reply.started": "2023-11-27T07:17:24.965854Z"
    }
   },
   "outputs": [
    {
     "name": "stderr",
     "output_type": "stream",
     "text": [
      "[Stage 6:>                                                          (0 + 2) / 2]\r"
     ]
    },
    {
     "name": "stdout",
     "output_type": "stream",
     "text": [
      "+-------+---+---+-------+\n",
      "|summary|  a|  b|      c|\n",
      "+-------+---+---+-------+\n",
      "|  count|  3|  3|      3|\n",
      "|   mean|2.0|3.0|   NULL|\n",
      "| stddev|1.0|1.0|   NULL|\n",
      "|    min|  1|2.0|string1|\n",
      "|    max|  3|4.0|string3|\n",
      "+-------+---+---+-------+\n",
      "\n"
     ]
    },
    {
     "name": "stderr",
     "output_type": "stream",
     "text": [
      "                                                                                \r"
     ]
    }
   ],
   "source": [
    "df.select(\"a\", \"b\", \"c\").describe().show()"
   ]
  },
  {
   "cell_type": "code",
   "execution_count": 11,
   "id": "8c484882-f762-49bf-bc11-01bc1b91006a",
   "metadata": {
    "execution": {
     "iopub.execute_input": "2023-11-27T07:17:26.893435Z",
     "iopub.status.busy": "2023-11-27T07:17:26.892791Z",
     "iopub.status.idle": "2023-11-27T07:17:27.185071Z",
     "shell.execute_reply": "2023-11-27T07:17:27.184251Z",
     "shell.execute_reply.started": "2023-11-27T07:17:26.893411Z"
    }
   },
   "outputs": [
    {
     "data": {
      "text/plain": [
       "[Row(a=1, b=2.0, c='string1', d=datetime.date(2000, 1, 1), e=datetime.datetime(2000, 1, 1, 12, 0)),\n",
       " Row(a=2, b=3.0, c='string2', d=datetime.date(2000, 2, 1), e=datetime.datetime(2000, 1, 2, 12, 0)),\n",
       " Row(a=3, b=4.0, c='string3', d=datetime.date(2000, 3, 1), e=datetime.datetime(2000, 1, 3, 12, 0))]"
      ]
     },
     "execution_count": 11,
     "metadata": {},
     "output_type": "execute_result"
    },
    {
     "data": {
      "text/plain": [
       "[Row(a=1, b=2.0, c='string1', d=datetime.date(2000, 1, 1), e=datetime.datetime(2000, 1, 1, 12, 0))]"
      ]
     },
     "execution_count": 11,
     "metadata": {},
     "output_type": "execute_result"
    }
   ],
   "source": [
    "df.collect()\n",
    "df.take(1)"
   ]
  },
  {
   "cell_type": "code",
   "execution_count": 12,
   "id": "b9c01bc2-10f6-4f90-81d7-383a518852bd",
   "metadata": {
    "execution": {
     "iopub.execute_input": "2023-11-27T07:17:27.186283Z",
     "iopub.status.busy": "2023-11-27T07:17:27.185959Z",
     "iopub.status.idle": "2023-11-27T07:17:27.353134Z",
     "shell.execute_reply": "2023-11-27T07:17:27.352372Z",
     "shell.execute_reply.started": "2023-11-27T07:17:27.186264Z"
    }
   },
   "outputs": [
    {
     "name": "stderr",
     "output_type": "stream",
     "text": [
      "/usr/local/lib/python3.10/dist-packages/pyspark/sql/pandas/types.py:563: FutureWarning: is_datetime64tz_dtype is deprecated and will be removed in a future version. Check `isinstance(dtype, pd.DatetimeTZDtype)` instead.\n",
      "  if not is_datetime64tz_dtype(pser.dtype):\n",
      "/usr/local/lib/python3.10/dist-packages/pyspark/sql/pandas/types.py:379: FutureWarning: is_datetime64tz_dtype is deprecated and will be removed in a future version. Check `isinstance(dtype, pd.DatetimeTZDtype)` instead.\n",
      "  if is_datetime64tz_dtype(s.dtype):\n"
     ]
    },
    {
     "data": {
      "text/html": [
       "<div>\n",
       "<style scoped>\n",
       "    .dataframe tbody tr th:only-of-type {\n",
       "        vertical-align: middle;\n",
       "    }\n",
       "\n",
       "    .dataframe tbody tr th {\n",
       "        vertical-align: top;\n",
       "    }\n",
       "\n",
       "    .dataframe thead th {\n",
       "        text-align: right;\n",
       "    }\n",
       "</style>\n",
       "<table border=\"1\" class=\"dataframe\">\n",
       "  <thead>\n",
       "    <tr style=\"text-align: right;\">\n",
       "      <th></th>\n",
       "      <th>a</th>\n",
       "      <th>b</th>\n",
       "      <th>c</th>\n",
       "      <th>d</th>\n",
       "      <th>e</th>\n",
       "    </tr>\n",
       "  </thead>\n",
       "  <tbody>\n",
       "    <tr>\n",
       "      <th>0</th>\n",
       "      <td>1</td>\n",
       "      <td>2.0</td>\n",
       "      <td>string1</td>\n",
       "      <td>2000-01-01</td>\n",
       "      <td>2000-01-01 12:00:00</td>\n",
       "    </tr>\n",
       "    <tr>\n",
       "      <th>1</th>\n",
       "      <td>2</td>\n",
       "      <td>3.0</td>\n",
       "      <td>string2</td>\n",
       "      <td>2000-02-01</td>\n",
       "      <td>2000-01-02 12:00:00</td>\n",
       "    </tr>\n",
       "    <tr>\n",
       "      <th>2</th>\n",
       "      <td>3</td>\n",
       "      <td>4.0</td>\n",
       "      <td>string3</td>\n",
       "      <td>2000-03-01</td>\n",
       "      <td>2000-01-03 12:00:00</td>\n",
       "    </tr>\n",
       "  </tbody>\n",
       "</table>\n",
       "</div>"
      ],
      "text/plain": [
       "   a    b        c           d                   e\n",
       "0  1  2.0  string1  2000-01-01 2000-01-01 12:00:00\n",
       "1  2  3.0  string2  2000-02-01 2000-01-02 12:00:00\n",
       "2  3  4.0  string3  2000-03-01 2000-01-03 12:00:00"
      ]
     },
     "execution_count": 12,
     "metadata": {},
     "output_type": "execute_result"
    }
   ],
   "source": [
    "df.toPandas()"
   ]
  },
  {
   "cell_type": "markdown",
   "id": "8d5105ba-d342-48c4-a470-23eecbcc8d9d",
   "metadata": {},
   "source": [
    "## selecting and accessing"
   ]
  },
  {
   "cell_type": "code",
   "execution_count": 13,
   "id": "fab1ce13-cd83-41d7-9001-f1a5eda21cdd",
   "metadata": {
    "execution": {
     "iopub.execute_input": "2023-11-27T07:17:27.354667Z",
     "iopub.status.busy": "2023-11-27T07:17:27.354117Z",
     "iopub.status.idle": "2023-11-27T07:17:27.366600Z",
     "shell.execute_reply": "2023-11-27T07:17:27.365694Z",
     "shell.execute_reply.started": "2023-11-27T07:17:27.354645Z"
    }
   },
   "outputs": [
    {
     "data": {
      "text/plain": [
       "Column<'a'>"
      ]
     },
     "execution_count": 13,
     "metadata": {},
     "output_type": "execute_result"
    }
   ],
   "source": [
    "df.a"
   ]
  },
  {
   "cell_type": "code",
   "execution_count": 14,
   "id": "7e469b7c-a2c8-4273-8a55-0255c7b52642",
   "metadata": {
    "execution": {
     "iopub.execute_input": "2023-11-27T07:17:27.370343Z",
     "iopub.status.busy": "2023-11-27T07:17:27.370040Z",
     "iopub.status.idle": "2023-11-27T07:17:27.381734Z",
     "shell.execute_reply": "2023-11-27T07:17:27.380763Z",
     "shell.execute_reply.started": "2023-11-27T07:17:27.370322Z"
    }
   },
   "outputs": [
    {
     "data": {
      "text/plain": [
       "True"
      ]
     },
     "execution_count": 14,
     "metadata": {},
     "output_type": "execute_result"
    }
   ],
   "source": [
    "from pyspark.sql import Column\n",
    "from pyspark.sql.functions import upper\n",
    "\n",
    "type(df.c) == type(upper(df.c)) == type(df.c.isNull())"
   ]
  },
  {
   "cell_type": "code",
   "execution_count": 15,
   "id": "58a654c3-46f8-4733-b9c0-5c6f887983a3",
   "metadata": {
    "execution": {
     "iopub.execute_input": "2023-11-27T07:17:27.383496Z",
     "iopub.status.busy": "2023-11-27T07:17:27.382871Z",
     "iopub.status.idle": "2023-11-27T07:17:27.927999Z",
     "shell.execute_reply": "2023-11-27T07:17:27.927127Z",
     "shell.execute_reply.started": "2023-11-27T07:17:27.383472Z"
    }
   },
   "outputs": [
    {
     "name": "stdout",
     "output_type": "stream",
     "text": [
      "+-------+\n",
      "|      c|\n",
      "+-------+\n",
      "|string1|\n",
      "|string2|\n",
      "|string3|\n",
      "+-------+\n",
      "\n",
      "+-------+\n",
      "|      c|\n",
      "+-------+\n",
      "|string1|\n",
      "|string2|\n",
      "|string3|\n",
      "+-------+\n",
      "\n"
     ]
    }
   ],
   "source": [
    "df.select(df.c).show()\n",
    "df.select('c').show()"
   ]
  },
  {
   "cell_type": "code",
   "execution_count": 16,
   "id": "6eba0363-e44b-4605-8669-e392442ab562",
   "metadata": {
    "execution": {
     "iopub.execute_input": "2023-11-27T07:17:27.929590Z",
     "iopub.status.busy": "2023-11-27T07:17:27.928944Z",
     "iopub.status.idle": "2023-11-27T07:17:28.201375Z",
     "shell.execute_reply": "2023-11-27T07:17:28.200523Z",
     "shell.execute_reply.started": "2023-11-27T07:17:27.929568Z"
    }
   },
   "outputs": [
    {
     "name": "stdout",
     "output_type": "stream",
     "text": [
      "+---+---+-------+----------+-------------------+-------+\n",
      "|  a|  b|      c|         d|                  e|upper_c|\n",
      "+---+---+-------+----------+-------------------+-------+\n",
      "|  1|2.0|string1|2000-01-01|2000-01-01 12:00:00|STRING1|\n",
      "|  2|3.0|string2|2000-02-01|2000-01-02 12:00:00|STRING2|\n",
      "|  3|4.0|string3|2000-03-01|2000-01-03 12:00:00|STRING3|\n",
      "+---+---+-------+----------+-------------------+-------+\n",
      "\n"
     ]
    }
   ],
   "source": [
    "df.withColumn('upper_c', upper(df.c)).show()"
   ]
  },
  {
   "cell_type": "code",
   "execution_count": 17,
   "id": "c2dc53be-a09e-412b-95ec-d6a271df6d98",
   "metadata": {
    "execution": {
     "iopub.execute_input": "2023-11-27T07:17:28.203034Z",
     "iopub.status.busy": "2023-11-27T07:17:28.202431Z",
     "iopub.status.idle": "2023-11-27T07:17:28.491638Z",
     "shell.execute_reply": "2023-11-27T07:17:28.490798Z",
     "shell.execute_reply.started": "2023-11-27T07:17:28.203014Z"
    }
   },
   "outputs": [
    {
     "name": "stdout",
     "output_type": "stream",
     "text": [
      "+---+---+-------+----------+-------------------+\n",
      "|  a|  b|      c|         d|                  e|\n",
      "+---+---+-------+----------+-------------------+\n",
      "|  1|2.0|string1|2000-01-01|2000-01-01 12:00:00|\n",
      "+---+---+-------+----------+-------------------+\n",
      "\n"
     ]
    }
   ],
   "source": [
    "df.filter(df.a == 1).show()"
   ]
  },
  {
   "cell_type": "code",
   "execution_count": 18,
   "id": "c34cc1b8-cfae-4db7-980c-e51bc2d2b455",
   "metadata": {
    "execution": {
     "iopub.execute_input": "2023-11-27T07:17:28.493364Z",
     "iopub.status.busy": "2023-11-27T07:17:28.492634Z",
     "iopub.status.idle": "2023-11-27T07:17:28.498712Z",
     "shell.execute_reply": "2023-11-27T07:17:28.497586Z",
     "shell.execute_reply.started": "2023-11-27T07:17:28.493340Z"
    }
   },
   "outputs": [
    {
     "data": {
      "text/plain": [
       "DataFrame[a: bigint, b: double, c: string, d: date, e: timestamp]"
      ]
     },
     "execution_count": 18,
     "metadata": {},
     "output_type": "execute_result"
    }
   ],
   "source": [
    "df"
   ]
  },
  {
   "cell_type": "markdown",
   "id": "a0d94257-2bd1-49f8-b005-e95c5203b15c",
   "metadata": {},
   "source": [
    "## applying a function"
   ]
  },
  {
   "cell_type": "code",
   "execution_count": 19,
   "id": "1de9e104-62bb-4ef7-92fd-ebc9e076dd11",
   "metadata": {
    "execution": {
     "iopub.execute_input": "2023-11-27T07:17:28.500162Z",
     "iopub.status.busy": "2023-11-27T07:17:28.499906Z",
     "iopub.status.idle": "2023-11-27T07:17:29.760823Z",
     "shell.execute_reply": "2023-11-27T07:17:29.760076Z",
     "shell.execute_reply.started": "2023-11-27T07:17:28.500141Z"
    }
   },
   "outputs": [
    {
     "name": "stderr",
     "output_type": "stream",
     "text": [
      "[Stage 20:>                                                         (0 + 1) / 1]\r"
     ]
    },
    {
     "name": "stdout",
     "output_type": "stream",
     "text": [
      "+----+\n",
      "|newa|\n",
      "+----+\n",
      "|   2|\n",
      "|   3|\n",
      "|   4|\n",
      "+----+\n",
      "\n"
     ]
    },
    {
     "name": "stderr",
     "output_type": "stream",
     "text": [
      "                                                                                \r"
     ]
    }
   ],
   "source": [
    "import pandas as pd\n",
    "from pyspark.sql.functions import pandas_udf\n",
    "\n",
    "@pandas_udf('long')\n",
    "def pandas_plus_one(series: pd.Series) -> pd.Series:\n",
    "    # Simply plus one by using pandas Series.\n",
    "    return series + 1\n",
    "\n",
    "df.select(pandas_plus_one(df.a).alias('newa')).show()"
   ]
  },
  {
   "cell_type": "code",
   "execution_count": 20,
   "id": "2017aa04-e457-4e26-97b0-beef9d240028",
   "metadata": {
    "execution": {
     "iopub.execute_input": "2023-11-27T07:17:29.762206Z",
     "iopub.status.busy": "2023-11-27T07:17:29.761835Z",
     "iopub.status.idle": "2023-11-27T07:17:30.896302Z",
     "shell.execute_reply": "2023-11-27T07:17:30.895532Z",
     "shell.execute_reply.started": "2023-11-27T07:17:29.762183Z"
    }
   },
   "outputs": [
    {
     "name": "stderr",
     "output_type": "stream",
     "text": [
      "[Stage 23:>                                                         (0 + 1) / 1]\r"
     ]
    },
    {
     "name": "stdout",
     "output_type": "stream",
     "text": [
      "+---+---+-------+----------+-------------------+\n",
      "|  a|  b|      c|         d|                  e|\n",
      "+---+---+-------+----------+-------------------+\n",
      "|  1|2.0|string1|2000-01-01|2000-01-01 12:00:00|\n",
      "+---+---+-------+----------+-------------------+\n",
      "\n"
     ]
    },
    {
     "name": "stderr",
     "output_type": "stream",
     "text": [
      "                                                                                \r"
     ]
    }
   ],
   "source": [
    "def pandas_filter_func(iterator):\n",
    "    for pandas_df in iterator:\n",
    "        yield pandas_df[pandas_df.a == 1]\n",
    "\n",
    "df.mapInPandas(pandas_filter_func, schema=df.schema).show()"
   ]
  },
  {
   "cell_type": "markdown",
   "id": "a8e1d737-661a-4b11-8326-7334bcd7a050",
   "metadata": {},
   "source": [
    "## grouoping"
   ]
  },
  {
   "cell_type": "code",
   "execution_count": 21,
   "id": "8b099abf-813a-4eb3-a65a-9d9e5dc5d583",
   "metadata": {
    "execution": {
     "iopub.execute_input": "2023-11-27T07:17:30.897278Z",
     "iopub.status.busy": "2023-11-27T07:17:30.897072Z",
     "iopub.status.idle": "2023-11-27T07:17:31.205085Z",
     "shell.execute_reply": "2023-11-27T07:17:31.204298Z",
     "shell.execute_reply.started": "2023-11-27T07:17:30.897258Z"
    }
   },
   "outputs": [
    {
     "name": "stdout",
     "output_type": "stream",
     "text": [
      "+-----+------+---+---+\n",
      "|color| fruit| v1| v2|\n",
      "+-----+------+---+---+\n",
      "|  red|banana|  1| 10|\n",
      "| blue|banana|  2| 20|\n",
      "|  red|carrot|  3| 30|\n",
      "| blue| grape|  4| 40|\n",
      "|  red|carrot|  5| 50|\n",
      "|black|carrot|  6| 60|\n",
      "|  red|banana|  7| 70|\n",
      "|  red| grape|  8| 80|\n",
      "+-----+------+---+---+\n",
      "\n"
     ]
    }
   ],
   "source": [
    "df = spark.createDataFrame([\n",
    "    ['red', 'banana', 1, 10], ['blue', 'banana', 2, 20], ['red', 'carrot', 3, 30],\n",
    "    ['blue', 'grape', 4, 40], ['red', 'carrot', 5, 50], ['black', 'carrot', 6, 60],\n",
    "    ['red', 'banana', 7, 70], ['red', 'grape', 8, 80]], schema=['color', 'fruit', 'v1', 'v2'])\n",
    "df.show()"
   ]
  },
  {
   "cell_type": "code",
   "execution_count": 22,
   "id": "bc7cba76-8bc4-4f3e-a0c9-d43ea0a8ffef",
   "metadata": {
    "execution": {
     "iopub.execute_input": "2023-11-27T07:17:31.206334Z",
     "iopub.status.busy": "2023-11-27T07:17:31.206081Z",
     "iopub.status.idle": "2023-11-27T07:17:31.622852Z",
     "shell.execute_reply": "2023-11-27T07:17:31.621712Z",
     "shell.execute_reply.started": "2023-11-27T07:17:31.206314Z"
    }
   },
   "outputs": [
    {
     "name": "stdout",
     "output_type": "stream",
     "text": [
      "+-----+-------+-------+\n",
      "|color|avg(v1)|avg(v2)|\n",
      "+-----+-------+-------+\n",
      "|  red|    4.8|   48.0|\n",
      "| blue|    3.0|   30.0|\n",
      "|black|    6.0|   60.0|\n",
      "+-----+-------+-------+\n",
      "\n"
     ]
    }
   ],
   "source": [
    "df.groupby('color').avg().show()"
   ]
  },
  {
   "cell_type": "code",
   "execution_count": 23,
   "id": "e25ae825-6ff2-4ea7-9184-587d7ae6ae57",
   "metadata": {
    "execution": {
     "iopub.execute_input": "2023-11-27T07:17:31.624906Z",
     "iopub.status.busy": "2023-11-27T07:17:31.624321Z",
     "iopub.status.idle": "2023-11-27T07:17:32.096774Z",
     "shell.execute_reply": "2023-11-27T07:17:32.095888Z",
     "shell.execute_reply.started": "2023-11-27T07:17:31.624881Z"
    }
   },
   "outputs": [
    {
     "name": "stdout",
     "output_type": "stream",
     "text": [
      "+-----+------+---+---+\n",
      "|color| fruit| v1| v2|\n",
      "+-----+------+---+---+\n",
      "|black|carrot|  0| 60|\n",
      "| blue|banana| -1| 20|\n",
      "| blue| grape|  1| 40|\n",
      "|  red|banana| -3| 10|\n",
      "|  red|carrot| -1| 30|\n",
      "|  red|carrot|  0| 50|\n",
      "|  red|banana|  2| 70|\n",
      "|  red| grape|  3| 80|\n",
      "+-----+------+---+---+\n",
      "\n"
     ]
    }
   ],
   "source": [
    "def plus_mean(pandas_df):\n",
    "    return pandas_df.assign(v1=pandas_df.v1 - pandas_df.v1.mean())\n",
    "\n",
    "df.groupby('color').applyInPandas(plus_mean, schema=df.schema).show()"
   ]
  },
  {
   "cell_type": "code",
   "execution_count": 24,
   "id": "8c121bfa-b1ba-44d1-8e2d-91ad7ee77c4d",
   "metadata": {
    "execution": {
     "iopub.execute_input": "2023-11-27T07:17:32.098631Z",
     "iopub.status.busy": "2023-11-27T07:17:32.097936Z",
     "iopub.status.idle": "2023-11-27T07:17:32.914640Z",
     "shell.execute_reply": "2023-11-27T07:17:32.913693Z",
     "shell.execute_reply.started": "2023-11-27T07:17:32.098606Z"
    }
   },
   "outputs": [
    {
     "name": "stdout",
     "output_type": "stream",
     "text": [
      "+--------+---+---+----+\n",
      "|    time| id| v1|  v2|\n",
      "+--------+---+---+----+\n",
      "|20000101|  1|1.0|   x|\n",
      "|20000102|  1|3.0|NULL|\n",
      "|20000101|  2|2.0|   y|\n",
      "|20000102|  2|4.0|NULL|\n",
      "+--------+---+---+----+\n",
      "\n"
     ]
    }
   ],
   "source": [
    "df1 = spark.createDataFrame(\n",
    "    [(20000101, 1, 1.0), (20000101, 2, 2.0), (20000102, 1, 3.0), (20000102, 2, 4.0)],\n",
    "    ('time', 'id', 'v1'))\n",
    "\n",
    "df2 = spark.createDataFrame(\n",
    "    [(20000101, 1, 'x'), (20000101, 2, 'y')],\n",
    "    ('time', 'id', 'v2'))\n",
    "\n",
    "def merge_ordered(l, r):\n",
    "    return pd.merge_ordered(l, r)\n",
    "\n",
    "df1.groupby('id').cogroup(df2.groupby('id')).applyInPandas(\n",
    "    merge_ordered, schema='time int, id int, v1 double, v2 string').show()"
   ]
  },
  {
   "cell_type": "markdown",
   "id": "bd547eeb-07ef-42f2-818d-68260a2acdbf",
   "metadata": {},
   "source": [
    "## getting in/out"
   ]
  },
  {
   "cell_type": "code",
   "execution_count": 25,
   "id": "85c68128-a658-475f-8811-c7c1bf8e115d",
   "metadata": {
    "execution": {
     "iopub.execute_input": "2023-11-27T07:17:32.916165Z",
     "iopub.status.busy": "2023-11-27T07:17:32.915720Z",
     "iopub.status.idle": "2023-11-27T07:17:34.771999Z",
     "shell.execute_reply": "2023-11-27T07:17:34.771211Z",
     "shell.execute_reply.started": "2023-11-27T07:17:32.916142Z"
    }
   },
   "outputs": [
    {
     "name": "stderr",
     "output_type": "stream",
     "text": [
      "                                                                                \r"
     ]
    },
    {
     "name": "stdout",
     "output_type": "stream",
     "text": [
      "+-----+------+---+---+\n",
      "|color| fruit| v1| v2|\n",
      "+-----+------+---+---+\n",
      "|  red|banana|  1| 10|\n",
      "| blue|banana|  2| 20|\n",
      "|  red|carrot|  3| 30|\n",
      "| blue| grape|  4| 40|\n",
      "|  red|carrot|  5| 50|\n",
      "|black|carrot|  6| 60|\n",
      "|  red|banana|  7| 70|\n",
      "|  red| grape|  8| 80|\n",
      "+-----+------+---+---+\n",
      "\n"
     ]
    }
   ],
   "source": [
    "# csv\n",
    "df.write.csv('foo.csv', header=True, mode='overwrite')\n",
    "spark.read.csv('foo.csv', header=True).show()"
   ]
  },
  {
   "cell_type": "code",
   "execution_count": 33,
   "id": "dba60b7c-25db-413b-9076-e455c1f33444",
   "metadata": {
    "execution": {
     "iopub.execute_input": "2023-11-27T07:32:37.063214Z",
     "iopub.status.busy": "2023-11-27T07:32:37.062605Z",
     "iopub.status.idle": "2023-11-27T07:32:37.841761Z",
     "shell.execute_reply": "2023-11-27T07:32:37.840879Z",
     "shell.execute_reply.started": "2023-11-27T07:32:37.063190Z"
    }
   },
   "outputs": [],
   "source": [
    "df.write.csv('file:///home/jupyter/data/foo.csv', header=True, mode='overwrite')\n",
    "df.coalesce(1).write.csv('file:///home/jupyter/data/foo.csv', header=True, mode='overwrite')\n",
    "# spark.read.csv('file:///home/jupyter/data/foo.csv', header=True).show()"
   ]
  },
  {
   "cell_type": "code",
   "execution_count": 27,
   "id": "ca9c7c22-8894-4d06-88a4-fe04490d9258",
   "metadata": {
    "execution": {
     "iopub.execute_input": "2023-11-27T07:17:35.184647Z",
     "iopub.status.busy": "2023-11-27T07:17:35.184451Z",
     "iopub.status.idle": "2023-11-27T07:17:36.556372Z",
     "shell.execute_reply": "2023-11-27T07:17:36.555529Z",
     "shell.execute_reply.started": "2023-11-27T07:17:35.184628Z"
    }
   },
   "outputs": [
    {
     "name": "stderr",
     "output_type": "stream",
     "text": [
      "                                                                                \r"
     ]
    },
    {
     "name": "stdout",
     "output_type": "stream",
     "text": [
      "+-----+------+---+---+\n",
      "|color| fruit| v1| v2|\n",
      "+-----+------+---+---+\n",
      "|  red|carrot|  5| 50|\n",
      "|black|carrot|  6| 60|\n",
      "|  red|banana|  7| 70|\n",
      "|  red| grape|  8| 80|\n",
      "|  red|banana|  1| 10|\n",
      "| blue|banana|  2| 20|\n",
      "|  red|carrot|  3| 30|\n",
      "| blue| grape|  4| 40|\n",
      "+-----+------+---+---+\n",
      "\n"
     ]
    }
   ],
   "source": [
    "# parquet\n",
    "df.write.parquet('bar.parquet')\n",
    "spark.read.parquet('bar.parquet').show()"
   ]
  },
  {
   "cell_type": "code",
   "execution_count": 28,
   "id": "fb3a03b1-a3f4-486d-b7d7-75de0afb5b05",
   "metadata": {
    "execution": {
     "iopub.execute_input": "2023-11-27T07:17:36.557925Z",
     "iopub.status.busy": "2023-11-27T07:17:36.557391Z",
     "iopub.status.idle": "2023-11-27T07:17:38.003351Z",
     "shell.execute_reply": "2023-11-27T07:17:38.002466Z",
     "shell.execute_reply.started": "2023-11-27T07:17:36.557903Z"
    }
   },
   "outputs": [
    {
     "name": "stdout",
     "output_type": "stream",
     "text": [
      "+-----+------+---+---+\n",
      "|color| fruit| v1| v2|\n",
      "+-----+------+---+---+\n",
      "|  red|carrot|  5| 50|\n",
      "|black|carrot|  6| 60|\n",
      "|  red|banana|  7| 70|\n",
      "|  red| grape|  8| 80|\n",
      "|  red|banana|  1| 10|\n",
      "| blue|banana|  2| 20|\n",
      "|  red|carrot|  3| 30|\n",
      "| blue| grape|  4| 40|\n",
      "+-----+------+---+---+\n",
      "\n"
     ]
    }
   ],
   "source": [
    "# orc\n",
    "df.write.orc('zoo.orc')\n",
    "spark.read.orc('zoo.orc').show()"
   ]
  },
  {
   "cell_type": "markdown",
   "id": "87d0b8ec-bb8e-454f-b5d3-fc0c97ce7125",
   "metadata": {},
   "source": [
    "## working with sql"
   ]
  },
  {
   "cell_type": "code",
   "execution_count": 29,
   "id": "a43f4d20-ca28-4256-9d43-79fe13dd10c1",
   "metadata": {
    "execution": {
     "iopub.execute_input": "2023-11-27T07:17:38.004761Z",
     "iopub.status.busy": "2023-11-27T07:17:38.004263Z",
     "iopub.status.idle": "2023-11-27T07:17:38.268526Z",
     "shell.execute_reply": "2023-11-27T07:17:38.267593Z",
     "shell.execute_reply.started": "2023-11-27T07:17:38.004718Z"
    }
   },
   "outputs": [
    {
     "name": "stdout",
     "output_type": "stream",
     "text": [
      "+--------+\n",
      "|count(1)|\n",
      "+--------+\n",
      "|       8|\n",
      "+--------+\n",
      "\n"
     ]
    }
   ],
   "source": [
    "df.createOrReplaceTempView(\"tablea\")\n",
    "spark.sql(\"select count(*) from tablea\").show()"
   ]
  },
  {
   "cell_type": "code",
   "execution_count": 30,
   "id": "f1453784-7aa5-4685-b909-521c7dca32d7",
   "metadata": {
    "execution": {
     "iopub.execute_input": "2023-11-27T07:17:38.270252Z",
     "iopub.status.busy": "2023-11-27T07:17:38.269756Z",
     "iopub.status.idle": "2023-11-27T07:17:38.659590Z",
     "shell.execute_reply": "2023-11-27T07:17:38.655767Z",
     "shell.execute_reply.started": "2023-11-27T07:17:38.270220Z"
    }
   },
   "outputs": [
    {
     "data": {
      "text/plain": [
       "<pyspark.sql.udf.UserDefinedFunction at 0x7fafbf27a770>"
      ]
     },
     "execution_count": 30,
     "metadata": {},
     "output_type": "execute_result"
    },
    {
     "name": "stdout",
     "output_type": "stream",
     "text": [
      "+-----------+\n",
      "|add_one(v1)|\n",
      "+-----------+\n",
      "|          2|\n",
      "|          3|\n",
      "|          4|\n",
      "|          5|\n",
      "|          6|\n",
      "|          7|\n",
      "|          8|\n",
      "|          9|\n",
      "+-----------+\n",
      "\n"
     ]
    }
   ],
   "source": [
    "@pandas_udf(\"integer\")\n",
    "def add_one(s: pd.Series) -> pd.Series:\n",
    "    return s + 1\n",
    "\n",
    "spark.udf.register(\"add_one\", add_one)\n",
    "spark.sql(\"select add_one(v1) from tablea\").show()"
   ]
  },
  {
   "cell_type": "code",
   "execution_count": 31,
   "id": "c61f5b06-674a-4900-9e43-318e3ac4f226",
   "metadata": {
    "execution": {
     "iopub.execute_input": "2023-11-27T07:17:38.661150Z",
     "iopub.status.busy": "2023-11-27T07:17:38.660751Z",
     "iopub.status.idle": "2023-11-27T07:17:39.674890Z",
     "shell.execute_reply": "2023-11-27T07:17:39.673877Z",
     "shell.execute_reply.started": "2023-11-27T07:17:38.661114Z"
    }
   },
   "outputs": [
    {
     "name": "stdout",
     "output_type": "stream",
     "text": [
      "+-----------+\n",
      "|add_one(v1)|\n",
      "+-----------+\n",
      "|          2|\n",
      "|          3|\n",
      "|          4|\n",
      "|          5|\n",
      "|          6|\n",
      "|          7|\n",
      "|          8|\n",
      "|          9|\n",
      "+-----------+\n",
      "\n",
      "+-----------+\n",
      "|add_one(v1)|\n",
      "+-----------+\n",
      "|          2|\n",
      "|          3|\n",
      "|          4|\n",
      "|          5|\n",
      "|          6|\n",
      "|          7|\n",
      "|          8|\n",
      "|          9|\n",
      "+-----------+\n",
      "\n",
      "+--------+\n",
      "|count(1)|\n",
      "+--------+\n",
      "|       8|\n",
      "+--------+\n",
      "\n",
      "+--------------+\n",
      "|(count(1) > 0)|\n",
      "+--------------+\n",
      "|          true|\n",
      "+--------------+\n",
      "\n"
     ]
    }
   ],
   "source": [
    "from pyspark.sql.functions import expr\n",
    "\n",
    "df.selectExpr('add_one(v1)').show()\n",
    "df.select(expr('add_one(v1)')).show()\n",
    "df.select(expr('count(*)')).show()\n",
    "df.select(expr('count(*)') > 0).show()"
   ]
  },
  {
   "cell_type": "code",
   "execution_count": null,
   "id": "f4f697ed-ee50-46ca-991d-3e921fa4de45",
   "metadata": {},
   "outputs": [],
   "source": []
  }
 ],
 "metadata": {
  "kernelspec": {
   "display_name": "Python 3 (ipykernel)",
   "language": "python",
   "name": "python3"
  },
  "language_info": {
   "codemirror_mode": {
    "name": "ipython",
    "version": 3
   },
   "file_extension": ".py",
   "mimetype": "text/x-python",
   "name": "python",
   "nbconvert_exporter": "python",
   "pygments_lexer": "ipython3",
   "version": "3.10.12"
  },
  "widgets": {
   "application/vnd.jupyter.widget-state+json": {
    "state": {},
    "version_major": 2,
    "version_minor": 0
   }
  }
 },
 "nbformat": 4,
 "nbformat_minor": 5
}
